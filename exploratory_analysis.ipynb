{
 "cells": [
  {
   "cell_type": "code",
   "execution_count": 1,
   "id": "766412a3-0da9-4359-9523-553ffaacad27",
   "metadata": {},
   "outputs": [],
   "source": [
    "import pandas as pd\n",
    "DATA_PATH = \"datasets/\""
   ]
  },
  {
   "cell_type": "markdown",
   "id": "f7f07cd4-8b49-4069-b835-e67c3edb5ad6",
   "metadata": {},
   "source": [
    "# Exploratory data analysis"
   ]
  },
  {
   "cell_type": "markdown",
   "id": "5034534a-be9b-4f17-88bd-73a528022ae2",
   "metadata": {},
   "source": [
    "### World population"
   ]
  },
  {
   "cell_type": "markdown",
   "id": "7bdc5532-57ef-412a-9f6d-955e7e61c92d",
   "metadata": {},
   "source": [
    "Pre-processing:"
   ]
  },
  {
   "cell_type": "code",
   "execution_count": 2,
   "id": "33ec0ddc-ece6-42dc-909f-de02dba8c1b2",
   "metadata": {},
   "outputs": [],
   "source": [
    "world_pop = pd.read_csv(DATA_PATH + \"world_population.csv\")\n",
    "# Rename column to match naming of other tables\n",
    "world_pop = world_pop.rename(columns = {'CCA3': 'Code'}) "
   ]
  },
  {
   "cell_type": "code",
   "execution_count": 3,
   "id": "409f7f96-1c83-4a2e-90c8-33bf61823240",
   "metadata": {},
   "outputs": [
    {
     "name": "stdout",
     "output_type": "stream",
     "text": [
      "Data available for 234 countries.\n"
     ]
    },
    {
     "data": {
      "text/html": [
       "<div>\n",
       "<style scoped>\n",
       "    .dataframe tbody tr th:only-of-type {\n",
       "        vertical-align: middle;\n",
       "    }\n",
       "\n",
       "    .dataframe tbody tr th {\n",
       "        vertical-align: top;\n",
       "    }\n",
       "\n",
       "    .dataframe thead th {\n",
       "        text-align: right;\n",
       "    }\n",
       "</style>\n",
       "<table border=\"1\" class=\"dataframe\">\n",
       "  <thead>\n",
       "    <tr style=\"text-align: right;\">\n",
       "      <th></th>\n",
       "      <th>Rank</th>\n",
       "      <th>Code</th>\n",
       "      <th>Country/Territory</th>\n",
       "      <th>Capital</th>\n",
       "      <th>Continent</th>\n",
       "      <th>2022 Population</th>\n",
       "      <th>2020 Population</th>\n",
       "      <th>2015 Population</th>\n",
       "      <th>2010 Population</th>\n",
       "      <th>2000 Population</th>\n",
       "      <th>1990 Population</th>\n",
       "      <th>1980 Population</th>\n",
       "      <th>1970 Population</th>\n",
       "      <th>Area (km²)</th>\n",
       "      <th>Density (per km²)</th>\n",
       "      <th>Growth Rate</th>\n",
       "      <th>World Population Percentage</th>\n",
       "    </tr>\n",
       "  </thead>\n",
       "  <tbody>\n",
       "    <tr>\n",
       "      <th>0</th>\n",
       "      <td>36</td>\n",
       "      <td>AFG</td>\n",
       "      <td>Afghanistan</td>\n",
       "      <td>Kabul</td>\n",
       "      <td>Asia</td>\n",
       "      <td>41128771</td>\n",
       "      <td>38972230</td>\n",
       "      <td>33753499</td>\n",
       "      <td>28189672</td>\n",
       "      <td>19542982</td>\n",
       "      <td>10694796</td>\n",
       "      <td>12486631</td>\n",
       "      <td>10752971</td>\n",
       "      <td>652230</td>\n",
       "      <td>63.0587</td>\n",
       "      <td>1.0257</td>\n",
       "      <td>0.52</td>\n",
       "    </tr>\n",
       "    <tr>\n",
       "      <th>1</th>\n",
       "      <td>138</td>\n",
       "      <td>ALB</td>\n",
       "      <td>Albania</td>\n",
       "      <td>Tirana</td>\n",
       "      <td>Europe</td>\n",
       "      <td>2842321</td>\n",
       "      <td>2866849</td>\n",
       "      <td>2882481</td>\n",
       "      <td>2913399</td>\n",
       "      <td>3182021</td>\n",
       "      <td>3295066</td>\n",
       "      <td>2941651</td>\n",
       "      <td>2324731</td>\n",
       "      <td>28748</td>\n",
       "      <td>98.8702</td>\n",
       "      <td>0.9957</td>\n",
       "      <td>0.04</td>\n",
       "    </tr>\n",
       "    <tr>\n",
       "      <th>2</th>\n",
       "      <td>34</td>\n",
       "      <td>DZA</td>\n",
       "      <td>Algeria</td>\n",
       "      <td>Algiers</td>\n",
       "      <td>Africa</td>\n",
       "      <td>44903225</td>\n",
       "      <td>43451666</td>\n",
       "      <td>39543154</td>\n",
       "      <td>35856344</td>\n",
       "      <td>30774621</td>\n",
       "      <td>25518074</td>\n",
       "      <td>18739378</td>\n",
       "      <td>13795915</td>\n",
       "      <td>2381741</td>\n",
       "      <td>18.8531</td>\n",
       "      <td>1.0164</td>\n",
       "      <td>0.56</td>\n",
       "    </tr>\n",
       "    <tr>\n",
       "      <th>3</th>\n",
       "      <td>213</td>\n",
       "      <td>ASM</td>\n",
       "      <td>American Samoa</td>\n",
       "      <td>Pago Pago</td>\n",
       "      <td>Oceania</td>\n",
       "      <td>44273</td>\n",
       "      <td>46189</td>\n",
       "      <td>51368</td>\n",
       "      <td>54849</td>\n",
       "      <td>58230</td>\n",
       "      <td>47818</td>\n",
       "      <td>32886</td>\n",
       "      <td>27075</td>\n",
       "      <td>199</td>\n",
       "      <td>222.4774</td>\n",
       "      <td>0.9831</td>\n",
       "      <td>0.00</td>\n",
       "    </tr>\n",
       "    <tr>\n",
       "      <th>4</th>\n",
       "      <td>203</td>\n",
       "      <td>AND</td>\n",
       "      <td>Andorra</td>\n",
       "      <td>Andorra la Vella</td>\n",
       "      <td>Europe</td>\n",
       "      <td>79824</td>\n",
       "      <td>77700</td>\n",
       "      <td>71746</td>\n",
       "      <td>71519</td>\n",
       "      <td>66097</td>\n",
       "      <td>53569</td>\n",
       "      <td>35611</td>\n",
       "      <td>19860</td>\n",
       "      <td>468</td>\n",
       "      <td>170.5641</td>\n",
       "      <td>1.0100</td>\n",
       "      <td>0.00</td>\n",
       "    </tr>\n",
       "  </tbody>\n",
       "</table>\n",
       "</div>"
      ],
      "text/plain": [
       "   Rank Code Country/Territory           Capital Continent  2022 Population  \\\n",
       "0    36  AFG       Afghanistan             Kabul      Asia         41128771   \n",
       "1   138  ALB           Albania            Tirana    Europe          2842321   \n",
       "2    34  DZA           Algeria           Algiers    Africa         44903225   \n",
       "3   213  ASM    American Samoa         Pago Pago   Oceania            44273   \n",
       "4   203  AND           Andorra  Andorra la Vella    Europe            79824   \n",
       "\n",
       "   2020 Population  2015 Population  2010 Population  2000 Population  \\\n",
       "0         38972230         33753499         28189672         19542982   \n",
       "1          2866849          2882481          2913399          3182021   \n",
       "2         43451666         39543154         35856344         30774621   \n",
       "3            46189            51368            54849            58230   \n",
       "4            77700            71746            71519            66097   \n",
       "\n",
       "   1990 Population  1980 Population  1970 Population  Area (km²)  \\\n",
       "0         10694796         12486631         10752971      652230   \n",
       "1          3295066          2941651          2324731       28748   \n",
       "2         25518074         18739378         13795915     2381741   \n",
       "3            47818            32886            27075         199   \n",
       "4            53569            35611            19860         468   \n",
       "\n",
       "   Density (per km²)  Growth Rate  World Population Percentage  \n",
       "0            63.0587       1.0257                         0.52  \n",
       "1            98.8702       0.9957                         0.04  \n",
       "2            18.8531       1.0164                         0.56  \n",
       "3           222.4774       0.9831                         0.00  \n",
       "4           170.5641       1.0100                         0.00  "
      ]
     },
     "execution_count": 3,
     "metadata": {},
     "output_type": "execute_result"
    }
   ],
   "source": [
    "print(f\"Data available for {len(world_pop['Code'].unique())} countries.\")\n",
    "world_pop.head()"
   ]
  },
  {
   "cell_type": "markdown",
   "id": "141ab256-d774-45b3-b149-1c4fcf83e0eb",
   "metadata": {},
   "source": [
    "We check for NaNs:"
   ]
  },
  {
   "cell_type": "code",
   "execution_count": 4,
   "id": "72167127-e886-4632-abed-d7b0f5e78161",
   "metadata": {},
   "outputs": [
    {
     "name": "stdout",
     "output_type": "stream",
     "text": [
      "Number of rows with NaN values: 0\n"
     ]
    }
   ],
   "source": [
    "print(f\"Number of rows with NaN values: {world_pop[world_pop.isna().any(axis=1)].shape[0]}\")"
   ]
  },
  {
   "cell_type": "markdown",
   "id": "3dacc949-e04c-436d-8bb6-136c7a846ad0",
   "metadata": {},
   "source": [
    "### Average monthly temperatures"
   ]
  },
  {
   "cell_type": "markdown",
   "id": "395afb82-ea95-42b3-9feb-19e20c134e42",
   "metadata": {},
   "source": [
    "We start with some pre-processing:"
   ]
  },
  {
   "cell_type": "code",
   "execution_count": 5,
   "id": "5e7a79cb-71d4-474d-b2e2-50c9a5973027",
   "metadata": {},
   "outputs": [],
   "source": [
    "temperatures = pd.read_csv(DATA_PATH + \"average-monthly-surface-temperature.csv\")\n",
    "# Rename columns based on their actual meaning explained on Kaggle\n",
    "temperatures = temperatures.rename(columns = {'Average surface temperature': 'Monthly average surface temperature',\n",
    "                                             'Average surface temperature.1': 'Yearly average surface temperature',\n",
    "                                             'Day': 'Month', 'year': 'Year'})\n",
    "temperatures['Month'] = pd.to_datetime(temperatures['Month']).dt.strftime(\"%m\")"
   ]
  },
  {
   "cell_type": "code",
   "execution_count": 6,
   "id": "e47f4bb7-9796-448d-ab5f-5ff64eb35802",
   "metadata": {},
   "outputs": [
    {
     "name": "stdout",
     "output_type": "stream",
     "text": [
      "198900 data points\n"
     ]
    },
    {
     "data": {
      "text/html": [
       "<div>\n",
       "<style scoped>\n",
       "    .dataframe tbody tr th:only-of-type {\n",
       "        vertical-align: middle;\n",
       "    }\n",
       "\n",
       "    .dataframe tbody tr th {\n",
       "        vertical-align: top;\n",
       "    }\n",
       "\n",
       "    .dataframe thead th {\n",
       "        text-align: right;\n",
       "    }\n",
       "</style>\n",
       "<table border=\"1\" class=\"dataframe\">\n",
       "  <thead>\n",
       "    <tr style=\"text-align: right;\">\n",
       "      <th></th>\n",
       "      <th>Entity</th>\n",
       "      <th>Code</th>\n",
       "      <th>Year</th>\n",
       "      <th>Month</th>\n",
       "      <th>Monthly average surface temperature</th>\n",
       "      <th>Yearly average surface temperature</th>\n",
       "    </tr>\n",
       "  </thead>\n",
       "  <tbody>\n",
       "    <tr>\n",
       "      <th>0</th>\n",
       "      <td>Afghanistan</td>\n",
       "      <td>AFG</td>\n",
       "      <td>1940</td>\n",
       "      <td>01</td>\n",
       "      <td>-2.032494</td>\n",
       "      <td>11.327695</td>\n",
       "    </tr>\n",
       "    <tr>\n",
       "      <th>1</th>\n",
       "      <td>Afghanistan</td>\n",
       "      <td>AFG</td>\n",
       "      <td>1940</td>\n",
       "      <td>02</td>\n",
       "      <td>-0.733503</td>\n",
       "      <td>11.327695</td>\n",
       "    </tr>\n",
       "    <tr>\n",
       "      <th>2</th>\n",
       "      <td>Afghanistan</td>\n",
       "      <td>AFG</td>\n",
       "      <td>1940</td>\n",
       "      <td>03</td>\n",
       "      <td>1.999134</td>\n",
       "      <td>11.327695</td>\n",
       "    </tr>\n",
       "    <tr>\n",
       "      <th>3</th>\n",
       "      <td>Afghanistan</td>\n",
       "      <td>AFG</td>\n",
       "      <td>1940</td>\n",
       "      <td>04</td>\n",
       "      <td>10.199754</td>\n",
       "      <td>11.327695</td>\n",
       "    </tr>\n",
       "    <tr>\n",
       "      <th>4</th>\n",
       "      <td>Afghanistan</td>\n",
       "      <td>AFG</td>\n",
       "      <td>1940</td>\n",
       "      <td>05</td>\n",
       "      <td>17.942135</td>\n",
       "      <td>11.327695</td>\n",
       "    </tr>\n",
       "  </tbody>\n",
       "</table>\n",
       "</div>"
      ],
      "text/plain": [
       "        Entity Code  Year Month  Monthly average surface temperature  \\\n",
       "0  Afghanistan  AFG  1940    01                            -2.032494   \n",
       "1  Afghanistan  AFG  1940    02                            -0.733503   \n",
       "2  Afghanistan  AFG  1940    03                             1.999134   \n",
       "3  Afghanistan  AFG  1940    04                            10.199754   \n",
       "4  Afghanistan  AFG  1940    05                            17.942135   \n",
       "\n",
       "   Yearly average surface temperature  \n",
       "0                           11.327695  \n",
       "1                           11.327695  \n",
       "2                           11.327695  \n",
       "3                           11.327695  \n",
       "4                           11.327695  "
      ]
     },
     "execution_count": 6,
     "metadata": {},
     "output_type": "execute_result"
    }
   ],
   "source": [
    "print(f\"{temperatures.shape[0]} data points\")\n",
    "temperatures.head()"
   ]
  },
  {
   "cell_type": "code",
   "execution_count": 7,
   "id": "4b8a1deb-3fa6-405a-849e-427b2628ddce",
   "metadata": {},
   "outputs": [
    {
     "name": "stdout",
     "output_type": "stream",
     "text": [
      "Data available for 195 countries.\n"
     ]
    }
   ],
   "source": [
    "print(f\"Data available for {len(temperatures['Code'].unique())} countries.\")"
   ]
  },
  {
   "cell_type": "markdown",
   "id": "91adb103-d6b0-4faa-bf8e-db582228925b",
   "metadata": {},
   "source": [
    "We check that each month of each year is present for every country:"
   ]
  },
  {
   "cell_type": "code",
   "execution_count": 8,
   "id": "dd249795-53dc-467b-8bac-70715355e91c",
   "metadata": {},
   "outputs": [],
   "source": [
    "assert len(temperatures['Code'].unique()) * 12 * (temperatures['Year'].max() - temperatures['Year'].min() + 1) == temperatures.shape[0]"
   ]
  },
  {
   "cell_type": "markdown",
   "id": "ff59639e-63e4-4f66-8a82-440644f0adb5",
   "metadata": {},
   "source": [
    "We check for NaNs:"
   ]
  },
  {
   "cell_type": "code",
   "execution_count": 9,
   "id": "c3943883-4261-4772-b633-ad01a10c5350",
   "metadata": {},
   "outputs": [
    {
     "name": "stdout",
     "output_type": "stream",
     "text": [
      "Number of rows with NaN values: 0\n"
     ]
    }
   ],
   "source": [
    "print(f\"Number of rows with NaN values: {temperatures[temperatures.isna().any(axis=1)].shape[0]}\")"
   ]
  },
  {
   "cell_type": "markdown",
   "id": "fcfa0350-9f92-4065-9b18-cd17b7de391f",
   "metadata": {},
   "source": [
    "Here are the five warmest countries over the last 25 years:"
   ]
  },
  {
   "cell_type": "code",
   "execution_count": 10,
   "id": "25bf9f0b-9741-4c48-ade2-30819b1969a0",
   "metadata": {},
   "outputs": [
    {
     "data": {
      "text/html": [
       "<div>\n",
       "<style scoped>\n",
       "    .dataframe tbody tr th:only-of-type {\n",
       "        vertical-align: middle;\n",
       "    }\n",
       "\n",
       "    .dataframe tbody tr th {\n",
       "        vertical-align: top;\n",
       "    }\n",
       "\n",
       "    .dataframe thead th {\n",
       "        text-align: right;\n",
       "    }\n",
       "</style>\n",
       "<table border=\"1\" class=\"dataframe\">\n",
       "  <thead>\n",
       "    <tr style=\"text-align: right;\">\n",
       "      <th></th>\n",
       "      <th>Entity</th>\n",
       "      <th>Monthly average surface temperature</th>\n",
       "    </tr>\n",
       "  </thead>\n",
       "  <tbody>\n",
       "    <tr>\n",
       "      <th>112</th>\n",
       "      <td>Mali</td>\n",
       "      <td>28.994181</td>\n",
       "    </tr>\n",
       "    <tr>\n",
       "      <th>27</th>\n",
       "      <td>Burkina Faso</td>\n",
       "      <td>28.896367</td>\n",
       "    </tr>\n",
       "    <tr>\n",
       "      <th>153</th>\n",
       "      <td>Senegal</td>\n",
       "      <td>28.892454</td>\n",
       "    </tr>\n",
       "    <tr>\n",
       "      <th>50</th>\n",
       "      <td>Djibouti</td>\n",
       "      <td>28.534796</td>\n",
       "    </tr>\n",
       "    <tr>\n",
       "      <th>182</th>\n",
       "      <td>United Arab Emirates</td>\n",
       "      <td>28.463493</td>\n",
       "    </tr>\n",
       "  </tbody>\n",
       "</table>\n",
       "</div>"
      ],
      "text/plain": [
       "                   Entity  Monthly average surface temperature\n",
       "112                  Mali                            28.994181\n",
       "27           Burkina Faso                            28.896367\n",
       "153               Senegal                            28.892454\n",
       "50               Djibouti                            28.534796\n",
       "182  United Arab Emirates                            28.463493"
      ]
     },
     "execution_count": 10,
     "metadata": {},
     "output_type": "execute_result"
    }
   ],
   "source": [
    "temperatures[temperatures[\"Year\"] > 2000].groupby(\"Entity\")[\"Monthly average surface temperature\"].mean().reset_index().sort_values(\n",
    "    by=\"Monthly average surface temperature\", ascending=False).head()"
   ]
  },
  {
   "cell_type": "markdown",
   "id": "63bd5b52-f04c-4015-b095-190ef45b198d",
   "metadata": {},
   "source": [
    "And the five coldest:"
   ]
  },
  {
   "cell_type": "code",
   "execution_count": 11,
   "id": "658a93a2-b1e8-4c07-b2c7-b47d8602fb44",
   "metadata": {},
   "outputs": [
    {
     "data": {
      "text/html": [
       "<div>\n",
       "<style scoped>\n",
       "    .dataframe tbody tr th:only-of-type {\n",
       "        vertical-align: middle;\n",
       "    }\n",
       "\n",
       "    .dataframe tbody tr th {\n",
       "        vertical-align: top;\n",
       "    }\n",
       "\n",
       "    .dataframe thead th {\n",
       "        text-align: right;\n",
       "    }\n",
       "</style>\n",
       "<table border=\"1\" class=\"dataframe\">\n",
       "  <thead>\n",
       "    <tr style=\"text-align: right;\">\n",
       "      <th></th>\n",
       "      <th>Entity</th>\n",
       "      <th>Monthly average surface temperature</th>\n",
       "    </tr>\n",
       "  </thead>\n",
       "  <tbody>\n",
       "    <tr>\n",
       "      <th>73</th>\n",
       "      <td>Greenland</td>\n",
       "      <td>-17.909013</td>\n",
       "    </tr>\n",
       "    <tr>\n",
       "      <th>31</th>\n",
       "      <td>Canada</td>\n",
       "      <td>-3.334756</td>\n",
       "    </tr>\n",
       "    <tr>\n",
       "      <th>146</th>\n",
       "      <td>Russia</td>\n",
       "      <td>-3.127702</td>\n",
       "    </tr>\n",
       "    <tr>\n",
       "      <th>162</th>\n",
       "      <td>South Georgia and the South Sandwich Islands</td>\n",
       "      <td>-0.555846</td>\n",
       "    </tr>\n",
       "    <tr>\n",
       "      <th>172</th>\n",
       "      <td>Tajikistan</td>\n",
       "      <td>0.315281</td>\n",
       "    </tr>\n",
       "  </tbody>\n",
       "</table>\n",
       "</div>"
      ],
      "text/plain": [
       "                                           Entity  \\\n",
       "73                                      Greenland   \n",
       "31                                         Canada   \n",
       "146                                        Russia   \n",
       "162  South Georgia and the South Sandwich Islands   \n",
       "172                                    Tajikistan   \n",
       "\n",
       "     Monthly average surface temperature  \n",
       "73                            -17.909013  \n",
       "31                             -3.334756  \n",
       "146                            -3.127702  \n",
       "162                            -0.555846  \n",
       "172                             0.315281  "
      ]
     },
     "execution_count": 11,
     "metadata": {},
     "output_type": "execute_result"
    }
   ],
   "source": [
    "temperatures[temperatures[\"Year\"] > 2000].groupby(\"Entity\")[\"Monthly average surface temperature\"].mean().reset_index().sort_values(\n",
    "    by=\"Monthly average surface temperature\", ascending=True).head()"
   ]
  },
  {
   "cell_type": "markdown",
   "id": "8af5c37e-15a5-441a-b0e3-3fe0e5745efc",
   "metadata": {},
   "source": [
    "### UNESCO World Heritage sites"
   ]
  },
  {
   "cell_type": "markdown",
   "id": "c2ea64e3-aa47-4e52-adea-518c5bb46f1e",
   "metadata": {},
   "source": [
    "#### Number of sites per country"
   ]
  },
  {
   "cell_type": "markdown",
   "id": "3363887b-131e-4443-acef-efa9745c791f",
   "metadata": {},
   "source": [
    "Pre-processing:"
   ]
  },
  {
   "cell_type": "code",
   "execution_count": 12,
   "id": "edac21c9-fd92-4a3f-9004-06ded000538f",
   "metadata": {},
   "outputs": [],
   "source": [
    "uwh = pd.read_csv(DATA_PATH + \"uwh_by_country.csv\")\n",
    "\n",
    "# Add country code\n",
    "for i, row in uwh.iterrows():\n",
    "    match = world_pop[world_pop['Country/Territory'] == row['States Parties']]\n",
    "    # Check that the country is present in temperatures table\n",
    "    if len(match) != 0:\n",
    "        uwh.at[i, 'Code'] = match.iloc[0]['Code']\n",
    "    else:\n",
    "        uwh.at[i, 'Code'] = \"\"  # Add empty string if no match"
   ]
  },
  {
   "cell_type": "markdown",
   "id": "02b5c9ea-a236-406f-8ec7-0a02a8934193",
   "metadata": {},
   "source": [
    "We see below that some countries are not present or named differently in the world_pop table. This means that we have to add the country codes manually: "
   ]
  },
  {
   "cell_type": "code",
   "execution_count": 13,
   "id": "e0b06eef-092d-4c5b-ba0f-1a45d68baf06",
   "metadata": {},
   "outputs": [
    {
     "name": "stdout",
     "output_type": "stream",
     "text": [
      "(23, 3)\n"
     ]
    },
    {
     "data": {
      "text/html": [
       "<div>\n",
       "<style scoped>\n",
       "    .dataframe tbody tr th:only-of-type {\n",
       "        vertical-align: middle;\n",
       "    }\n",
       "\n",
       "    .dataframe tbody tr th {\n",
       "        vertical-align: top;\n",
       "    }\n",
       "\n",
       "    .dataframe thead th {\n",
       "        text-align: right;\n",
       "    }\n",
       "</style>\n",
       "<table border=\"1\" class=\"dataframe\">\n",
       "  <thead>\n",
       "    <tr style=\"text-align: right;\">\n",
       "      <th></th>\n",
       "      <th>States Parties</th>\n",
       "      <th>Properties inscribed</th>\n",
       "      <th>Code</th>\n",
       "    </tr>\n",
       "  </thead>\n",
       "  <tbody>\n",
       "    <tr>\n",
       "      <th>18</th>\n",
       "      <td>Bolivia (Plurinational State of)</td>\n",
       "      <td>7</td>\n",
       "      <td></td>\n",
       "    </tr>\n",
       "    <tr>\n",
       "      <th>24</th>\n",
       "      <td>Cabo Verde</td>\n",
       "      <td>1</td>\n",
       "      <td></td>\n",
       "    </tr>\n",
       "    <tr>\n",
       "      <th>33</th>\n",
       "      <td>Congo</td>\n",
       "      <td>2</td>\n",
       "      <td></td>\n",
       "    </tr>\n",
       "    <tr>\n",
       "      <th>35</th>\n",
       "      <td>Côte d'Ivoire</td>\n",
       "      <td>5</td>\n",
       "      <td></td>\n",
       "    </tr>\n",
       "    <tr>\n",
       "      <th>39</th>\n",
       "      <td>Czechia</td>\n",
       "      <td>17</td>\n",
       "      <td></td>\n",
       "    </tr>\n",
       "    <tr>\n",
       "      <th>40</th>\n",
       "      <td>Democratic People's Republic of Korea</td>\n",
       "      <td>2</td>\n",
       "      <td></td>\n",
       "    </tr>\n",
       "    <tr>\n",
       "      <th>41</th>\n",
       "      <td>Democratic Republic of the Congo</td>\n",
       "      <td>5</td>\n",
       "      <td></td>\n",
       "    </tr>\n",
       "    <tr>\n",
       "      <th>63</th>\n",
       "      <td>Holy See</td>\n",
       "      <td>2</td>\n",
       "      <td></td>\n",
       "    </tr>\n",
       "    <tr>\n",
       "      <th>69</th>\n",
       "      <td>Iran (Islamic Republic of)</td>\n",
       "      <td>28</td>\n",
       "      <td></td>\n",
       "    </tr>\n",
       "    <tr>\n",
       "      <th>81</th>\n",
       "      <td>Lao People's Democratic Republic</td>\n",
       "      <td>3</td>\n",
       "      <td></td>\n",
       "    </tr>\n",
       "    <tr>\n",
       "      <th>97</th>\n",
       "      <td>Micronesia (Federated States of)</td>\n",
       "      <td>1</td>\n",
       "      <td></td>\n",
       "    </tr>\n",
       "    <tr>\n",
       "      <th>105</th>\n",
       "      <td>Netherlands (Kingdom of the)</td>\n",
       "      <td>13</td>\n",
       "      <td></td>\n",
       "    </tr>\n",
       "    <tr>\n",
       "      <th>123</th>\n",
       "      <td>Republic of Korea</td>\n",
       "      <td>16</td>\n",
       "      <td></td>\n",
       "    </tr>\n",
       "    <tr>\n",
       "      <th>124</th>\n",
       "      <td>Republic of Moldova</td>\n",
       "      <td>1</td>\n",
       "      <td></td>\n",
       "    </tr>\n",
       "    <tr>\n",
       "      <th>126</th>\n",
       "      <td>Russian Federation</td>\n",
       "      <td>32</td>\n",
       "      <td></td>\n",
       "    </tr>\n",
       "    <tr>\n",
       "      <th>142</th>\n",
       "      <td>State of Palestine</td>\n",
       "      <td>5</td>\n",
       "      <td></td>\n",
       "    </tr>\n",
       "    <tr>\n",
       "      <th>147</th>\n",
       "      <td>Syrian Arab Republic</td>\n",
       "      <td>6</td>\n",
       "      <td></td>\n",
       "    </tr>\n",
       "    <tr>\n",
       "      <th>152</th>\n",
       "      <td>Türkiye</td>\n",
       "      <td>21</td>\n",
       "      <td></td>\n",
       "    </tr>\n",
       "    <tr>\n",
       "      <th>157</th>\n",
       "      <td>United Kingdom of Great Britain and Northern I...</td>\n",
       "      <td>35</td>\n",
       "      <td></td>\n",
       "    </tr>\n",
       "    <tr>\n",
       "      <th>158</th>\n",
       "      <td>United Republic of Tanzania</td>\n",
       "      <td>7</td>\n",
       "      <td></td>\n",
       "    </tr>\n",
       "    <tr>\n",
       "      <th>159</th>\n",
       "      <td>United States of America</td>\n",
       "      <td>26</td>\n",
       "      <td></td>\n",
       "    </tr>\n",
       "    <tr>\n",
       "      <th>163</th>\n",
       "      <td>Venezuela (Bolivarian Republic of)</td>\n",
       "      <td>3</td>\n",
       "      <td></td>\n",
       "    </tr>\n",
       "    <tr>\n",
       "      <th>164</th>\n",
       "      <td>Viet Nam</td>\n",
       "      <td>8</td>\n",
       "      <td></td>\n",
       "    </tr>\n",
       "  </tbody>\n",
       "</table>\n",
       "</div>"
      ],
      "text/plain": [
       "                                        States Parties  Properties inscribed  \\\n",
       "18                    Bolivia (Plurinational State of)                     7   \n",
       "24                                          Cabo Verde                     1   \n",
       "33                                               Congo                     2   \n",
       "35                                       Côte d'Ivoire                     5   \n",
       "39                                             Czechia                    17   \n",
       "40               Democratic People's Republic of Korea                     2   \n",
       "41                    Democratic Republic of the Congo                     5   \n",
       "63                                            Holy See                     2   \n",
       "69                          Iran (Islamic Republic of)                    28   \n",
       "81                    Lao People's Democratic Republic                     3   \n",
       "97                    Micronesia (Federated States of)                     1   \n",
       "105                       Netherlands (Kingdom of the)                    13   \n",
       "123                                  Republic of Korea                    16   \n",
       "124                                Republic of Moldova                     1   \n",
       "126                                 Russian Federation                    32   \n",
       "142                                 State of Palestine                     5   \n",
       "147                               Syrian Arab Republic                     6   \n",
       "152                                            Türkiye                    21   \n",
       "157  United Kingdom of Great Britain and Northern I...                    35   \n",
       "158                        United Republic of Tanzania                     7   \n",
       "159                           United States of America                    26   \n",
       "163                 Venezuela (Bolivarian Republic of)                     3   \n",
       "164                                           Viet Nam                     8   \n",
       "\n",
       "    Code  \n",
       "18        \n",
       "24        \n",
       "33        \n",
       "35        \n",
       "39        \n",
       "40        \n",
       "41        \n",
       "63        \n",
       "69        \n",
       "81        \n",
       "97        \n",
       "105       \n",
       "123       \n",
       "124       \n",
       "126       \n",
       "142       \n",
       "147       \n",
       "152       \n",
       "157       \n",
       "158       \n",
       "159       \n",
       "163       \n",
       "164       "
      ]
     },
     "execution_count": 13,
     "metadata": {},
     "output_type": "execute_result"
    }
   ],
   "source": [
    "print(uwh[uwh['Code'] == ''].shape)\n",
    "uwh[uwh['Code'] == '']"
   ]
  },
  {
   "cell_type": "code",
   "execution_count": 14,
   "id": "9e2c9fa2-e357-46b0-939b-4350ec7e70cf",
   "metadata": {},
   "outputs": [],
   "source": [
    "uwh.loc[uwh['States Parties'] == 'Bolivia (Plurinational State of)', 'Code'] = 'BOL'\n",
    "uwh.loc[uwh['States Parties'] == 'Cabo Verde', 'Code'] = 'CPV'\n",
    "uwh.loc[uwh['States Parties'] == 'Congo', 'Code'] = 'COG'\n",
    "uwh.loc[uwh['States Parties'] == \"Côte d'Ivoire\", 'Code'] = 'CIV'\n",
    "uwh.loc[uwh['States Parties'] == 'Czechia', 'Code'] = 'CZE'\n",
    "uwh.loc[uwh['States Parties'] == \"Democratic People's Republic of Korea\", 'Code'] = 'PRK'\n",
    "uwh.loc[uwh['States Parties'] == \"Democratic Republic of the Congo\", 'Code'] = 'COD'\n",
    "uwh.loc[uwh['States Parties'] == \"Holy See\", 'Code'] = 'VAT'\n",
    "uwh.loc[uwh['States Parties'] == \"Iran (Islamic Republic of)\", 'Code'] = 'IRN'\n",
    "uwh.loc[uwh['States Parties'] == \"Lao People's Democratic Republic\", 'Code'] = 'LAO'\n",
    "uwh.loc[uwh['States Parties'] == \"Micronesia (Federated States of)\", 'Code'] = 'FSM'\n",
    "uwh.loc[uwh['States Parties'] == \"Netherlands (Kingdom of the)\", 'Code'] = 'NLD'\n",
    "uwh.loc[uwh['States Parties'] == \"Republic of Korea\", 'Code'] = 'KOR'\n",
    "uwh.loc[uwh['States Parties'] == \"Republic of Moldova\", 'Code'] = 'MDA'\n",
    "uwh.loc[uwh['States Parties'] == \"Russian Federation\", 'Code'] = 'RUS'\n",
    "uwh.loc[uwh['States Parties'] == \"State of Palestine\", 'Code'] = 'PSE'\n",
    "uwh.loc[uwh['States Parties'] == \"Syrian Arab Republic\", 'Code'] = 'SYR'\n",
    "uwh.loc[uwh['States Parties'] == \"Türkiye\", 'Code'] = 'TUR'\n",
    "uwh.loc[uwh['States Parties'] == \"United Kingdom of Great Britain and Northern Ireland\", 'Code'] = 'GBR'\n",
    "uwh.loc[uwh['States Parties'] == \"United Republic of Tanzania\", 'Code'] = 'TZA'\n",
    "uwh.loc[uwh['States Parties'] == \"United States of America\", 'Code'] = 'USA'\n",
    "uwh.loc[uwh['States Parties'] == \"Venezuela (Bolivarian Republic of)\", 'Code'] = 'VEN'\n",
    "uwh.loc[uwh['States Parties'] == \"Viet Nam\", 'Code'] = 'VNM'"
   ]
  },
  {
   "cell_type": "code",
   "execution_count": 15,
   "id": "233b5b2f-d419-4127-9a32-77518aa3256a",
   "metadata": {},
   "outputs": [],
   "source": [
    "assert uwh[uwh['Code'] == ''].shape[0] == 0"
   ]
  },
  {
   "cell_type": "markdown",
   "id": "6389c6a8-12ab-4dad-bae9-6887cb51a964",
   "metadata": {},
   "source": [
    "We check for NaNs:"
   ]
  },
  {
   "cell_type": "code",
   "execution_count": 16,
   "id": "c1851fd0-ae29-4506-aa93-410ce31531ae",
   "metadata": {},
   "outputs": [
    {
     "name": "stdout",
     "output_type": "stream",
     "text": [
      "Number of rows with NaN values: 0\n"
     ]
    }
   ],
   "source": [
    "print(f\"Number of rows with NaN values: {uwh[uwh.isna().any(axis=1)].shape[0]}\")"
   ]
  },
  {
   "cell_type": "markdown",
   "id": "02b1fad4-1ee5-4f5d-8517-c45cfc53d7d4",
   "metadata": {},
   "source": [
    "We can see that there are 168 countries featuring at least one UNESCO world heritage site. The countries with the highest number of UWH are Italy, China, Germany and France:"
   ]
  },
  {
   "cell_type": "code",
   "execution_count": 17,
   "id": "69a6b1b5-3685-47d5-a11d-4ed00102e091",
   "metadata": {},
   "outputs": [
    {
     "name": "stdout",
     "output_type": "stream",
     "text": [
      "Number of countries: 168\n"
     ]
    },
    {
     "data": {
      "text/html": [
       "<div>\n",
       "<style scoped>\n",
       "    .dataframe tbody tr th:only-of-type {\n",
       "        vertical-align: middle;\n",
       "    }\n",
       "\n",
       "    .dataframe tbody tr th {\n",
       "        vertical-align: top;\n",
       "    }\n",
       "\n",
       "    .dataframe thead th {\n",
       "        text-align: right;\n",
       "    }\n",
       "</style>\n",
       "<table border=\"1\" class=\"dataframe\">\n",
       "  <thead>\n",
       "    <tr style=\"text-align: right;\">\n",
       "      <th></th>\n",
       "      <th>States Parties</th>\n",
       "      <th>Properties inscribed</th>\n",
       "      <th>Code</th>\n",
       "    </tr>\n",
       "  </thead>\n",
       "  <tbody>\n",
       "    <tr>\n",
       "      <th>73</th>\n",
       "      <td>Italy</td>\n",
       "      <td>60</td>\n",
       "      <td>ITA</td>\n",
       "    </tr>\n",
       "    <tr>\n",
       "      <th>31</th>\n",
       "      <td>China</td>\n",
       "      <td>59</td>\n",
       "      <td>CHN</td>\n",
       "    </tr>\n",
       "    <tr>\n",
       "      <th>57</th>\n",
       "      <td>Germany</td>\n",
       "      <td>54</td>\n",
       "      <td>DEU</td>\n",
       "    </tr>\n",
       "    <tr>\n",
       "      <th>53</th>\n",
       "      <td>France</td>\n",
       "      <td>53</td>\n",
       "      <td>FRA</td>\n",
       "    </tr>\n",
       "    <tr>\n",
       "      <th>140</th>\n",
       "      <td>Spain</td>\n",
       "      <td>50</td>\n",
       "      <td>ESP</td>\n",
       "    </tr>\n",
       "  </tbody>\n",
       "</table>\n",
       "</div>"
      ],
      "text/plain": [
       "    States Parties  Properties inscribed Code\n",
       "73           Italy                    60  ITA\n",
       "31           China                    59  CHN\n",
       "57         Germany                    54  DEU\n",
       "53          France                    53  FRA\n",
       "140          Spain                    50  ESP"
      ]
     },
     "execution_count": 17,
     "metadata": {},
     "output_type": "execute_result"
    }
   ],
   "source": [
    "print(f\"Number of countries: {uwh.shape[0]}\")\n",
    "uwh.sort_values(by='Properties inscribed', ascending=False).head()"
   ]
  },
  {
   "cell_type": "markdown",
   "id": "965badab-58eb-4a54-8fdc-3d083ffdcae7",
   "metadata": {},
   "source": [
    "#### Infos about each site"
   ]
  },
  {
   "cell_type": "code",
   "execution_count": 30,
   "id": "dc004275-ac42-424e-8cd8-a467fab1ba5d",
   "metadata": {},
   "outputs": [
    {
     "data": {
      "text/html": [
       "<div>\n",
       "<style scoped>\n",
       "    .dataframe tbody tr th:only-of-type {\n",
       "        vertical-align: middle;\n",
       "    }\n",
       "\n",
       "    .dataframe tbody tr th {\n",
       "        vertical-align: top;\n",
       "    }\n",
       "\n",
       "    .dataframe thead th {\n",
       "        text-align: right;\n",
       "    }\n",
       "</style>\n",
       "<table border=\"1\" class=\"dataframe\">\n",
       "  <thead>\n",
       "    <tr style=\"text-align: right;\">\n",
       "      <th></th>\n",
       "      <th>category</th>\n",
       "      <th>criteria_txt</th>\n",
       "      <th>danger</th>\n",
       "      <th>date_inscribed</th>\n",
       "      <th>extension</th>\n",
       "      <th>http_url</th>\n",
       "      <th>id_number</th>\n",
       "      <th>image_url</th>\n",
       "      <th>iso_code</th>\n",
       "      <th>justification</th>\n",
       "      <th>...</th>\n",
       "      <th>location</th>\n",
       "      <th>longitude</th>\n",
       "      <th>region</th>\n",
       "      <th>revision</th>\n",
       "      <th>secondary_dates</th>\n",
       "      <th>short_description</th>\n",
       "      <th>site</th>\n",
       "      <th>states</th>\n",
       "      <th>transboundary</th>\n",
       "      <th>unique_number</th>\n",
       "    </tr>\n",
       "  </thead>\n",
       "  <tbody>\n",
       "    <tr>\n",
       "      <th>0</th>\n",
       "      <td>Natural</td>\n",
       "      <td>(ix)</td>\n",
       "      <td>None</td>\n",
       "      <td>2007</td>\n",
       "      <td>0</td>\n",
       "      <td>https://whc.unesco.org/en/list/1133</td>\n",
       "      <td>1133</td>\n",
       "      <td>https://whc.unesco.org/uploads/sites/site_1133...</td>\n",
       "      <td>al,at,be,ba,bg,hr,cz,fr,de,it,pl,ro,sk,si,es,c...</td>\n",
       "      <td>None</td>\n",
       "      <td>...</td>\n",
       "      <td>None</td>\n",
       "      <td>22.183333</td>\n",
       "      <td>Europe and North America</td>\n",
       "      <td>0</td>\n",
       "      <td>2011,2017,2021</td>\n",
       "      <td>&lt;p&gt;This transnational property includes 93 com...</td>\n",
       "      <td>Ancient and Primeval Beech Forests of the Carp...</td>\n",
       "      <td>Albania,Austria,Belgium,Bosnia and Herzegovina...</td>\n",
       "      <td>1</td>\n",
       "      <td>2513</td>\n",
       "    </tr>\n",
       "    <tr>\n",
       "      <th>1</th>\n",
       "      <td>Mixed</td>\n",
       "      <td>(i)(iii)(iv)(vii)</td>\n",
       "      <td>None</td>\n",
       "      <td>1979</td>\n",
       "      <td>1</td>\n",
       "      <td>https://whc.unesco.org/en/list/99</td>\n",
       "      <td>99</td>\n",
       "      <td>https://whc.unesco.org/uploads/sites/site_99.jpg</td>\n",
       "      <td>al,mk</td>\n",
       "      <td>None</td>\n",
       "      <td>...</td>\n",
       "      <td>Ohrid (municipality)</td>\n",
       "      <td>20.704167</td>\n",
       "      <td>Europe and North America</td>\n",
       "      <td>0</td>\n",
       "      <td>2019,1980</td>\n",
       "      <td>&lt;p&gt;A superlative natural phenomenon, Lake Ohri...</td>\n",
       "      <td>Natural and Cultural Heritage of the Ohrid region</td>\n",
       "      <td>Albania,North Macedonia</td>\n",
       "      <td>1</td>\n",
       "      <td>2313</td>\n",
       "    </tr>\n",
       "    <tr>\n",
       "      <th>2</th>\n",
       "      <td>Cultural</td>\n",
       "      <td>(i)(ii)(vi)</td>\n",
       "      <td>None</td>\n",
       "      <td>2016</td>\n",
       "      <td>0</td>\n",
       "      <td>https://whc.unesco.org/en/list/1321</td>\n",
       "      <td>1321</td>\n",
       "      <td>https://whc.unesco.org/uploads/sites/site_1321...</td>\n",
       "      <td>ar,be,fr,de,in,jp,ch</td>\n",
       "      <td>None</td>\n",
       "      <td>...</td>\n",
       "      <td>None</td>\n",
       "      <td>6.829336</td>\n",
       "      <td>Latin America and the Caribbean</td>\n",
       "      <td>0</td>\n",
       "      <td>None</td>\n",
       "      <td>&lt;p&gt;Chosen from the work of Le Corbusier, the 1...</td>\n",
       "      <td>The Architectural Work of Le Corbusier, an Out...</td>\n",
       "      <td>Argentina,Belgium,France,Germany,India,Japan,S...</td>\n",
       "      <td>1</td>\n",
       "      <td>2085</td>\n",
       "    </tr>\n",
       "    <tr>\n",
       "      <th>3</th>\n",
       "      <td>Cultural</td>\n",
       "      <td>(ii)(iii)(iv)(vi)</td>\n",
       "      <td>None</td>\n",
       "      <td>2014</td>\n",
       "      <td>0</td>\n",
       "      <td>https://whc.unesco.org/en/list/1459</td>\n",
       "      <td>1459</td>\n",
       "      <td>https://whc.unesco.org/uploads/sites/site_1459...</td>\n",
       "      <td>ar,bo,cl,co,ec,pe</td>\n",
       "      <td>None</td>\n",
       "      <td>...</td>\n",
       "      <td>None</td>\n",
       "      <td>-69.591667</td>\n",
       "      <td>Latin America and the Caribbean</td>\n",
       "      <td>0</td>\n",
       "      <td>None</td>\n",
       "      <td>&lt;p&gt;This site is an extensive Inca communicatio...</td>\n",
       "      <td>Qhapaq Ñan, Andean Road System</td>\n",
       "      <td>Argentina,Bolivia (Plurinational State of),Chi...</td>\n",
       "      <td>1</td>\n",
       "      <td>2003</td>\n",
       "    </tr>\n",
       "    <tr>\n",
       "      <th>4</th>\n",
       "      <td>Cultural</td>\n",
       "      <td>(iv)</td>\n",
       "      <td>None</td>\n",
       "      <td>1983</td>\n",
       "      <td>1</td>\n",
       "      <td>https://whc.unesco.org/en/list/275</td>\n",
       "      <td>275</td>\n",
       "      <td>https://whc.unesco.org/uploads/sites/site_275.jpg</td>\n",
       "      <td>ar,br</td>\n",
       "      <td>None</td>\n",
       "      <td>...</td>\n",
       "      <td>State of Rio Grande do Sul, Brazil; Province o...</td>\n",
       "      <td>-54.265833</td>\n",
       "      <td>Latin America and the Caribbean</td>\n",
       "      <td>0</td>\n",
       "      <td>1984</td>\n",
       "      <td>&lt;p&gt;The ruins of São Miguel das Missões in Braz...</td>\n",
       "      <td>Jesuit Missions of the Guaranis: San Ignacio M...</td>\n",
       "      <td>Argentina,Brazil</td>\n",
       "      <td>1</td>\n",
       "      <td>326</td>\n",
       "    </tr>\n",
       "  </tbody>\n",
       "</table>\n",
       "<p>5 rows × 21 columns</p>\n",
       "</div>"
      ],
      "text/plain": [
       "   category       criteria_txt danger  date_inscribed  extension  \\\n",
       "0   Natural               (ix)   None            2007          0   \n",
       "1     Mixed  (i)(iii)(iv)(vii)   None            1979          1   \n",
       "2  Cultural        (i)(ii)(vi)   None            2016          0   \n",
       "3  Cultural  (ii)(iii)(iv)(vi)   None            2014          0   \n",
       "4  Cultural               (iv)   None            1983          1   \n",
       "\n",
       "                              http_url  id_number  \\\n",
       "0  https://whc.unesco.org/en/list/1133       1133   \n",
       "1    https://whc.unesco.org/en/list/99         99   \n",
       "2  https://whc.unesco.org/en/list/1321       1321   \n",
       "3  https://whc.unesco.org/en/list/1459       1459   \n",
       "4   https://whc.unesco.org/en/list/275        275   \n",
       "\n",
       "                                           image_url  \\\n",
       "0  https://whc.unesco.org/uploads/sites/site_1133...   \n",
       "1   https://whc.unesco.org/uploads/sites/site_99.jpg   \n",
       "2  https://whc.unesco.org/uploads/sites/site_1321...   \n",
       "3  https://whc.unesco.org/uploads/sites/site_1459...   \n",
       "4  https://whc.unesco.org/uploads/sites/site_275.jpg   \n",
       "\n",
       "                                            iso_code justification  ...  \\\n",
       "0  al,at,be,ba,bg,hr,cz,fr,de,it,pl,ro,sk,si,es,c...          None  ...   \n",
       "1                                              al,mk          None  ...   \n",
       "2                               ar,be,fr,de,in,jp,ch          None  ...   \n",
       "3                                  ar,bo,cl,co,ec,pe          None  ...   \n",
       "4                                              ar,br          None  ...   \n",
       "\n",
       "                                            location  longitude  \\\n",
       "0                                               None  22.183333   \n",
       "1                               Ohrid (municipality)  20.704167   \n",
       "2                                               None   6.829336   \n",
       "3                                               None -69.591667   \n",
       "4  State of Rio Grande do Sul, Brazil; Province o... -54.265833   \n",
       "\n",
       "                            region revision  secondary_dates  \\\n",
       "0         Europe and North America        0   2011,2017,2021   \n",
       "1         Europe and North America        0        2019,1980   \n",
       "2  Latin America and the Caribbean        0             None   \n",
       "3  Latin America and the Caribbean        0             None   \n",
       "4  Latin America and the Caribbean        0             1984   \n",
       "\n",
       "                                   short_description  \\\n",
       "0  <p>This transnational property includes 93 com...   \n",
       "1  <p>A superlative natural phenomenon, Lake Ohri...   \n",
       "2  <p>Chosen from the work of Le Corbusier, the 1...   \n",
       "3  <p>This site is an extensive Inca communicatio...   \n",
       "4  <p>The ruins of São Miguel das Missões in Braz...   \n",
       "\n",
       "                                                site  \\\n",
       "0  Ancient and Primeval Beech Forests of the Carp...   \n",
       "1  Natural and Cultural Heritage of the Ohrid region   \n",
       "2  The Architectural Work of Le Corbusier, an Out...   \n",
       "3                     Qhapaq Ñan, Andean Road System   \n",
       "4  Jesuit Missions of the Guaranis: San Ignacio M...   \n",
       "\n",
       "                                              states transboundary  \\\n",
       "0  Albania,Austria,Belgium,Bosnia and Herzegovina...             1   \n",
       "1                            Albania,North Macedonia             1   \n",
       "2  Argentina,Belgium,France,Germany,India,Japan,S...             1   \n",
       "3  Argentina,Bolivia (Plurinational State of),Chi...             1   \n",
       "4                                   Argentina,Brazil             1   \n",
       "\n",
       "   unique_number  \n",
       "0           2513  \n",
       "1           2313  \n",
       "2           2085  \n",
       "3           2003  \n",
       "4            326  \n",
       "\n",
       "[5 rows x 21 columns]"
      ]
     },
     "execution_count": 30,
     "metadata": {},
     "output_type": "execute_result"
    }
   ],
   "source": [
    "uwh_sites = pd.read_xml(DATA_PATH + \"whc.unesco.org.xml\")\n",
    "uwh_sites.head()"
   ]
  },
  {
   "cell_type": "code",
   "execution_count": 33,
   "id": "5cfca22e-415a-4081-ae36-7bc95cad8a31",
   "metadata": {},
   "outputs": [
    {
     "name": "stdout",
     "output_type": "stream",
     "text": [
      "Total number of sites: 1223\n"
     ]
    }
   ],
   "source": [
    "print(f\"Total number of sites: {uwh_sites.shape[0]}\")"
   ]
  },
  {
   "cell_type": "markdown",
   "id": "47e0fb64-cca1-46f5-9196-9e3d695bf3d7",
   "metadata": {},
   "source": [
    "Here are all the available infos about the sites:"
   ]
  },
  {
   "cell_type": "code",
   "execution_count": 39,
   "id": "33648886-a6a2-4d28-b7a6-2b5539dd125a",
   "metadata": {},
   "outputs": [
    {
     "data": {
      "text/plain": [
       "Index(['category', 'criteria_txt', 'danger', 'date_inscribed', 'extension',\n",
       "       'http_url', 'id_number', 'image_url', 'iso_code', 'justification',\n",
       "       'latitude', 'location', 'longitude', 'region', 'revision',\n",
       "       'secondary_dates', 'short_description', 'site', 'states',\n",
       "       'transboundary', 'unique_number'],\n",
       "      dtype='object')"
      ]
     },
     "execution_count": 39,
     "metadata": {},
     "output_type": "execute_result"
    }
   ],
   "source": [
    "uwh_sites.columns"
   ]
  },
  {
   "cell_type": "markdown",
   "id": "b9ffd876-abea-4004-a8c8-4bbcdb2d3511",
   "metadata": {},
   "source": [
    "There are 3 types of UNESCO World Heritage sites: Natural, Mixed and Cultural."
   ]
  },
  {
   "cell_type": "code",
   "execution_count": 36,
   "id": "894e2bcb-48ff-40e4-bd9a-84ade22ae171",
   "metadata": {},
   "outputs": [
    {
     "data": {
      "text/plain": [
       "array(['Natural', 'Mixed', 'Cultural'], dtype=object)"
      ]
     },
     "execution_count": 36,
     "metadata": {},
     "output_type": "execute_result"
    }
   ],
   "source": [
    "uwh_sites['category'].unique()"
   ]
  },
  {
   "cell_type": "markdown",
   "id": "54ff94de-db55-4214-a92f-93b055cc1acc",
   "metadata": {},
   "source": [
    "### Inbound arrivals"
   ]
  },
  {
   "cell_type": "code",
   "execution_count": 18,
   "id": "ad9a2490-1bc6-4dd0-9e72-291033ff7ce7",
   "metadata": {},
   "outputs": [
    {
     "name": "stdout",
     "output_type": "stream",
     "text": [
      "(4933, 4)\n"
     ]
    },
    {
     "data": {
      "text/html": [
       "<div>\n",
       "<style scoped>\n",
       "    .dataframe tbody tr th:only-of-type {\n",
       "        vertical-align: middle;\n",
       "    }\n",
       "\n",
       "    .dataframe tbody tr th {\n",
       "        vertical-align: top;\n",
       "    }\n",
       "\n",
       "    .dataframe thead th {\n",
       "        text-align: right;\n",
       "    }\n",
       "</style>\n",
       "<table border=\"1\" class=\"dataframe\">\n",
       "  <thead>\n",
       "    <tr style=\"text-align: right;\">\n",
       "      <th></th>\n",
       "      <th>Entity</th>\n",
       "      <th>Code</th>\n",
       "      <th>Year</th>\n",
       "      <th>Inbound arrivals (tourists) per 1000 people</th>\n",
       "    </tr>\n",
       "  </thead>\n",
       "  <tbody>\n",
       "    <tr>\n",
       "      <th>0</th>\n",
       "      <td>Albania</td>\n",
       "      <td>ALB</td>\n",
       "      <td>2007</td>\n",
       "      <td>356.84418</td>\n",
       "    </tr>\n",
       "    <tr>\n",
       "      <th>1</th>\n",
       "      <td>Albania</td>\n",
       "      <td>ALB</td>\n",
       "      <td>2008</td>\n",
       "      <td>422.46985</td>\n",
       "    </tr>\n",
       "    <tr>\n",
       "      <th>2</th>\n",
       "      <td>Albania</td>\n",
       "      <td>ALB</td>\n",
       "      <td>2009</td>\n",
       "      <td>583.84890</td>\n",
       "    </tr>\n",
       "    <tr>\n",
       "      <th>3</th>\n",
       "      <td>Albania</td>\n",
       "      <td>ALB</td>\n",
       "      <td>2010</td>\n",
       "      <td>752.04175</td>\n",
       "    </tr>\n",
       "    <tr>\n",
       "      <th>4</th>\n",
       "      <td>Albania</td>\n",
       "      <td>ALB</td>\n",
       "      <td>2011</td>\n",
       "      <td>851.18560</td>\n",
       "    </tr>\n",
       "  </tbody>\n",
       "</table>\n",
       "</div>"
      ],
      "text/plain": [
       "    Entity Code  Year  Inbound arrivals (tourists) per 1000 people\n",
       "0  Albania  ALB  2007                                    356.84418\n",
       "1  Albania  ALB  2008                                    422.46985\n",
       "2  Albania  ALB  2009                                    583.84890\n",
       "3  Albania  ALB  2010                                    752.04175\n",
       "4  Albania  ALB  2011                                    851.18560"
      ]
     },
     "execution_count": 18,
     "metadata": {},
     "output_type": "execute_result"
    }
   ],
   "source": [
    "inbound_arrivals = pd.read_csv(DATA_PATH + \"23-international-tourist-trips-per-1000-people.csv\")\n",
    "print(inbound_arrivals.shape)\n",
    "inbound_arrivals.head()"
   ]
  },
  {
   "cell_type": "markdown",
   "id": "c36d9da1-fc48-48cb-bdba-d10a7c0b0ace",
   "metadata": {},
   "source": [
    "Check for NaNs:"
   ]
  },
  {
   "cell_type": "code",
   "execution_count": 19,
   "id": "aa66ec38-0db3-4258-be88-2741f28ccecc",
   "metadata": {},
   "outputs": [
    {
     "name": "stdout",
     "output_type": "stream",
     "text": [
      "Number of rows with NaN values: 0\n"
     ]
    }
   ],
   "source": [
    "print(f\"Number of rows with NaN values: {inbound_arrivals[inbound_arrivals.isna().any(axis=1)].shape[0]}\")"
   ]
  },
  {
   "cell_type": "markdown",
   "id": "8a8cd735-66ee-4360-8fb1-39ca43a6bbfd",
   "metadata": {},
   "source": [
    "Let's have a look at the most visited countries (relative to their size) over the last 15 years. We see that small countries are present at the top, this will have to be adjusted using the total population from `world_pop.csv`."
   ]
  },
  {
   "cell_type": "code",
   "execution_count": 20,
   "id": "b4ddc4da-26d4-47e5-8b34-237fc0653f32",
   "metadata": {},
   "outputs": [
    {
     "data": {
      "text/html": [
       "<div>\n",
       "<style scoped>\n",
       "    .dataframe tbody tr th:only-of-type {\n",
       "        vertical-align: middle;\n",
       "    }\n",
       "\n",
       "    .dataframe tbody tr th {\n",
       "        vertical-align: top;\n",
       "    }\n",
       "\n",
       "    .dataframe thead th {\n",
       "        text-align: right;\n",
       "    }\n",
       "</style>\n",
       "<table border=\"1\" class=\"dataframe\">\n",
       "  <thead>\n",
       "    <tr style=\"text-align: right;\">\n",
       "      <th></th>\n",
       "      <th>Entity</th>\n",
       "      <th>Inbound arrivals (tourists) per 1000 people</th>\n",
       "    </tr>\n",
       "  </thead>\n",
       "  <tbody>\n",
       "    <tr>\n",
       "      <th>2</th>\n",
       "      <td>Andorra</td>\n",
       "      <td>34111.430364</td>\n",
       "    </tr>\n",
       "    <tr>\n",
       "      <th>102</th>\n",
       "      <td>Macao</td>\n",
       "      <td>21405.513791</td>\n",
       "    </tr>\n",
       "    <tr>\n",
       "      <th>25</th>\n",
       "      <td>British Virgin Islands</td>\n",
       "      <td>9943.847382</td>\n",
       "    </tr>\n",
       "    <tr>\n",
       "      <th>179</th>\n",
       "      <td>Turks and Caicos Islands</td>\n",
       "      <td>9706.947755</td>\n",
       "    </tr>\n",
       "    <tr>\n",
       "      <th>160</th>\n",
       "      <td>Sint Maarten (Dutch part)</td>\n",
       "      <td>9592.671236</td>\n",
       "    </tr>\n",
       "  </tbody>\n",
       "</table>\n",
       "</div>"
      ],
      "text/plain": [
       "                        Entity  Inbound arrivals (tourists) per 1000 people\n",
       "2                      Andorra                                 34111.430364\n",
       "102                      Macao                                 21405.513791\n",
       "25      British Virgin Islands                                  9943.847382\n",
       "179   Turks and Caicos Islands                                  9706.947755\n",
       "160  Sint Maarten (Dutch part)                                  9592.671236"
      ]
     },
     "execution_count": 20,
     "metadata": {},
     "output_type": "execute_result"
    }
   ],
   "source": [
    "inbound_arrivals[inbound_arrivals[\"Year\"] > 2010].groupby(\"Entity\")[\"Inbound arrivals (tourists) per 1000 people\"].mean().reset_index().sort_values(\n",
    "    by=\"Inbound arrivals (tourists) per 1000 people\", ascending=False).head()"
   ]
  },
  {
   "cell_type": "markdown",
   "id": "f91e00a5-95a8-4082-9522-528cf5aa0557",
   "metadata": {},
   "source": [
    "### Number of foreign guests in hotels"
   ]
  },
  {
   "cell_type": "code",
   "execution_count": 21,
   "id": "7201dc8b-987f-419f-9d79-e38349cf30a1",
   "metadata": {},
   "outputs": [
    {
     "name": "stdout",
     "output_type": "stream",
     "text": [
      "(2879, 4)\n"
     ]
    },
    {
     "data": {
      "text/html": [
       "<div>\n",
       "<style scoped>\n",
       "    .dataframe tbody tr th:only-of-type {\n",
       "        vertical-align: middle;\n",
       "    }\n",
       "\n",
       "    .dataframe tbody tr th {\n",
       "        vertical-align: top;\n",
       "    }\n",
       "\n",
       "    .dataframe thead th {\n",
       "        text-align: right;\n",
       "    }\n",
       "</style>\n",
       "<table border=\"1\" class=\"dataframe\">\n",
       "  <thead>\n",
       "    <tr style=\"text-align: right;\">\n",
       "      <th></th>\n",
       "      <th>Entity</th>\n",
       "      <th>Code</th>\n",
       "      <th>Year</th>\n",
       "      <th>Foreign guests in tourism accommodation (hotels and similar establishments)</th>\n",
       "    </tr>\n",
       "  </thead>\n",
       "  <tbody>\n",
       "    <tr>\n",
       "      <th>0</th>\n",
       "      <td>Albania</td>\n",
       "      <td>ALB</td>\n",
       "      <td>1995</td>\n",
       "      <td>41000</td>\n",
       "    </tr>\n",
       "    <tr>\n",
       "      <th>1</th>\n",
       "      <td>Albania</td>\n",
       "      <td>ALB</td>\n",
       "      <td>1996</td>\n",
       "      <td>64000</td>\n",
       "    </tr>\n",
       "    <tr>\n",
       "      <th>2</th>\n",
       "      <td>Albania</td>\n",
       "      <td>ALB</td>\n",
       "      <td>1997</td>\n",
       "      <td>23000</td>\n",
       "    </tr>\n",
       "    <tr>\n",
       "      <th>3</th>\n",
       "      <td>Albania</td>\n",
       "      <td>ALB</td>\n",
       "      <td>1998</td>\n",
       "      <td>22000</td>\n",
       "    </tr>\n",
       "    <tr>\n",
       "      <th>4</th>\n",
       "      <td>Albania</td>\n",
       "      <td>ALB</td>\n",
       "      <td>1999</td>\n",
       "      <td>26000</td>\n",
       "    </tr>\n",
       "  </tbody>\n",
       "</table>\n",
       "</div>"
      ],
      "text/plain": [
       "    Entity Code  Year  \\\n",
       "0  Albania  ALB  1995   \n",
       "1  Albania  ALB  1996   \n",
       "2  Albania  ALB  1997   \n",
       "3  Albania  ALB  1998   \n",
       "4  Albania  ALB  1999   \n",
       "\n",
       "   Foreign guests in tourism accommodation (hotels and similar establishments)  \n",
       "0                                              41000                            \n",
       "1                                              64000                            \n",
       "2                                              23000                            \n",
       "3                                              22000                            \n",
       "4                                              26000                            "
      ]
     },
     "execution_count": 21,
     "metadata": {},
     "output_type": "execute_result"
    }
   ],
   "source": [
    "hotel_guests = pd.read_csv(DATA_PATH + \"15-foreign-guests-in-hotels-and-similar-establishments.csv\")\n",
    "print(hotel_guests.shape)\n",
    "hotel_guests.head()"
   ]
  },
  {
   "cell_type": "markdown",
   "id": "5adfd313-1f87-42a2-a798-738068f6b05b",
   "metadata": {},
   "source": [
    "Check for NaNs:"
   ]
  },
  {
   "cell_type": "code",
   "execution_count": 22,
   "id": "04b16850-20d9-4e64-a5b1-3cd9bfc12c6e",
   "metadata": {},
   "outputs": [
    {
     "name": "stdout",
     "output_type": "stream",
     "text": [
      "Number of rows with NaN values: 0\n"
     ]
    }
   ],
   "source": [
    "print(f\"Number of rows with NaN values: {hotel_guests[hotel_guests.isna().any(axis=1)].shape[0]}\")"
   ]
  },
  {
   "cell_type": "markdown",
   "id": "30ae06f6-b8ad-451a-ba76-895665215be5",
   "metadata": {},
   "source": [
    "Here are the countries with the highest number of foreign guests in their hotels:"
   ]
  },
  {
   "cell_type": "code",
   "execution_count": 23,
   "id": "2da972de-7b13-4f0e-97cd-1ed3a8633eb3",
   "metadata": {},
   "outputs": [
    {
     "data": {
      "text/html": [
       "<div>\n",
       "<style scoped>\n",
       "    .dataframe tbody tr th:only-of-type {\n",
       "        vertical-align: middle;\n",
       "    }\n",
       "\n",
       "    .dataframe tbody tr th {\n",
       "        vertical-align: top;\n",
       "    }\n",
       "\n",
       "    .dataframe thead th {\n",
       "        text-align: right;\n",
       "    }\n",
       "</style>\n",
       "<table border=\"1\" class=\"dataframe\">\n",
       "  <thead>\n",
       "    <tr style=\"text-align: right;\">\n",
       "      <th></th>\n",
       "      <th>Entity</th>\n",
       "      <th>Foreign guests in tourism accommodation (hotels and similar establishments)</th>\n",
       "    </tr>\n",
       "  </thead>\n",
       "  <tbody>\n",
       "    <tr>\n",
       "      <th>26</th>\n",
       "      <td>China</td>\n",
       "      <td>1.042473e+08</td>\n",
       "    </tr>\n",
       "    <tr>\n",
       "      <th>114</th>\n",
       "      <td>Thailand</td>\n",
       "      <td>4.541510e+07</td>\n",
       "    </tr>\n",
       "    <tr>\n",
       "      <th>109</th>\n",
       "      <td>Spain</td>\n",
       "      <td>4.133273e+07</td>\n",
       "    </tr>\n",
       "    <tr>\n",
       "      <th>58</th>\n",
       "      <td>Italy</td>\n",
       "      <td>3.743573e+07</td>\n",
       "    </tr>\n",
       "    <tr>\n",
       "      <th>60</th>\n",
       "      <td>Japan</td>\n",
       "      <td>3.116509e+07</td>\n",
       "    </tr>\n",
       "  </tbody>\n",
       "</table>\n",
       "</div>"
      ],
      "text/plain": [
       "       Entity  \\\n",
       "26      China   \n",
       "114  Thailand   \n",
       "109     Spain   \n",
       "58      Italy   \n",
       "60      Japan   \n",
       "\n",
       "     Foreign guests in tourism accommodation (hotels and similar establishments)  \n",
       "26                                        1.042473e+08                            \n",
       "114                                       4.541510e+07                            \n",
       "109                                       4.133273e+07                            \n",
       "58                                        3.743573e+07                            \n",
       "60                                        3.116509e+07                            "
      ]
     },
     "execution_count": 23,
     "metadata": {},
     "output_type": "execute_result"
    }
   ],
   "source": [
    "hotel_guests[hotel_guests[\"Year\"] > 2010].groupby(\"Entity\")[\"Foreign guests in tourism accommodation (hotels and similar establishments)\"].mean().reset_index().sort_values(\n",
    "    by=\"Foreign guests in tourism accommodation (hotels and similar establishments)\", ascending=False).head()"
   ]
  },
  {
   "cell_type": "markdown",
   "id": "35fa0d2a-8f5d-466b-9cdf-f4a2016a3acf",
   "metadata": {},
   "source": [
    "### Average expenditures of international tourists"
   ]
  },
  {
   "cell_type": "code",
   "execution_count": 24,
   "id": "f544036e-c213-4abc-ab24-0ceb0a9ca2c4",
   "metadata": {},
   "outputs": [
    {
     "name": "stdout",
     "output_type": "stream",
     "text": [
      "(1260, 4)\n"
     ]
    },
    {
     "data": {
      "text/html": [
       "<div>\n",
       "<style scoped>\n",
       "    .dataframe tbody tr th:only-of-type {\n",
       "        vertical-align: middle;\n",
       "    }\n",
       "\n",
       "    .dataframe tbody tr th {\n",
       "        vertical-align: top;\n",
       "    }\n",
       "\n",
       "    .dataframe thead th {\n",
       "        text-align: right;\n",
       "    }\n",
       "</style>\n",
       "<table border=\"1\" class=\"dataframe\">\n",
       "  <thead>\n",
       "    <tr style=\"text-align: right;\">\n",
       "      <th></th>\n",
       "      <th>Entity</th>\n",
       "      <th>Code</th>\n",
       "      <th>Year</th>\n",
       "      <th>Inbound Tourism Expenditure (adjusted for inflation and cost of living)</th>\n",
       "    </tr>\n",
       "  </thead>\n",
       "  <tbody>\n",
       "    <tr>\n",
       "      <th>0</th>\n",
       "      <td>Australia</td>\n",
       "      <td>AUS</td>\n",
       "      <td>1995</td>\n",
       "      <td>12904206000</td>\n",
       "    </tr>\n",
       "    <tr>\n",
       "      <th>1</th>\n",
       "      <td>Australia</td>\n",
       "      <td>AUS</td>\n",
       "      <td>1996</td>\n",
       "      <td>13947016000</td>\n",
       "    </tr>\n",
       "    <tr>\n",
       "      <th>2</th>\n",
       "      <td>Australia</td>\n",
       "      <td>AUS</td>\n",
       "      <td>1997</td>\n",
       "      <td>14575643000</td>\n",
       "    </tr>\n",
       "    <tr>\n",
       "      <th>3</th>\n",
       "      <td>Australia</td>\n",
       "      <td>AUS</td>\n",
       "      <td>1998</td>\n",
       "      <td>14679026000</td>\n",
       "    </tr>\n",
       "    <tr>\n",
       "      <th>4</th>\n",
       "      <td>Australia</td>\n",
       "      <td>AUS</td>\n",
       "      <td>1999</td>\n",
       "      <td>16038053000</td>\n",
       "    </tr>\n",
       "  </tbody>\n",
       "</table>\n",
       "</div>"
      ],
      "text/plain": [
       "      Entity Code  Year  \\\n",
       "0  Australia  AUS  1995   \n",
       "1  Australia  AUS  1996   \n",
       "2  Australia  AUS  1997   \n",
       "3  Australia  AUS  1998   \n",
       "4  Australia  AUS  1999   \n",
       "\n",
       "   Inbound Tourism Expenditure (adjusted for inflation and cost of living)  \n",
       "0                                        12904206000                        \n",
       "1                                        13947016000                        \n",
       "2                                        14575643000                        \n",
       "3                                        14679026000                        \n",
       "4                                        16038053000                        "
      ]
     },
     "execution_count": 24,
     "metadata": {},
     "output_type": "execute_result"
    }
   ],
   "source": [
    "expenditures = pd.read_csv(DATA_PATH + \"21-average-expenditures-of-international-tourists-domestically.csv\")\n",
    "print(expenditures.shape)\n",
    "expenditures.head()"
   ]
  },
  {
   "cell_type": "markdown",
   "id": "1ead87ae-21e4-4fcd-a4e3-7abcafeba553",
   "metadata": {},
   "source": [
    "Check for NaNs"
   ]
  },
  {
   "cell_type": "code",
   "execution_count": 25,
   "id": "206bb84f-1813-4c85-acda-042b95c48421",
   "metadata": {},
   "outputs": [
    {
     "name": "stdout",
     "output_type": "stream",
     "text": [
      "Number of rows with NaN values: 0\n"
     ]
    }
   ],
   "source": [
    "print(f\"Number of rows with NaN values: {hotel_guests[hotel_guests.isna().any(axis=1)].shape[0]}\")"
   ]
  },
  {
   "cell_type": "markdown",
   "id": "6b42090d-5c8f-4030-94bb-385f369cfcdf",
   "metadata": {},
   "source": [
    "Finally let's look at the countries where tourist spend the most:"
   ]
  },
  {
   "cell_type": "code",
   "execution_count": 26,
   "id": "9870d5a0-8a8b-4411-9a61-f6ba9ed65a33",
   "metadata": {},
   "outputs": [
    {
     "data": {
      "text/html": [
       "<div>\n",
       "<style scoped>\n",
       "    .dataframe tbody tr th:only-of-type {\n",
       "        vertical-align: middle;\n",
       "    }\n",
       "\n",
       "    .dataframe tbody tr th {\n",
       "        vertical-align: top;\n",
       "    }\n",
       "\n",
       "    .dataframe thead th {\n",
       "        text-align: right;\n",
       "    }\n",
       "</style>\n",
       "<table border=\"1\" class=\"dataframe\">\n",
       "  <thead>\n",
       "    <tr style=\"text-align: right;\">\n",
       "      <th></th>\n",
       "      <th>Entity</th>\n",
       "      <th>Inbound Tourism Expenditure (adjusted for inflation and cost of living)</th>\n",
       "    </tr>\n",
       "  </thead>\n",
       "  <tbody>\n",
       "    <tr>\n",
       "      <th>46</th>\n",
       "      <td>United States</td>\n",
       "      <td>1.806270e+11</td>\n",
       "    </tr>\n",
       "    <tr>\n",
       "      <th>41</th>\n",
       "      <td>Spain</td>\n",
       "      <td>7.707603e+10</td>\n",
       "    </tr>\n",
       "    <tr>\n",
       "      <th>14</th>\n",
       "      <td>France</td>\n",
       "      <td>5.802066e+10</td>\n",
       "    </tr>\n",
       "    <tr>\n",
       "      <th>45</th>\n",
       "      <td>United Kingdom</td>\n",
       "      <td>4.823419e+10</td>\n",
       "    </tr>\n",
       "    <tr>\n",
       "      <th>44</th>\n",
       "      <td>Turkey</td>\n",
       "      <td>4.720259e+10</td>\n",
       "    </tr>\n",
       "  </tbody>\n",
       "</table>\n",
       "</div>"
      ],
      "text/plain": [
       "            Entity  \\\n",
       "46   United States   \n",
       "41           Spain   \n",
       "14          France   \n",
       "45  United Kingdom   \n",
       "44          Turkey   \n",
       "\n",
       "    Inbound Tourism Expenditure (adjusted for inflation and cost of living)  \n",
       "46                                       1.806270e+11                        \n",
       "41                                       7.707603e+10                        \n",
       "14                                       5.802066e+10                        \n",
       "45                                       4.823419e+10                        \n",
       "44                                       4.720259e+10                        "
      ]
     },
     "execution_count": 26,
     "metadata": {},
     "output_type": "execute_result"
    }
   ],
   "source": [
    "expenditures[expenditures[\"Year\"] > 2010].groupby(\"Entity\")[\"Inbound Tourism Expenditure (adjusted for inflation and cost of living)\"].mean().reset_index().sort_values(\n",
    "    by=\"Inbound Tourism Expenditure (adjusted for inflation and cost of living)\", ascending=False).head()"
   ]
  }
 ],
 "metadata": {
  "kernelspec": {
   "display_name": "Python 3 (ipykernel)",
   "language": "python",
   "name": "python3"
  },
  "language_info": {
   "codemirror_mode": {
    "name": "ipython",
    "version": 3
   },
   "file_extension": ".py",
   "mimetype": "text/x-python",
   "name": "python",
   "nbconvert_exporter": "python",
   "pygments_lexer": "ipython3",
   "version": "3.11.4"
  }
 },
 "nbformat": 4,
 "nbformat_minor": 5
}
