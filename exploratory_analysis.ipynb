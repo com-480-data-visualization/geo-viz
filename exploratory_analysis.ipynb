{
 "cells": [
  {
   "cell_type": "code",
   "execution_count": 88,
   "id": "766412a3-0da9-4359-9523-553ffaacad27",
   "metadata": {},
   "outputs": [],
   "source": [
    "import pandas as pd\n",
    "DATA_PATH = \"datasets/\""
   ]
  },
  {
   "cell_type": "markdown",
   "id": "f7f07cd4-8b49-4069-b835-e67c3edb5ad6",
   "metadata": {},
   "source": [
    "# Exploratory data analysis"
   ]
  },
  {
   "cell_type": "markdown",
   "id": "5034534a-be9b-4f17-88bd-73a528022ae2",
   "metadata": {},
   "source": [
    "### World population"
   ]
  },
  {
   "cell_type": "markdown",
   "id": "7bdc5532-57ef-412a-9f6d-955e7e61c92d",
   "metadata": {},
   "source": [
    "Pre-processing:"
   ]
  },
  {
   "cell_type": "code",
   "execution_count": 162,
   "id": "33ec0ddc-ece6-42dc-909f-de02dba8c1b2",
   "metadata": {},
   "outputs": [],
   "source": [
    "world_pop = pd.read_csv(DATA_PATH + \"world_population.csv\")\n",
    "# Rename column to match naming of other tables\n",
    "world_pop = world_pop.rename(columns = {'CCA3': 'Code'}) "
   ]
  },
  {
   "cell_type": "code",
   "execution_count": 159,
   "id": "409f7f96-1c83-4a2e-90c8-33bf61823240",
   "metadata": {},
   "outputs": [
    {
     "name": "stdout",
     "output_type": "stream",
     "text": [
      "Data available for 234 countries.\n"
     ]
    },
    {
     "data": {
      "text/html": [
       "<div>\n",
       "<style scoped>\n",
       "    .dataframe tbody tr th:only-of-type {\n",
       "        vertical-align: middle;\n",
       "    }\n",
       "\n",
       "    .dataframe tbody tr th {\n",
       "        vertical-align: top;\n",
       "    }\n",
       "\n",
       "    .dataframe thead th {\n",
       "        text-align: right;\n",
       "    }\n",
       "</style>\n",
       "<table border=\"1\" class=\"dataframe\">\n",
       "  <thead>\n",
       "    <tr style=\"text-align: right;\">\n",
       "      <th></th>\n",
       "      <th>Rank</th>\n",
       "      <th>Code</th>\n",
       "      <th>Country/Territory</th>\n",
       "      <th>Capital</th>\n",
       "      <th>Continent</th>\n",
       "      <th>2022 Population</th>\n",
       "      <th>2020 Population</th>\n",
       "      <th>2015 Population</th>\n",
       "      <th>2010 Population</th>\n",
       "      <th>2000 Population</th>\n",
       "      <th>1990 Population</th>\n",
       "      <th>1980 Population</th>\n",
       "      <th>1970 Population</th>\n",
       "      <th>Area (km²)</th>\n",
       "      <th>Density (per km²)</th>\n",
       "      <th>Growth Rate</th>\n",
       "      <th>World Population Percentage</th>\n",
       "    </tr>\n",
       "  </thead>\n",
       "  <tbody>\n",
       "    <tr>\n",
       "      <th>0</th>\n",
       "      <td>36</td>\n",
       "      <td>AFG</td>\n",
       "      <td>Afghanistan</td>\n",
       "      <td>Kabul</td>\n",
       "      <td>Asia</td>\n",
       "      <td>41128771</td>\n",
       "      <td>38972230</td>\n",
       "      <td>33753499</td>\n",
       "      <td>28189672</td>\n",
       "      <td>19542982</td>\n",
       "      <td>10694796</td>\n",
       "      <td>12486631</td>\n",
       "      <td>10752971</td>\n",
       "      <td>652230</td>\n",
       "      <td>63.0587</td>\n",
       "      <td>1.0257</td>\n",
       "      <td>0.52</td>\n",
       "    </tr>\n",
       "    <tr>\n",
       "      <th>1</th>\n",
       "      <td>138</td>\n",
       "      <td>ALB</td>\n",
       "      <td>Albania</td>\n",
       "      <td>Tirana</td>\n",
       "      <td>Europe</td>\n",
       "      <td>2842321</td>\n",
       "      <td>2866849</td>\n",
       "      <td>2882481</td>\n",
       "      <td>2913399</td>\n",
       "      <td>3182021</td>\n",
       "      <td>3295066</td>\n",
       "      <td>2941651</td>\n",
       "      <td>2324731</td>\n",
       "      <td>28748</td>\n",
       "      <td>98.8702</td>\n",
       "      <td>0.9957</td>\n",
       "      <td>0.04</td>\n",
       "    </tr>\n",
       "    <tr>\n",
       "      <th>2</th>\n",
       "      <td>34</td>\n",
       "      <td>DZA</td>\n",
       "      <td>Algeria</td>\n",
       "      <td>Algiers</td>\n",
       "      <td>Africa</td>\n",
       "      <td>44903225</td>\n",
       "      <td>43451666</td>\n",
       "      <td>39543154</td>\n",
       "      <td>35856344</td>\n",
       "      <td>30774621</td>\n",
       "      <td>25518074</td>\n",
       "      <td>18739378</td>\n",
       "      <td>13795915</td>\n",
       "      <td>2381741</td>\n",
       "      <td>18.8531</td>\n",
       "      <td>1.0164</td>\n",
       "      <td>0.56</td>\n",
       "    </tr>\n",
       "    <tr>\n",
       "      <th>3</th>\n",
       "      <td>213</td>\n",
       "      <td>ASM</td>\n",
       "      <td>American Samoa</td>\n",
       "      <td>Pago Pago</td>\n",
       "      <td>Oceania</td>\n",
       "      <td>44273</td>\n",
       "      <td>46189</td>\n",
       "      <td>51368</td>\n",
       "      <td>54849</td>\n",
       "      <td>58230</td>\n",
       "      <td>47818</td>\n",
       "      <td>32886</td>\n",
       "      <td>27075</td>\n",
       "      <td>199</td>\n",
       "      <td>222.4774</td>\n",
       "      <td>0.9831</td>\n",
       "      <td>0.00</td>\n",
       "    </tr>\n",
       "    <tr>\n",
       "      <th>4</th>\n",
       "      <td>203</td>\n",
       "      <td>AND</td>\n",
       "      <td>Andorra</td>\n",
       "      <td>Andorra la Vella</td>\n",
       "      <td>Europe</td>\n",
       "      <td>79824</td>\n",
       "      <td>77700</td>\n",
       "      <td>71746</td>\n",
       "      <td>71519</td>\n",
       "      <td>66097</td>\n",
       "      <td>53569</td>\n",
       "      <td>35611</td>\n",
       "      <td>19860</td>\n",
       "      <td>468</td>\n",
       "      <td>170.5641</td>\n",
       "      <td>1.0100</td>\n",
       "      <td>0.00</td>\n",
       "    </tr>\n",
       "  </tbody>\n",
       "</table>\n",
       "</div>"
      ],
      "text/plain": [
       "   Rank Code Country/Territory           Capital Continent  2022 Population  \\\n",
       "0    36  AFG       Afghanistan             Kabul      Asia         41128771   \n",
       "1   138  ALB           Albania            Tirana    Europe          2842321   \n",
       "2    34  DZA           Algeria           Algiers    Africa         44903225   \n",
       "3   213  ASM    American Samoa         Pago Pago   Oceania            44273   \n",
       "4   203  AND           Andorra  Andorra la Vella    Europe            79824   \n",
       "\n",
       "   2020 Population  2015 Population  2010 Population  2000 Population  \\\n",
       "0         38972230         33753499         28189672         19542982   \n",
       "1          2866849          2882481          2913399          3182021   \n",
       "2         43451666         39543154         35856344         30774621   \n",
       "3            46189            51368            54849            58230   \n",
       "4            77700            71746            71519            66097   \n",
       "\n",
       "   1990 Population  1980 Population  1970 Population  Area (km²)  \\\n",
       "0         10694796         12486631         10752971      652230   \n",
       "1          3295066          2941651          2324731       28748   \n",
       "2         25518074         18739378         13795915     2381741   \n",
       "3            47818            32886            27075         199   \n",
       "4            53569            35611            19860         468   \n",
       "\n",
       "   Density (per km²)  Growth Rate  World Population Percentage  \n",
       "0            63.0587       1.0257                         0.52  \n",
       "1            98.8702       0.9957                         0.04  \n",
       "2            18.8531       1.0164                         0.56  \n",
       "3           222.4774       0.9831                         0.00  \n",
       "4           170.5641       1.0100                         0.00  "
      ]
     },
     "execution_count": 159,
     "metadata": {},
     "output_type": "execute_result"
    }
   ],
   "source": [
    "print(f\"Data available for {len(world_pop['Code'].unique())} countries.\")\n",
    "world_pop.head()"
   ]
  },
  {
   "cell_type": "markdown",
   "id": "141ab256-d774-45b3-b149-1c4fcf83e0eb",
   "metadata": {},
   "source": [
    "We check for NaNs:"
   ]
  },
  {
   "cell_type": "code",
   "execution_count": 161,
   "id": "72167127-e886-4632-abed-d7b0f5e78161",
   "metadata": {},
   "outputs": [
    {
     "name": "stdout",
     "output_type": "stream",
     "text": [
      "Number of rows with NaN values: 0\n"
     ]
    }
   ],
   "source": [
    "print(f\"Number of rows with NaN values: {world_pop[world_pop.isna().any(axis=1)].shape[0]}\")"
   ]
  },
  {
   "cell_type": "markdown",
   "id": "3dacc949-e04c-436d-8bb6-136c7a846ad0",
   "metadata": {},
   "source": [
    "### Average monthly temperatures"
   ]
  },
  {
   "cell_type": "markdown",
   "id": "395afb82-ea95-42b3-9feb-19e20c134e42",
   "metadata": {},
   "source": [
    "We start with some pre-processing:"
   ]
  },
  {
   "cell_type": "code",
   "execution_count": 140,
   "id": "5e7a79cb-71d4-474d-b2e2-50c9a5973027",
   "metadata": {},
   "outputs": [],
   "source": [
    "temperatures = pd.read_csv(DATA_PATH + \"average-monthly-surface-temperature.csv\")\n",
    "# Rename columns based on their actual meaning explained on Kaggle\n",
    "temperatures = temperatures.rename(columns = {'Average surface temperature': 'Monthly average surface temperature',\n",
    "                                             'Average surface temperature.1': 'Yearly average surface temperature',\n",
    "                                             'Day': 'Month', 'year': 'Year'})\n",
    "temperatures['Month'] = pd.to_datetime(temperatures['Month']).dt.strftime(\"%m\")"
   ]
  },
  {
   "cell_type": "code",
   "execution_count": 139,
   "id": "e47f4bb7-9796-448d-ab5f-5ff64eb35802",
   "metadata": {},
   "outputs": [
    {
     "name": "stdout",
     "output_type": "stream",
     "text": [
      "198900 data points\n"
     ]
    },
    {
     "data": {
      "text/html": [
       "<div>\n",
       "<style scoped>\n",
       "    .dataframe tbody tr th:only-of-type {\n",
       "        vertical-align: middle;\n",
       "    }\n",
       "\n",
       "    .dataframe tbody tr th {\n",
       "        vertical-align: top;\n",
       "    }\n",
       "\n",
       "    .dataframe thead th {\n",
       "        text-align: right;\n",
       "    }\n",
       "</style>\n",
       "<table border=\"1\" class=\"dataframe\">\n",
       "  <thead>\n",
       "    <tr style=\"text-align: right;\">\n",
       "      <th></th>\n",
       "      <th>Entity</th>\n",
       "      <th>Code</th>\n",
       "      <th>Year</th>\n",
       "      <th>Month</th>\n",
       "      <th>Monthly average surface temperature</th>\n",
       "      <th>Yearly average surface temperature</th>\n",
       "    </tr>\n",
       "  </thead>\n",
       "  <tbody>\n",
       "    <tr>\n",
       "      <th>0</th>\n",
       "      <td>Afghanistan</td>\n",
       "      <td>AFG</td>\n",
       "      <td>1940</td>\n",
       "      <td>01</td>\n",
       "      <td>-2.032494</td>\n",
       "      <td>11.327695</td>\n",
       "    </tr>\n",
       "    <tr>\n",
       "      <th>1</th>\n",
       "      <td>Afghanistan</td>\n",
       "      <td>AFG</td>\n",
       "      <td>1940</td>\n",
       "      <td>02</td>\n",
       "      <td>-0.733503</td>\n",
       "      <td>11.327695</td>\n",
       "    </tr>\n",
       "    <tr>\n",
       "      <th>2</th>\n",
       "      <td>Afghanistan</td>\n",
       "      <td>AFG</td>\n",
       "      <td>1940</td>\n",
       "      <td>03</td>\n",
       "      <td>1.999134</td>\n",
       "      <td>11.327695</td>\n",
       "    </tr>\n",
       "    <tr>\n",
       "      <th>3</th>\n",
       "      <td>Afghanistan</td>\n",
       "      <td>AFG</td>\n",
       "      <td>1940</td>\n",
       "      <td>04</td>\n",
       "      <td>10.199754</td>\n",
       "      <td>11.327695</td>\n",
       "    </tr>\n",
       "    <tr>\n",
       "      <th>4</th>\n",
       "      <td>Afghanistan</td>\n",
       "      <td>AFG</td>\n",
       "      <td>1940</td>\n",
       "      <td>05</td>\n",
       "      <td>17.942135</td>\n",
       "      <td>11.327695</td>\n",
       "    </tr>\n",
       "  </tbody>\n",
       "</table>\n",
       "</div>"
      ],
      "text/plain": [
       "        Entity Code  Year Month  Monthly average surface temperature  \\\n",
       "0  Afghanistan  AFG  1940    01                            -2.032494   \n",
       "1  Afghanistan  AFG  1940    02                            -0.733503   \n",
       "2  Afghanistan  AFG  1940    03                             1.999134   \n",
       "3  Afghanistan  AFG  1940    04                            10.199754   \n",
       "4  Afghanistan  AFG  1940    05                            17.942135   \n",
       "\n",
       "   Yearly average surface temperature  \n",
       "0                           11.327695  \n",
       "1                           11.327695  \n",
       "2                           11.327695  \n",
       "3                           11.327695  \n",
       "4                           11.327695  "
      ]
     },
     "execution_count": 139,
     "metadata": {},
     "output_type": "execute_result"
    }
   ],
   "source": [
    "print(f\"{temperatures.shape[0]} data points\")\n",
    "temperatures.head()"
   ]
  },
  {
   "cell_type": "code",
   "execution_count": 128,
   "id": "4b8a1deb-3fa6-405a-849e-427b2628ddce",
   "metadata": {},
   "outputs": [
    {
     "name": "stdout",
     "output_type": "stream",
     "text": [
      "Data available for 195 countries.\n"
     ]
    }
   ],
   "source": [
    "print(f\"Data available for {len(temperatures['Code'].unique())} countries.\")"
   ]
  },
  {
   "cell_type": "markdown",
   "id": "91adb103-d6b0-4faa-bf8e-db582228925b",
   "metadata": {},
   "source": [
    "We check that each month of each year is present for every country:"
   ]
  },
  {
   "cell_type": "code",
   "execution_count": 132,
   "id": "dd249795-53dc-467b-8bac-70715355e91c",
   "metadata": {},
   "outputs": [],
   "source": [
    "assert len(temperatures['Code'].unique()) * 12 * (temperatures['Year'].max() - temperatures['Year'].min() + 1) == temperatures.shape[0]"
   ]
  },
  {
   "cell_type": "markdown",
   "id": "ff59639e-63e4-4f66-8a82-440644f0adb5",
   "metadata": {},
   "source": [
    "We check for NaNs:"
   ]
  },
  {
   "cell_type": "code",
   "execution_count": 137,
   "id": "c3943883-4261-4772-b633-ad01a10c5350",
   "metadata": {},
   "outputs": [
    {
     "name": "stdout",
     "output_type": "stream",
     "text": [
      "Number of rows with NaN values: 0\n"
     ]
    }
   ],
   "source": [
    "print(f\"Number of rows with NaN values: {temperatures[temperatures.isna().any(axis=1)].shape[0]}\")"
   ]
  },
  {
   "cell_type": "markdown",
   "id": "fcfa0350-9f92-4065-9b18-cd17b7de391f",
   "metadata": {},
   "source": [
    "Here are the five warmest countries over the last 25 years:"
   ]
  },
  {
   "cell_type": "code",
   "execution_count": 206,
   "id": "25bf9f0b-9741-4c48-ade2-30819b1969a0",
   "metadata": {},
   "outputs": [
    {
     "data": {
      "text/html": [
       "<div>\n",
       "<style scoped>\n",
       "    .dataframe tbody tr th:only-of-type {\n",
       "        vertical-align: middle;\n",
       "    }\n",
       "\n",
       "    .dataframe tbody tr th {\n",
       "        vertical-align: top;\n",
       "    }\n",
       "\n",
       "    .dataframe thead th {\n",
       "        text-align: right;\n",
       "    }\n",
       "</style>\n",
       "<table border=\"1\" class=\"dataframe\">\n",
       "  <thead>\n",
       "    <tr style=\"text-align: right;\">\n",
       "      <th></th>\n",
       "      <th>Entity</th>\n",
       "      <th>Monthly average surface temperature</th>\n",
       "    </tr>\n",
       "  </thead>\n",
       "  <tbody>\n",
       "    <tr>\n",
       "      <th>112</th>\n",
       "      <td>Mali</td>\n",
       "      <td>28.994181</td>\n",
       "    </tr>\n",
       "    <tr>\n",
       "      <th>27</th>\n",
       "      <td>Burkina Faso</td>\n",
       "      <td>28.896367</td>\n",
       "    </tr>\n",
       "    <tr>\n",
       "      <th>153</th>\n",
       "      <td>Senegal</td>\n",
       "      <td>28.892454</td>\n",
       "    </tr>\n",
       "    <tr>\n",
       "      <th>50</th>\n",
       "      <td>Djibouti</td>\n",
       "      <td>28.534796</td>\n",
       "    </tr>\n",
       "    <tr>\n",
       "      <th>182</th>\n",
       "      <td>United Arab Emirates</td>\n",
       "      <td>28.463493</td>\n",
       "    </tr>\n",
       "  </tbody>\n",
       "</table>\n",
       "</div>"
      ],
      "text/plain": [
       "                   Entity  Monthly average surface temperature\n",
       "112                  Mali                            28.994181\n",
       "27           Burkina Faso                            28.896367\n",
       "153               Senegal                            28.892454\n",
       "50               Djibouti                            28.534796\n",
       "182  United Arab Emirates                            28.463493"
      ]
     },
     "execution_count": 206,
     "metadata": {},
     "output_type": "execute_result"
    }
   ],
   "source": [
    "temperatures[temperatures[\"Year\"] > 2000].groupby(\"Entity\")[\"Monthly average surface temperature\"].mean().reset_index().sort_values(\n",
    "    by=\"Monthly average surface temperature\", ascending=False).head()"
   ]
  },
  {
   "cell_type": "markdown",
   "id": "63bd5b52-f04c-4015-b095-190ef45b198d",
   "metadata": {},
   "source": [
    "And the five coldest:"
   ]
  },
  {
   "cell_type": "code",
   "execution_count": 207,
   "id": "658a93a2-b1e8-4c07-b2c7-b47d8602fb44",
   "metadata": {},
   "outputs": [
    {
     "data": {
      "text/html": [
       "<div>\n",
       "<style scoped>\n",
       "    .dataframe tbody tr th:only-of-type {\n",
       "        vertical-align: middle;\n",
       "    }\n",
       "\n",
       "    .dataframe tbody tr th {\n",
       "        vertical-align: top;\n",
       "    }\n",
       "\n",
       "    .dataframe thead th {\n",
       "        text-align: right;\n",
       "    }\n",
       "</style>\n",
       "<table border=\"1\" class=\"dataframe\">\n",
       "  <thead>\n",
       "    <tr style=\"text-align: right;\">\n",
       "      <th></th>\n",
       "      <th>Entity</th>\n",
       "      <th>Monthly average surface temperature</th>\n",
       "    </tr>\n",
       "  </thead>\n",
       "  <tbody>\n",
       "    <tr>\n",
       "      <th>73</th>\n",
       "      <td>Greenland</td>\n",
       "      <td>-17.909013</td>\n",
       "    </tr>\n",
       "    <tr>\n",
       "      <th>31</th>\n",
       "      <td>Canada</td>\n",
       "      <td>-3.334756</td>\n",
       "    </tr>\n",
       "    <tr>\n",
       "      <th>146</th>\n",
       "      <td>Russia</td>\n",
       "      <td>-3.127702</td>\n",
       "    </tr>\n",
       "    <tr>\n",
       "      <th>162</th>\n",
       "      <td>South Georgia and the South Sandwich Islands</td>\n",
       "      <td>-0.555846</td>\n",
       "    </tr>\n",
       "    <tr>\n",
       "      <th>172</th>\n",
       "      <td>Tajikistan</td>\n",
       "      <td>0.315281</td>\n",
       "    </tr>\n",
       "  </tbody>\n",
       "</table>\n",
       "</div>"
      ],
      "text/plain": [
       "                                           Entity  \\\n",
       "73                                      Greenland   \n",
       "31                                         Canada   \n",
       "146                                        Russia   \n",
       "162  South Georgia and the South Sandwich Islands   \n",
       "172                                    Tajikistan   \n",
       "\n",
       "     Monthly average surface temperature  \n",
       "73                            -17.909013  \n",
       "31                             -3.334756  \n",
       "146                            -3.127702  \n",
       "162                            -0.555846  \n",
       "172                             0.315281  "
      ]
     },
     "execution_count": 207,
     "metadata": {},
     "output_type": "execute_result"
    }
   ],
   "source": [
    "temperatures[temperatures[\"Year\"] > 2000].groupby(\"Entity\")[\"Monthly average surface temperature\"].mean().reset_index().sort_values(\n",
    "    by=\"Monthly average surface temperature\", ascending=True).head()"
   ]
  },
  {
   "cell_type": "markdown",
   "id": "8af5c37e-15a5-441a-b0e3-3fe0e5745efc",
   "metadata": {},
   "source": [
    "### Number of UNESCO World Heritage sites"
   ]
  },
  {
   "cell_type": "markdown",
   "id": "3363887b-131e-4443-acef-efa9745c791f",
   "metadata": {},
   "source": [
    "Pre-processing:"
   ]
  },
  {
   "cell_type": "code",
   "execution_count": 167,
   "id": "edac21c9-fd92-4a3f-9004-06ded000538f",
   "metadata": {},
   "outputs": [],
   "source": [
    "uwh = pd.read_csv(DATA_PATH + \"uwh_by_country.csv\")\n",
    "\n",
    "# Add country code\n",
    "for i, row in uwh.iterrows():\n",
    "    match = world_pop[world_pop['Country/Territory'] == row['States Parties']]\n",
    "    # Check that the country is present in temperatures table\n",
    "    if len(match) != 0:\n",
    "        uwh.at[i, 'Code'] = match.iloc[0]['Code']\n",
    "    else:\n",
    "        uwh.at[i, 'Code'] = \"\"  # Add empty string if no match"
   ]
  },
  {
   "cell_type": "markdown",
   "id": "02b5c9ea-a236-406f-8ec7-0a02a8934193",
   "metadata": {},
   "source": [
    "We see below that some countries are not present or named differently in the world_pop table. This means that we have to add the country codes manually: "
   ]
  },
  {
   "cell_type": "code",
   "execution_count": 173,
   "id": "e0b06eef-092d-4c5b-ba0f-1a45d68baf06",
   "metadata": {},
   "outputs": [
    {
     "name": "stdout",
     "output_type": "stream",
     "text": [
      "(22, 3)\n"
     ]
    },
    {
     "data": {
      "text/html": [
       "<div>\n",
       "<style scoped>\n",
       "    .dataframe tbody tr th:only-of-type {\n",
       "        vertical-align: middle;\n",
       "    }\n",
       "\n",
       "    .dataframe tbody tr th {\n",
       "        vertical-align: top;\n",
       "    }\n",
       "\n",
       "    .dataframe thead th {\n",
       "        text-align: right;\n",
       "    }\n",
       "</style>\n",
       "<table border=\"1\" class=\"dataframe\">\n",
       "  <thead>\n",
       "    <tr style=\"text-align: right;\">\n",
       "      <th></th>\n",
       "      <th>States Parties</th>\n",
       "      <th>Properties inscribed</th>\n",
       "      <th>Code</th>\n",
       "    </tr>\n",
       "  </thead>\n",
       "  <tbody>\n",
       "    <tr>\n",
       "      <th>24</th>\n",
       "      <td>Cabo Verde</td>\n",
       "      <td>1</td>\n",
       "      <td></td>\n",
       "    </tr>\n",
       "    <tr>\n",
       "      <th>33</th>\n",
       "      <td>Congo</td>\n",
       "      <td>2</td>\n",
       "      <td></td>\n",
       "    </tr>\n",
       "    <tr>\n",
       "      <th>35</th>\n",
       "      <td>Côte d'Ivoire</td>\n",
       "      <td>5</td>\n",
       "      <td></td>\n",
       "    </tr>\n",
       "    <tr>\n",
       "      <th>39</th>\n",
       "      <td>Czechia</td>\n",
       "      <td>17</td>\n",
       "      <td></td>\n",
       "    </tr>\n",
       "    <tr>\n",
       "      <th>40</th>\n",
       "      <td>Democratic People's Republic of Korea</td>\n",
       "      <td>2</td>\n",
       "      <td></td>\n",
       "    </tr>\n",
       "    <tr>\n",
       "      <th>41</th>\n",
       "      <td>Democratic Republic of the Congo</td>\n",
       "      <td>5</td>\n",
       "      <td></td>\n",
       "    </tr>\n",
       "    <tr>\n",
       "      <th>63</th>\n",
       "      <td>Holy See</td>\n",
       "      <td>2</td>\n",
       "      <td></td>\n",
       "    </tr>\n",
       "    <tr>\n",
       "      <th>69</th>\n",
       "      <td>Iran (Islamic Republic of)</td>\n",
       "      <td>28</td>\n",
       "      <td></td>\n",
       "    </tr>\n",
       "    <tr>\n",
       "      <th>81</th>\n",
       "      <td>Lao People's Democratic Republic</td>\n",
       "      <td>3</td>\n",
       "      <td></td>\n",
       "    </tr>\n",
       "    <tr>\n",
       "      <th>97</th>\n",
       "      <td>Micronesia (Federated States of)</td>\n",
       "      <td>1</td>\n",
       "      <td></td>\n",
       "    </tr>\n",
       "    <tr>\n",
       "      <th>105</th>\n",
       "      <td>Netherlands (Kingdom of the)</td>\n",
       "      <td>13</td>\n",
       "      <td></td>\n",
       "    </tr>\n",
       "    <tr>\n",
       "      <th>123</th>\n",
       "      <td>Republic of Korea</td>\n",
       "      <td>16</td>\n",
       "      <td></td>\n",
       "    </tr>\n",
       "    <tr>\n",
       "      <th>124</th>\n",
       "      <td>Republic of Moldova</td>\n",
       "      <td>1</td>\n",
       "      <td></td>\n",
       "    </tr>\n",
       "    <tr>\n",
       "      <th>126</th>\n",
       "      <td>Russian Federation</td>\n",
       "      <td>32</td>\n",
       "      <td></td>\n",
       "    </tr>\n",
       "    <tr>\n",
       "      <th>142</th>\n",
       "      <td>State of Palestine</td>\n",
       "      <td>5</td>\n",
       "      <td></td>\n",
       "    </tr>\n",
       "    <tr>\n",
       "      <th>147</th>\n",
       "      <td>Syrian Arab Republic</td>\n",
       "      <td>6</td>\n",
       "      <td></td>\n",
       "    </tr>\n",
       "    <tr>\n",
       "      <th>152</th>\n",
       "      <td>Türkiye</td>\n",
       "      <td>21</td>\n",
       "      <td></td>\n",
       "    </tr>\n",
       "    <tr>\n",
       "      <th>157</th>\n",
       "      <td>United Kingdom of Great Britain and Northern I...</td>\n",
       "      <td>35</td>\n",
       "      <td></td>\n",
       "    </tr>\n",
       "    <tr>\n",
       "      <th>158</th>\n",
       "      <td>United Republic of Tanzania</td>\n",
       "      <td>7</td>\n",
       "      <td></td>\n",
       "    </tr>\n",
       "    <tr>\n",
       "      <th>159</th>\n",
       "      <td>United States of America</td>\n",
       "      <td>26</td>\n",
       "      <td></td>\n",
       "    </tr>\n",
       "    <tr>\n",
       "      <th>163</th>\n",
       "      <td>Venezuela (Bolivarian Republic of)</td>\n",
       "      <td>3</td>\n",
       "      <td></td>\n",
       "    </tr>\n",
       "    <tr>\n",
       "      <th>164</th>\n",
       "      <td>Viet Nam</td>\n",
       "      <td>8</td>\n",
       "      <td></td>\n",
       "    </tr>\n",
       "  </tbody>\n",
       "</table>\n",
       "</div>"
      ],
      "text/plain": [
       "                                        States Parties  Properties inscribed  \\\n",
       "24                                          Cabo Verde                     1   \n",
       "33                                               Congo                     2   \n",
       "35                                       Côte d'Ivoire                     5   \n",
       "39                                             Czechia                    17   \n",
       "40               Democratic People's Republic of Korea                     2   \n",
       "41                    Democratic Republic of the Congo                     5   \n",
       "63                                            Holy See                     2   \n",
       "69                          Iran (Islamic Republic of)                    28   \n",
       "81                    Lao People's Democratic Republic                     3   \n",
       "97                    Micronesia (Federated States of)                     1   \n",
       "105                       Netherlands (Kingdom of the)                    13   \n",
       "123                                  Republic of Korea                    16   \n",
       "124                                Republic of Moldova                     1   \n",
       "126                                 Russian Federation                    32   \n",
       "142                                 State of Palestine                     5   \n",
       "147                               Syrian Arab Republic                     6   \n",
       "152                                            Türkiye                    21   \n",
       "157  United Kingdom of Great Britain and Northern I...                    35   \n",
       "158                        United Republic of Tanzania                     7   \n",
       "159                           United States of America                    26   \n",
       "163                 Venezuela (Bolivarian Republic of)                     3   \n",
       "164                                           Viet Nam                     8   \n",
       "\n",
       "    Code  \n",
       "24        \n",
       "33        \n",
       "35        \n",
       "39        \n",
       "40        \n",
       "41        \n",
       "63        \n",
       "69        \n",
       "81        \n",
       "97        \n",
       "105       \n",
       "123       \n",
       "124       \n",
       "126       \n",
       "142       \n",
       "147       \n",
       "152       \n",
       "157       \n",
       "158       \n",
       "159       \n",
       "163       \n",
       "164       "
      ]
     },
     "execution_count": 173,
     "metadata": {},
     "output_type": "execute_result"
    }
   ],
   "source": [
    "print(uwh[uwh['Code'] == ''].shape)\n",
    "uwh[uwh['Code'] == '']"
   ]
  },
  {
   "cell_type": "code",
   "execution_count": 178,
   "id": "9e2c9fa2-e357-46b0-939b-4350ec7e70cf",
   "metadata": {},
   "outputs": [],
   "source": [
    "uwh.loc[uwh['States Parties'] == 'Bolivia (Plurinational State of)', 'Code'] = 'BOL'\n",
    "uwh.loc[uwh['States Parties'] == 'Cabo Verde', 'Code'] = 'CPV'\n",
    "uwh.loc[uwh['States Parties'] == 'Congo', 'Code'] = 'COG'\n",
    "uwh.loc[uwh['States Parties'] == \"Côte d'Ivoire\", 'Code'] = 'CIV'\n",
    "uwh.loc[uwh['States Parties'] == 'Czechia', 'Code'] = 'CZE'\n",
    "uwh.loc[uwh['States Parties'] == \"Democratic People's Republic of Korea\", 'Code'] = 'PRK'\n",
    "uwh.loc[uwh['States Parties'] == \"Democratic Republic of the Congo\", 'Code'] = 'COD'\n",
    "uwh.loc[uwh['States Parties'] == \"Holy See\", 'Code'] = 'VAT'\n",
    "uwh.loc[uwh['States Parties'] == \"Iran (Islamic Republic of)\", 'Code'] = 'IRN'\n",
    "uwh.loc[uwh['States Parties'] == \"Lao People's Democratic Republic\", 'Code'] = 'LAO'\n",
    "uwh.loc[uwh['States Parties'] == \"Micronesia (Federated States of)\", 'Code'] = 'FSM'\n",
    "uwh.loc[uwh['States Parties'] == \"Netherlands (Kingdom of the)\", 'Code'] = 'NLD'\n",
    "uwh.loc[uwh['States Parties'] == \"Republic of Korea\", 'Code'] = 'KOR'\n",
    "uwh.loc[uwh['States Parties'] == \"Republic of Moldova\", 'Code'] = 'MDA'\n",
    "uwh.loc[uwh['States Parties'] == \"Russian Federation\", 'Code'] = 'RUS'\n",
    "uwh.loc[uwh['States Parties'] == \"State of Palestine\", 'Code'] = 'PSE'\n",
    "uwh.loc[uwh['States Parties'] == \"Syrian Arab Republic\", 'Code'] = 'SYR'\n",
    "uwh.loc[uwh['States Parties'] == \"Türkiye\", 'Code'] = 'TUR'\n",
    "uwh.loc[uwh['States Parties'] == \"United Kingdom of Great Britain and Northern Ireland\", 'Code'] = 'GBR'\n",
    "uwh.loc[uwh['States Parties'] == \"United Republic of Tanzania\", 'Code'] = 'TZA'\n",
    "uwh.loc[uwh['States Parties'] == \"United States of America\", 'Code'] = 'USA'\n",
    "uwh.loc[uwh['States Parties'] == \"Venezuela (Bolivarian Republic of)\", 'Code'] = 'VEN'\n",
    "uwh.loc[uwh['States Parties'] == \"Viet Nam\", 'Code'] = 'VNM'"
   ]
  },
  {
   "cell_type": "code",
   "execution_count": 181,
   "id": "233b5b2f-d419-4127-9a32-77518aa3256a",
   "metadata": {},
   "outputs": [],
   "source": [
    "assert uwh[uwh['Code'] == ''].shape[0] == 0"
   ]
  },
  {
   "cell_type": "markdown",
   "id": "6389c6a8-12ab-4dad-bae9-6887cb51a964",
   "metadata": {},
   "source": [
    "We check for NaNs:"
   ]
  },
  {
   "cell_type": "code",
   "execution_count": 182,
   "id": "c1851fd0-ae29-4506-aa93-410ce31531ae",
   "metadata": {},
   "outputs": [
    {
     "name": "stdout",
     "output_type": "stream",
     "text": [
      "Number of rows with NaN values: 0\n"
     ]
    }
   ],
   "source": [
    "print(f\"Number of rows with NaN values: {uwh[uwh.isna().any(axis=1)].shape[0]}\")"
   ]
  },
  {
   "cell_type": "markdown",
   "id": "02b1fad4-1ee5-4f5d-8517-c45cfc53d7d4",
   "metadata": {},
   "source": [
    "We can see that there are 168 countries featuring at least one UNESCO world heritage site. The countries with the highest number of UWH are Italy, China, Germany and France:"
   ]
  },
  {
   "cell_type": "code",
   "execution_count": 142,
   "id": "69a6b1b5-3685-47d5-a11d-4ed00102e091",
   "metadata": {},
   "outputs": [
    {
     "name": "stdout",
     "output_type": "stream",
     "text": [
      "Number of countries: 168\n"
     ]
    },
    {
     "data": {
      "text/html": [
       "<div>\n",
       "<style scoped>\n",
       "    .dataframe tbody tr th:only-of-type {\n",
       "        vertical-align: middle;\n",
       "    }\n",
       "\n",
       "    .dataframe tbody tr th {\n",
       "        vertical-align: top;\n",
       "    }\n",
       "\n",
       "    .dataframe thead th {\n",
       "        text-align: right;\n",
       "    }\n",
       "</style>\n",
       "<table border=\"1\" class=\"dataframe\">\n",
       "  <thead>\n",
       "    <tr style=\"text-align: right;\">\n",
       "      <th></th>\n",
       "      <th>States Parties</th>\n",
       "      <th>Properties inscribed</th>\n",
       "    </tr>\n",
       "  </thead>\n",
       "  <tbody>\n",
       "    <tr>\n",
       "      <th>73</th>\n",
       "      <td>Italy</td>\n",
       "      <td>60</td>\n",
       "    </tr>\n",
       "    <tr>\n",
       "      <th>31</th>\n",
       "      <td>China</td>\n",
       "      <td>59</td>\n",
       "    </tr>\n",
       "    <tr>\n",
       "      <th>57</th>\n",
       "      <td>Germany</td>\n",
       "      <td>54</td>\n",
       "    </tr>\n",
       "    <tr>\n",
       "      <th>53</th>\n",
       "      <td>France</td>\n",
       "      <td>53</td>\n",
       "    </tr>\n",
       "    <tr>\n",
       "      <th>140</th>\n",
       "      <td>Spain</td>\n",
       "      <td>50</td>\n",
       "    </tr>\n",
       "  </tbody>\n",
       "</table>\n",
       "</div>"
      ],
      "text/plain": [
       "    States Parties  Properties inscribed\n",
       "73           Italy                    60\n",
       "31           China                    59\n",
       "57         Germany                    54\n",
       "53          France                    53\n",
       "140          Spain                    50"
      ]
     },
     "execution_count": 142,
     "metadata": {},
     "output_type": "execute_result"
    }
   ],
   "source": [
    "print(f\"Number of countries: {uwh.shape[0]}\")\n",
    "uwh.sort_values(by='Properties inscribed', ascending=False).head()"
   ]
  },
  {
   "cell_type": "markdown",
   "id": "54ff94de-db55-4214-a92f-93b055cc1acc",
   "metadata": {},
   "source": [
    "### Inbound arrivals"
   ]
  },
  {
   "cell_type": "code",
   "execution_count": 215,
   "id": "ad9a2490-1bc6-4dd0-9e72-291033ff7ce7",
   "metadata": {},
   "outputs": [
    {
     "name": "stdout",
     "output_type": "stream",
     "text": [
      "(4933, 4)\n"
     ]
    },
    {
     "data": {
      "text/html": [
       "<div>\n",
       "<style scoped>\n",
       "    .dataframe tbody tr th:only-of-type {\n",
       "        vertical-align: middle;\n",
       "    }\n",
       "\n",
       "    .dataframe tbody tr th {\n",
       "        vertical-align: top;\n",
       "    }\n",
       "\n",
       "    .dataframe thead th {\n",
       "        text-align: right;\n",
       "    }\n",
       "</style>\n",
       "<table border=\"1\" class=\"dataframe\">\n",
       "  <thead>\n",
       "    <tr style=\"text-align: right;\">\n",
       "      <th></th>\n",
       "      <th>Entity</th>\n",
       "      <th>Code</th>\n",
       "      <th>Year</th>\n",
       "      <th>Inbound arrivals (tourists) per 1000 people</th>\n",
       "    </tr>\n",
       "  </thead>\n",
       "  <tbody>\n",
       "    <tr>\n",
       "      <th>0</th>\n",
       "      <td>Albania</td>\n",
       "      <td>ALB</td>\n",
       "      <td>2007</td>\n",
       "      <td>356.84418</td>\n",
       "    </tr>\n",
       "    <tr>\n",
       "      <th>1</th>\n",
       "      <td>Albania</td>\n",
       "      <td>ALB</td>\n",
       "      <td>2008</td>\n",
       "      <td>422.46985</td>\n",
       "    </tr>\n",
       "    <tr>\n",
       "      <th>2</th>\n",
       "      <td>Albania</td>\n",
       "      <td>ALB</td>\n",
       "      <td>2009</td>\n",
       "      <td>583.84890</td>\n",
       "    </tr>\n",
       "    <tr>\n",
       "      <th>3</th>\n",
       "      <td>Albania</td>\n",
       "      <td>ALB</td>\n",
       "      <td>2010</td>\n",
       "      <td>752.04175</td>\n",
       "    </tr>\n",
       "    <tr>\n",
       "      <th>4</th>\n",
       "      <td>Albania</td>\n",
       "      <td>ALB</td>\n",
       "      <td>2011</td>\n",
       "      <td>851.18560</td>\n",
       "    </tr>\n",
       "  </tbody>\n",
       "</table>\n",
       "</div>"
      ],
      "text/plain": [
       "    Entity Code  Year  Inbound arrivals (tourists) per 1000 people\n",
       "0  Albania  ALB  2007                                    356.84418\n",
       "1  Albania  ALB  2008                                    422.46985\n",
       "2  Albania  ALB  2009                                    583.84890\n",
       "3  Albania  ALB  2010                                    752.04175\n",
       "4  Albania  ALB  2011                                    851.18560"
      ]
     },
     "execution_count": 215,
     "metadata": {},
     "output_type": "execute_result"
    }
   ],
   "source": [
    "inbound_arrivals = pd.read_csv(DATA_PATH + \"23-international-tourist-trips-per-1000-people.csv\")\n",
    "print(inbound_arrivals.shape)\n",
    "inbound_arrivals.head()"
   ]
  },
  {
   "cell_type": "markdown",
   "id": "c36d9da1-fc48-48cb-bdba-d10a7c0b0ace",
   "metadata": {},
   "source": [
    "Check for NaNs:"
   ]
  },
  {
   "cell_type": "code",
   "execution_count": 218,
   "id": "aa66ec38-0db3-4258-be88-2741f28ccecc",
   "metadata": {},
   "outputs": [
    {
     "name": "stdout",
     "output_type": "stream",
     "text": [
      "Number of rows with NaN values: 0\n"
     ]
    }
   ],
   "source": [
    "print(f\"Number of rows with NaN values: {inbound_arrivals[inbound_arrivals.isna().any(axis=1)].shape[0]}\")"
   ]
  },
  {
   "cell_type": "markdown",
   "id": "8a8cd735-66ee-4360-8fb1-39ca43a6bbfd",
   "metadata": {},
   "source": [
    "Let's have a look at the most visited countries (relative to their size) over the last 15 years. We see that small countries are present at the top, this will have to be adjusted using the total population from `world_pop.csv`."
   ]
  },
  {
   "cell_type": "code",
   "execution_count": 217,
   "id": "b4ddc4da-26d4-47e5-8b34-237fc0653f32",
   "metadata": {},
   "outputs": [
    {
     "data": {
      "text/html": [
       "<div>\n",
       "<style scoped>\n",
       "    .dataframe tbody tr th:only-of-type {\n",
       "        vertical-align: middle;\n",
       "    }\n",
       "\n",
       "    .dataframe tbody tr th {\n",
       "        vertical-align: top;\n",
       "    }\n",
       "\n",
       "    .dataframe thead th {\n",
       "        text-align: right;\n",
       "    }\n",
       "</style>\n",
       "<table border=\"1\" class=\"dataframe\">\n",
       "  <thead>\n",
       "    <tr style=\"text-align: right;\">\n",
       "      <th></th>\n",
       "      <th>Entity</th>\n",
       "      <th>Inbound arrivals (tourists) per 1000 people</th>\n",
       "    </tr>\n",
       "  </thead>\n",
       "  <tbody>\n",
       "    <tr>\n",
       "      <th>2</th>\n",
       "      <td>Andorra</td>\n",
       "      <td>34111.430364</td>\n",
       "    </tr>\n",
       "    <tr>\n",
       "      <th>102</th>\n",
       "      <td>Macao</td>\n",
       "      <td>21405.513791</td>\n",
       "    </tr>\n",
       "    <tr>\n",
       "      <th>25</th>\n",
       "      <td>British Virgin Islands</td>\n",
       "      <td>9943.847382</td>\n",
       "    </tr>\n",
       "    <tr>\n",
       "      <th>179</th>\n",
       "      <td>Turks and Caicos Islands</td>\n",
       "      <td>9706.947755</td>\n",
       "    </tr>\n",
       "    <tr>\n",
       "      <th>160</th>\n",
       "      <td>Sint Maarten (Dutch part)</td>\n",
       "      <td>9592.671236</td>\n",
       "    </tr>\n",
       "  </tbody>\n",
       "</table>\n",
       "</div>"
      ],
      "text/plain": [
       "                        Entity  Inbound arrivals (tourists) per 1000 people\n",
       "2                      Andorra                                 34111.430364\n",
       "102                      Macao                                 21405.513791\n",
       "25      British Virgin Islands                                  9943.847382\n",
       "179   Turks and Caicos Islands                                  9706.947755\n",
       "160  Sint Maarten (Dutch part)                                  9592.671236"
      ]
     },
     "execution_count": 217,
     "metadata": {},
     "output_type": "execute_result"
    }
   ],
   "source": [
    "inbound_arrivals[inbound_arrivals[\"Year\"] > 2010].groupby(\"Entity\")[\"Inbound arrivals (tourists) per 1000 people\"].mean().reset_index().sort_values(\n",
    "    by=\"Inbound arrivals (tourists) per 1000 people\", ascending=False).head()"
   ]
  },
  {
   "cell_type": "markdown",
   "id": "f91e00a5-95a8-4082-9522-528cf5aa0557",
   "metadata": {},
   "source": [
    "### Number of foreign guests in hotels"
   ]
  },
  {
   "cell_type": "code",
   "execution_count": 190,
   "id": "7201dc8b-987f-419f-9d79-e38349cf30a1",
   "metadata": {},
   "outputs": [
    {
     "name": "stdout",
     "output_type": "stream",
     "text": [
      "(2879, 4)\n"
     ]
    },
    {
     "data": {
      "text/html": [
       "<div>\n",
       "<style scoped>\n",
       "    .dataframe tbody tr th:only-of-type {\n",
       "        vertical-align: middle;\n",
       "    }\n",
       "\n",
       "    .dataframe tbody tr th {\n",
       "        vertical-align: top;\n",
       "    }\n",
       "\n",
       "    .dataframe thead th {\n",
       "        text-align: right;\n",
       "    }\n",
       "</style>\n",
       "<table border=\"1\" class=\"dataframe\">\n",
       "  <thead>\n",
       "    <tr style=\"text-align: right;\">\n",
       "      <th></th>\n",
       "      <th>Entity</th>\n",
       "      <th>Code</th>\n",
       "      <th>Year</th>\n",
       "      <th>Foreign guests in tourism accommodation (hotels and similar establishments)</th>\n",
       "    </tr>\n",
       "  </thead>\n",
       "  <tbody>\n",
       "    <tr>\n",
       "      <th>0</th>\n",
       "      <td>Albania</td>\n",
       "      <td>ALB</td>\n",
       "      <td>1995</td>\n",
       "      <td>41000</td>\n",
       "    </tr>\n",
       "    <tr>\n",
       "      <th>1</th>\n",
       "      <td>Albania</td>\n",
       "      <td>ALB</td>\n",
       "      <td>1996</td>\n",
       "      <td>64000</td>\n",
       "    </tr>\n",
       "    <tr>\n",
       "      <th>2</th>\n",
       "      <td>Albania</td>\n",
       "      <td>ALB</td>\n",
       "      <td>1997</td>\n",
       "      <td>23000</td>\n",
       "    </tr>\n",
       "    <tr>\n",
       "      <th>3</th>\n",
       "      <td>Albania</td>\n",
       "      <td>ALB</td>\n",
       "      <td>1998</td>\n",
       "      <td>22000</td>\n",
       "    </tr>\n",
       "    <tr>\n",
       "      <th>4</th>\n",
       "      <td>Albania</td>\n",
       "      <td>ALB</td>\n",
       "      <td>1999</td>\n",
       "      <td>26000</td>\n",
       "    </tr>\n",
       "  </tbody>\n",
       "</table>\n",
       "</div>"
      ],
      "text/plain": [
       "    Entity Code  Year  \\\n",
       "0  Albania  ALB  1995   \n",
       "1  Albania  ALB  1996   \n",
       "2  Albania  ALB  1997   \n",
       "3  Albania  ALB  1998   \n",
       "4  Albania  ALB  1999   \n",
       "\n",
       "   Foreign guests in tourism accommodation (hotels and similar establishments)  \n",
       "0                                              41000                            \n",
       "1                                              64000                            \n",
       "2                                              23000                            \n",
       "3                                              22000                            \n",
       "4                                              26000                            "
      ]
     },
     "execution_count": 190,
     "metadata": {},
     "output_type": "execute_result"
    }
   ],
   "source": [
    "hotel_guests = pd.read_csv(DATA_PATH + \"15-foreign-guests-in-hotels-and-similar-establishments.csv\")\n",
    "print(hotel_guests.shape)\n",
    "hotel_guests.head()"
   ]
  },
  {
   "cell_type": "markdown",
   "id": "5adfd313-1f87-42a2-a798-738068f6b05b",
   "metadata": {},
   "source": [
    "Check for NaNs:"
   ]
  },
  {
   "cell_type": "code",
   "execution_count": 192,
   "id": "04b16850-20d9-4e64-a5b1-3cd9bfc12c6e",
   "metadata": {},
   "outputs": [
    {
     "name": "stdout",
     "output_type": "stream",
     "text": [
      "Number of rows with NaN values: 0\n"
     ]
    }
   ],
   "source": [
    "print(f\"Number of rows with NaN values: {hotel_guests[hotel_guests.isna().any(axis=1)].shape[0]}\")"
   ]
  },
  {
   "cell_type": "markdown",
   "id": "30ae06f6-b8ad-451a-ba76-895665215be5",
   "metadata": {},
   "source": [
    "Here are the countries with the highest number of foreign guests in their hotels:"
   ]
  },
  {
   "cell_type": "code",
   "execution_count": 222,
   "id": "2da972de-7b13-4f0e-97cd-1ed3a8633eb3",
   "metadata": {},
   "outputs": [
    {
     "data": {
      "text/html": [
       "<div>\n",
       "<style scoped>\n",
       "    .dataframe tbody tr th:only-of-type {\n",
       "        vertical-align: middle;\n",
       "    }\n",
       "\n",
       "    .dataframe tbody tr th {\n",
       "        vertical-align: top;\n",
       "    }\n",
       "\n",
       "    .dataframe thead th {\n",
       "        text-align: right;\n",
       "    }\n",
       "</style>\n",
       "<table border=\"1\" class=\"dataframe\">\n",
       "  <thead>\n",
       "    <tr style=\"text-align: right;\">\n",
       "      <th></th>\n",
       "      <th>Entity</th>\n",
       "      <th>Foreign guests in tourism accommodation (hotels and similar establishments)</th>\n",
       "    </tr>\n",
       "  </thead>\n",
       "  <tbody>\n",
       "    <tr>\n",
       "      <th>26</th>\n",
       "      <td>China</td>\n",
       "      <td>1.042473e+08</td>\n",
       "    </tr>\n",
       "    <tr>\n",
       "      <th>114</th>\n",
       "      <td>Thailand</td>\n",
       "      <td>4.541510e+07</td>\n",
       "    </tr>\n",
       "    <tr>\n",
       "      <th>109</th>\n",
       "      <td>Spain</td>\n",
       "      <td>4.133273e+07</td>\n",
       "    </tr>\n",
       "    <tr>\n",
       "      <th>58</th>\n",
       "      <td>Italy</td>\n",
       "      <td>3.743573e+07</td>\n",
       "    </tr>\n",
       "    <tr>\n",
       "      <th>60</th>\n",
       "      <td>Japan</td>\n",
       "      <td>3.116509e+07</td>\n",
       "    </tr>\n",
       "  </tbody>\n",
       "</table>\n",
       "</div>"
      ],
      "text/plain": [
       "       Entity  \\\n",
       "26      China   \n",
       "114  Thailand   \n",
       "109     Spain   \n",
       "58      Italy   \n",
       "60      Japan   \n",
       "\n",
       "     Foreign guests in tourism accommodation (hotels and similar establishments)  \n",
       "26                                        1.042473e+08                            \n",
       "114                                       4.541510e+07                            \n",
       "109                                       4.133273e+07                            \n",
       "58                                        3.743573e+07                            \n",
       "60                                        3.116509e+07                            "
      ]
     },
     "execution_count": 222,
     "metadata": {},
     "output_type": "execute_result"
    }
   ],
   "source": [
    "hotel_guests[hotel_guests[\"Year\"] > 2010].groupby(\"Entity\")[\"Foreign guests in tourism accommodation (hotels and similar establishments)\"].mean().reset_index().sort_values(\n",
    "    by=\"Foreign guests in tourism accommodation (hotels and similar establishments)\", ascending=False).head()"
   ]
  },
  {
   "cell_type": "markdown",
   "id": "35fa0d2a-8f5d-466b-9cdf-f4a2016a3acf",
   "metadata": {},
   "source": [
    "### Average expenditures of international tourists"
   ]
  },
  {
   "cell_type": "code",
   "execution_count": 193,
   "id": "f544036e-c213-4abc-ab24-0ceb0a9ca2c4",
   "metadata": {},
   "outputs": [
    {
     "name": "stdout",
     "output_type": "stream",
     "text": [
      "(1260, 4)\n"
     ]
    },
    {
     "data": {
      "text/html": [
       "<div>\n",
       "<style scoped>\n",
       "    .dataframe tbody tr th:only-of-type {\n",
       "        vertical-align: middle;\n",
       "    }\n",
       "\n",
       "    .dataframe tbody tr th {\n",
       "        vertical-align: top;\n",
       "    }\n",
       "\n",
       "    .dataframe thead th {\n",
       "        text-align: right;\n",
       "    }\n",
       "</style>\n",
       "<table border=\"1\" class=\"dataframe\">\n",
       "  <thead>\n",
       "    <tr style=\"text-align: right;\">\n",
       "      <th></th>\n",
       "      <th>Entity</th>\n",
       "      <th>Code</th>\n",
       "      <th>Year</th>\n",
       "      <th>Inbound Tourism Expenditure (adjusted for inflation and cost of living)</th>\n",
       "    </tr>\n",
       "  </thead>\n",
       "  <tbody>\n",
       "    <tr>\n",
       "      <th>0</th>\n",
       "      <td>Australia</td>\n",
       "      <td>AUS</td>\n",
       "      <td>1995</td>\n",
       "      <td>12904206000</td>\n",
       "    </tr>\n",
       "    <tr>\n",
       "      <th>1</th>\n",
       "      <td>Australia</td>\n",
       "      <td>AUS</td>\n",
       "      <td>1996</td>\n",
       "      <td>13947016000</td>\n",
       "    </tr>\n",
       "    <tr>\n",
       "      <th>2</th>\n",
       "      <td>Australia</td>\n",
       "      <td>AUS</td>\n",
       "      <td>1997</td>\n",
       "      <td>14575643000</td>\n",
       "    </tr>\n",
       "    <tr>\n",
       "      <th>3</th>\n",
       "      <td>Australia</td>\n",
       "      <td>AUS</td>\n",
       "      <td>1998</td>\n",
       "      <td>14679026000</td>\n",
       "    </tr>\n",
       "    <tr>\n",
       "      <th>4</th>\n",
       "      <td>Australia</td>\n",
       "      <td>AUS</td>\n",
       "      <td>1999</td>\n",
       "      <td>16038053000</td>\n",
       "    </tr>\n",
       "  </tbody>\n",
       "</table>\n",
       "</div>"
      ],
      "text/plain": [
       "      Entity Code  Year  \\\n",
       "0  Australia  AUS  1995   \n",
       "1  Australia  AUS  1996   \n",
       "2  Australia  AUS  1997   \n",
       "3  Australia  AUS  1998   \n",
       "4  Australia  AUS  1999   \n",
       "\n",
       "   Inbound Tourism Expenditure (adjusted for inflation and cost of living)  \n",
       "0                                        12904206000                        \n",
       "1                                        13947016000                        \n",
       "2                                        14575643000                        \n",
       "3                                        14679026000                        \n",
       "4                                        16038053000                        "
      ]
     },
     "execution_count": 193,
     "metadata": {},
     "output_type": "execute_result"
    }
   ],
   "source": [
    "expenditures = pd.read_csv(DATA_PATH + \"21-average-expenditures-of-international-tourists-domestically.csv\")\n",
    "print(expenditures.shape)\n",
    "expenditures.head()"
   ]
  },
  {
   "cell_type": "markdown",
   "id": "1ead87ae-21e4-4fcd-a4e3-7abcafeba553",
   "metadata": {},
   "source": [
    "Check for NaNs"
   ]
  },
  {
   "cell_type": "code",
   "execution_count": 194,
   "id": "206bb84f-1813-4c85-acda-042b95c48421",
   "metadata": {},
   "outputs": [
    {
     "name": "stdout",
     "output_type": "stream",
     "text": [
      "Number of rows with NaN values: 0\n"
     ]
    }
   ],
   "source": [
    "print(f\"Number of rows with NaN values: {hotel_guests[hotel_guests.isna().any(axis=1)].shape[0]}\")"
   ]
  },
  {
   "cell_type": "markdown",
   "id": "6b42090d-5c8f-4030-94bb-385f369cfcdf",
   "metadata": {},
   "source": [
    "Finally let's look at the countries where tourist spend the most:"
   ]
  },
  {
   "cell_type": "code",
   "execution_count": 228,
   "id": "9870d5a0-8a8b-4411-9a61-f6ba9ed65a33",
   "metadata": {},
   "outputs": [
    {
     "data": {
      "text/html": [
       "<div>\n",
       "<style scoped>\n",
       "    .dataframe tbody tr th:only-of-type {\n",
       "        vertical-align: middle;\n",
       "    }\n",
       "\n",
       "    .dataframe tbody tr th {\n",
       "        vertical-align: top;\n",
       "    }\n",
       "\n",
       "    .dataframe thead th {\n",
       "        text-align: right;\n",
       "    }\n",
       "</style>\n",
       "<table border=\"1\" class=\"dataframe\">\n",
       "  <thead>\n",
       "    <tr style=\"text-align: right;\">\n",
       "      <th></th>\n",
       "      <th>Entity</th>\n",
       "      <th>Inbound Tourism Expenditure (adjusted for inflation and cost of living)</th>\n",
       "    </tr>\n",
       "  </thead>\n",
       "  <tbody>\n",
       "    <tr>\n",
       "      <th>46</th>\n",
       "      <td>United States</td>\n",
       "      <td>1.806270e+11</td>\n",
       "    </tr>\n",
       "    <tr>\n",
       "      <th>41</th>\n",
       "      <td>Spain</td>\n",
       "      <td>7.707603e+10</td>\n",
       "    </tr>\n",
       "    <tr>\n",
       "      <th>14</th>\n",
       "      <td>France</td>\n",
       "      <td>5.802066e+10</td>\n",
       "    </tr>\n",
       "    <tr>\n",
       "      <th>45</th>\n",
       "      <td>United Kingdom</td>\n",
       "      <td>4.823419e+10</td>\n",
       "    </tr>\n",
       "    <tr>\n",
       "      <th>44</th>\n",
       "      <td>Turkey</td>\n",
       "      <td>4.720259e+10</td>\n",
       "    </tr>\n",
       "  </tbody>\n",
       "</table>\n",
       "</div>"
      ],
      "text/plain": [
       "            Entity  \\\n",
       "46   United States   \n",
       "41           Spain   \n",
       "14          France   \n",
       "45  United Kingdom   \n",
       "44          Turkey   \n",
       "\n",
       "    Inbound Tourism Expenditure (adjusted for inflation and cost of living)  \n",
       "46                                       1.806270e+11                        \n",
       "41                                       7.707603e+10                        \n",
       "14                                       5.802066e+10                        \n",
       "45                                       4.823419e+10                        \n",
       "44                                       4.720259e+10                        "
      ]
     },
     "execution_count": 228,
     "metadata": {},
     "output_type": "execute_result"
    }
   ],
   "source": [
    "expenditures[expenditures[\"Year\"] > 2010].groupby(\"Entity\")[\"Inbound Tourism Expenditure (adjusted for inflation and cost of living)\"].mean().reset_index().sort_values(\n",
    "    by=\"Inbound Tourism Expenditure (adjusted for inflation and cost of living)\", ascending=False).head()"
   ]
  },
  {
   "cell_type": "code",
   "execution_count": null,
   "id": "5702c5e0-1da7-4bf2-860f-21687abd2c6d",
   "metadata": {},
   "outputs": [],
   "source": []
  }
 ],
 "metadata": {
  "kernelspec": {
   "display_name": "Python 3 (ipykernel)",
   "language": "python",
   "name": "python3"
  },
  "language_info": {
   "codemirror_mode": {
    "name": "ipython",
    "version": 3
   },
   "file_extension": ".py",
   "mimetype": "text/x-python",
   "name": "python",
   "nbconvert_exporter": "python",
   "pygments_lexer": "ipython3",
   "version": "3.11.4"
  }
 },
 "nbformat": 4,
 "nbformat_minor": 5
}
