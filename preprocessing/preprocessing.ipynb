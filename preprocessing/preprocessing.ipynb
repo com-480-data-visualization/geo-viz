{
 "cells": [
  {
   "cell_type": "code",
   "execution_count": 1,
   "id": "0f98ffb0-de2b-457f-bcea-77603c05bde3",
   "metadata": {},
   "outputs": [],
   "source": [
    "import pandas as pd\n",
    "DATA_PATH = \"../datasets/\""
   ]
  },
  {
   "cell_type": "markdown",
   "id": "57253805-7bf6-4688-a55c-84c2794dcf56",
   "metadata": {},
   "source": [
    "Load world population for computations:"
   ]
  },
  {
   "cell_type": "code",
   "execution_count": 2,
   "id": "acf14af0-5c40-4cb0-aa6f-b05ad40554fb",
   "metadata": {},
   "outputs": [],
   "source": [
    "world_pop = pd.read_csv(DATA_PATH + \"world_population.csv\")\n",
    "# Rename column to match naming of other tables\n",
    "world_pop = world_pop.rename(columns = {'CCA3': 'Code'}) "
   ]
  },
  {
   "cell_type": "code",
   "execution_count": 3,
   "id": "03bd216c-9e8d-4f2c-8862-b7a9d50e4411",
   "metadata": {},
   "outputs": [
    {
     "name": "stdout",
     "output_type": "stream",
     "text": [
      "Data available for 234 countries.\n"
     ]
    },
    {
     "data": {
      "text/html": [
       "<div>\n",
       "<style scoped>\n",
       "    .dataframe tbody tr th:only-of-type {\n",
       "        vertical-align: middle;\n",
       "    }\n",
       "\n",
       "    .dataframe tbody tr th {\n",
       "        vertical-align: top;\n",
       "    }\n",
       "\n",
       "    .dataframe thead th {\n",
       "        text-align: right;\n",
       "    }\n",
       "</style>\n",
       "<table border=\"1\" class=\"dataframe\">\n",
       "  <thead>\n",
       "    <tr style=\"text-align: right;\">\n",
       "      <th></th>\n",
       "      <th>Rank</th>\n",
       "      <th>Code</th>\n",
       "      <th>Country/Territory</th>\n",
       "      <th>Capital</th>\n",
       "      <th>Continent</th>\n",
       "      <th>2022 Population</th>\n",
       "      <th>2020 Population</th>\n",
       "      <th>2015 Population</th>\n",
       "      <th>2010 Population</th>\n",
       "      <th>2000 Population</th>\n",
       "      <th>1990 Population</th>\n",
       "      <th>1980 Population</th>\n",
       "      <th>1970 Population</th>\n",
       "      <th>Area (km²)</th>\n",
       "      <th>Density (per km²)</th>\n",
       "      <th>Growth Rate</th>\n",
       "      <th>World Population Percentage</th>\n",
       "    </tr>\n",
       "  </thead>\n",
       "  <tbody>\n",
       "    <tr>\n",
       "      <th>0</th>\n",
       "      <td>36</td>\n",
       "      <td>AFG</td>\n",
       "      <td>Afghanistan</td>\n",
       "      <td>Kabul</td>\n",
       "      <td>Asia</td>\n",
       "      <td>41128771</td>\n",
       "      <td>38972230</td>\n",
       "      <td>33753499</td>\n",
       "      <td>28189672</td>\n",
       "      <td>19542982</td>\n",
       "      <td>10694796</td>\n",
       "      <td>12486631</td>\n",
       "      <td>10752971</td>\n",
       "      <td>652230</td>\n",
       "      <td>63.0587</td>\n",
       "      <td>1.0257</td>\n",
       "      <td>0.52</td>\n",
       "    </tr>\n",
       "    <tr>\n",
       "      <th>1</th>\n",
       "      <td>138</td>\n",
       "      <td>ALB</td>\n",
       "      <td>Albania</td>\n",
       "      <td>Tirana</td>\n",
       "      <td>Europe</td>\n",
       "      <td>2842321</td>\n",
       "      <td>2866849</td>\n",
       "      <td>2882481</td>\n",
       "      <td>2913399</td>\n",
       "      <td>3182021</td>\n",
       "      <td>3295066</td>\n",
       "      <td>2941651</td>\n",
       "      <td>2324731</td>\n",
       "      <td>28748</td>\n",
       "      <td>98.8702</td>\n",
       "      <td>0.9957</td>\n",
       "      <td>0.04</td>\n",
       "    </tr>\n",
       "    <tr>\n",
       "      <th>2</th>\n",
       "      <td>34</td>\n",
       "      <td>DZA</td>\n",
       "      <td>Algeria</td>\n",
       "      <td>Algiers</td>\n",
       "      <td>Africa</td>\n",
       "      <td>44903225</td>\n",
       "      <td>43451666</td>\n",
       "      <td>39543154</td>\n",
       "      <td>35856344</td>\n",
       "      <td>30774621</td>\n",
       "      <td>25518074</td>\n",
       "      <td>18739378</td>\n",
       "      <td>13795915</td>\n",
       "      <td>2381741</td>\n",
       "      <td>18.8531</td>\n",
       "      <td>1.0164</td>\n",
       "      <td>0.56</td>\n",
       "    </tr>\n",
       "    <tr>\n",
       "      <th>3</th>\n",
       "      <td>213</td>\n",
       "      <td>ASM</td>\n",
       "      <td>American Samoa</td>\n",
       "      <td>Pago Pago</td>\n",
       "      <td>Oceania</td>\n",
       "      <td>44273</td>\n",
       "      <td>46189</td>\n",
       "      <td>51368</td>\n",
       "      <td>54849</td>\n",
       "      <td>58230</td>\n",
       "      <td>47818</td>\n",
       "      <td>32886</td>\n",
       "      <td>27075</td>\n",
       "      <td>199</td>\n",
       "      <td>222.4774</td>\n",
       "      <td>0.9831</td>\n",
       "      <td>0.00</td>\n",
       "    </tr>\n",
       "    <tr>\n",
       "      <th>4</th>\n",
       "      <td>203</td>\n",
       "      <td>AND</td>\n",
       "      <td>Andorra</td>\n",
       "      <td>Andorra la Vella</td>\n",
       "      <td>Europe</td>\n",
       "      <td>79824</td>\n",
       "      <td>77700</td>\n",
       "      <td>71746</td>\n",
       "      <td>71519</td>\n",
       "      <td>66097</td>\n",
       "      <td>53569</td>\n",
       "      <td>35611</td>\n",
       "      <td>19860</td>\n",
       "      <td>468</td>\n",
       "      <td>170.5641</td>\n",
       "      <td>1.0100</td>\n",
       "      <td>0.00</td>\n",
       "    </tr>\n",
       "  </tbody>\n",
       "</table>\n",
       "</div>"
      ],
      "text/plain": [
       "   Rank Code Country/Territory           Capital Continent  2022 Population  \\\n",
       "0    36  AFG       Afghanistan             Kabul      Asia         41128771   \n",
       "1   138  ALB           Albania            Tirana    Europe          2842321   \n",
       "2    34  DZA           Algeria           Algiers    Africa         44903225   \n",
       "3   213  ASM    American Samoa         Pago Pago   Oceania            44273   \n",
       "4   203  AND           Andorra  Andorra la Vella    Europe            79824   \n",
       "\n",
       "   2020 Population  2015 Population  2010 Population  2000 Population  \\\n",
       "0         38972230         33753499         28189672         19542982   \n",
       "1          2866849          2882481          2913399          3182021   \n",
       "2         43451666         39543154         35856344         30774621   \n",
       "3            46189            51368            54849            58230   \n",
       "4            77700            71746            71519            66097   \n",
       "\n",
       "   1990 Population  1980 Population  1970 Population  Area (km²)  \\\n",
       "0         10694796         12486631         10752971      652230   \n",
       "1          3295066          2941651          2324731       28748   \n",
       "2         25518074         18739378         13795915     2381741   \n",
       "3            47818            32886            27075         199   \n",
       "4            53569            35611            19860         468   \n",
       "\n",
       "   Density (per km²)  Growth Rate  World Population Percentage  \n",
       "0            63.0587       1.0257                         0.52  \n",
       "1            98.8702       0.9957                         0.04  \n",
       "2            18.8531       1.0164                         0.56  \n",
       "3           222.4774       0.9831                         0.00  \n",
       "4           170.5641       1.0100                         0.00  "
      ]
     },
     "execution_count": 3,
     "metadata": {},
     "output_type": "execute_result"
    }
   ],
   "source": [
    "print(f\"Data available for {len(world_pop['Code'].unique())} countries.\")\n",
    "world_pop.head()"
   ]
  },
  {
   "cell_type": "markdown",
   "id": "7f94fd30-176e-42b4-b04f-1f9d0cd1672b",
   "metadata": {
    "jp-MarkdownHeadingCollapsed": true
   },
   "source": [
    "#### Temperatures"
   ]
  },
  {
   "cell_type": "code",
   "execution_count": 4,
   "id": "eff3fb62-5acc-40c6-8ad9-86185133f45c",
   "metadata": {},
   "outputs": [],
   "source": [
    "temperatures = pd.read_csv(DATA_PATH + \"average-monthly-surface-temperature.csv\")\n",
    "# Rename columns based on their actual meaning explained on Kaggle\n",
    "temperatures = temperatures.rename(columns = {'Average surface temperature': 'Monthly average surface temperature',\n",
    "                                             'Average surface temperature.1': 'Yearly average surface temperature',\n",
    "                                             'Day': 'Month', 'year': 'Year'})\n",
    "temperatures['Month'] = pd.to_datetime(temperatures['Month']).dt.strftime(\"%m\")"
   ]
  },
  {
   "cell_type": "code",
   "execution_count": 5,
   "id": "f9c16b6b-4ae5-4a96-ae09-03e6a7dd44d3",
   "metadata": {},
   "outputs": [
    {
     "name": "stdout",
     "output_type": "stream",
     "text": [
      "198900 data points\n"
     ]
    },
    {
     "data": {
      "text/html": [
       "<div>\n",
       "<style scoped>\n",
       "    .dataframe tbody tr th:only-of-type {\n",
       "        vertical-align: middle;\n",
       "    }\n",
       "\n",
       "    .dataframe tbody tr th {\n",
       "        vertical-align: top;\n",
       "    }\n",
       "\n",
       "    .dataframe thead th {\n",
       "        text-align: right;\n",
       "    }\n",
       "</style>\n",
       "<table border=\"1\" class=\"dataframe\">\n",
       "  <thead>\n",
       "    <tr style=\"text-align: right;\">\n",
       "      <th></th>\n",
       "      <th>Entity</th>\n",
       "      <th>Code</th>\n",
       "      <th>Year</th>\n",
       "      <th>Month</th>\n",
       "      <th>Monthly average surface temperature</th>\n",
       "      <th>Yearly average surface temperature</th>\n",
       "    </tr>\n",
       "  </thead>\n",
       "  <tbody>\n",
       "    <tr>\n",
       "      <th>0</th>\n",
       "      <td>Afghanistan</td>\n",
       "      <td>AFG</td>\n",
       "      <td>1940</td>\n",
       "      <td>01</td>\n",
       "      <td>-2.032494</td>\n",
       "      <td>11.327695</td>\n",
       "    </tr>\n",
       "    <tr>\n",
       "      <th>1</th>\n",
       "      <td>Afghanistan</td>\n",
       "      <td>AFG</td>\n",
       "      <td>1940</td>\n",
       "      <td>02</td>\n",
       "      <td>-0.733503</td>\n",
       "      <td>11.327695</td>\n",
       "    </tr>\n",
       "    <tr>\n",
       "      <th>2</th>\n",
       "      <td>Afghanistan</td>\n",
       "      <td>AFG</td>\n",
       "      <td>1940</td>\n",
       "      <td>03</td>\n",
       "      <td>1.999134</td>\n",
       "      <td>11.327695</td>\n",
       "    </tr>\n",
       "    <tr>\n",
       "      <th>3</th>\n",
       "      <td>Afghanistan</td>\n",
       "      <td>AFG</td>\n",
       "      <td>1940</td>\n",
       "      <td>04</td>\n",
       "      <td>10.199754</td>\n",
       "      <td>11.327695</td>\n",
       "    </tr>\n",
       "    <tr>\n",
       "      <th>4</th>\n",
       "      <td>Afghanistan</td>\n",
       "      <td>AFG</td>\n",
       "      <td>1940</td>\n",
       "      <td>05</td>\n",
       "      <td>17.942135</td>\n",
       "      <td>11.327695</td>\n",
       "    </tr>\n",
       "  </tbody>\n",
       "</table>\n",
       "</div>"
      ],
      "text/plain": [
       "        Entity Code  Year Month  Monthly average surface temperature  \\\n",
       "0  Afghanistan  AFG  1940    01                            -2.032494   \n",
       "1  Afghanistan  AFG  1940    02                            -0.733503   \n",
       "2  Afghanistan  AFG  1940    03                             1.999134   \n",
       "3  Afghanistan  AFG  1940    04                            10.199754   \n",
       "4  Afghanistan  AFG  1940    05                            17.942135   \n",
       "\n",
       "   Yearly average surface temperature  \n",
       "0                           11.327695  \n",
       "1                           11.327695  \n",
       "2                           11.327695  \n",
       "3                           11.327695  \n",
       "4                           11.327695  "
      ]
     },
     "execution_count": 5,
     "metadata": {},
     "output_type": "execute_result"
    }
   ],
   "source": [
    "print(f\"{temperatures.shape[0]} data points\")\n",
    "temperatures.head()"
   ]
  },
  {
   "cell_type": "code",
   "execution_count": 6,
   "id": "ca0bafe6-a581-4093-905b-31de1dcfd294",
   "metadata": {},
   "outputs": [],
   "source": [
    "# Compute average monthly temperature for the last 10 years\n",
    "temperatures_processed = temperatures[temperatures['Year'] > 2004]\n",
    "temperatures_processed = temperatures_processed.groupby(['Code', 'Month'])[\"Monthly average surface temperature\"].mean().reset_index()\n",
    "temperatures_processed = temperatures_processed.rename(columns = {\"Monthly average surface temperature\": \"Temperature\"})\n",
    "temperatures_processed.to_csv(DATA_PATH + 'processed/temperatures.csv')"
   ]
  },
  {
   "cell_type": "code",
   "execution_count": 7,
   "id": "3b0f3de1-d4e8-4d5a-a751-13c7c4b1b7d9",
   "metadata": {},
   "outputs": [
    {
     "name": "stdout",
     "output_type": "stream",
     "text": [
      "(2340, 3)\n"
     ]
    },
    {
     "data": {
      "text/html": [
       "<div>\n",
       "<style scoped>\n",
       "    .dataframe tbody tr th:only-of-type {\n",
       "        vertical-align: middle;\n",
       "    }\n",
       "\n",
       "    .dataframe tbody tr th {\n",
       "        vertical-align: top;\n",
       "    }\n",
       "\n",
       "    .dataframe thead th {\n",
       "        text-align: right;\n",
       "    }\n",
       "</style>\n",
       "<table border=\"1\" class=\"dataframe\">\n",
       "  <thead>\n",
       "    <tr style=\"text-align: right;\">\n",
       "      <th></th>\n",
       "      <th>Code</th>\n",
       "      <th>Month</th>\n",
       "      <th>Temperature</th>\n",
       "    </tr>\n",
       "  </thead>\n",
       "  <tbody>\n",
       "    <tr>\n",
       "      <th>0</th>\n",
       "      <td>AFG</td>\n",
       "      <td>01</td>\n",
       "      <td>-1.049607</td>\n",
       "    </tr>\n",
       "    <tr>\n",
       "      <th>1</th>\n",
       "      <td>AFG</td>\n",
       "      <td>02</td>\n",
       "      <td>1.579556</td>\n",
       "    </tr>\n",
       "    <tr>\n",
       "      <th>2</th>\n",
       "      <td>AFG</td>\n",
       "      <td>03</td>\n",
       "      <td>7.712855</td>\n",
       "    </tr>\n",
       "    <tr>\n",
       "      <th>3</th>\n",
       "      <td>AFG</td>\n",
       "      <td>04</td>\n",
       "      <td>13.639239</td>\n",
       "    </tr>\n",
       "    <tr>\n",
       "      <th>4</th>\n",
       "      <td>AFG</td>\n",
       "      <td>05</td>\n",
       "      <td>19.318636</td>\n",
       "    </tr>\n",
       "  </tbody>\n",
       "</table>\n",
       "</div>"
      ],
      "text/plain": [
       "  Code Month  Temperature\n",
       "0  AFG    01    -1.049607\n",
       "1  AFG    02     1.579556\n",
       "2  AFG    03     7.712855\n",
       "3  AFG    04    13.639239\n",
       "4  AFG    05    19.318636"
      ]
     },
     "execution_count": 7,
     "metadata": {},
     "output_type": "execute_result"
    }
   ],
   "source": [
    "print(temperatures_processed.shape)\n",
    "temperatures_processed.head()"
   ]
  },
  {
   "cell_type": "markdown",
   "id": "adf67c31-f67e-4f82-b556-13f04061927e",
   "metadata": {
    "jp-MarkdownHeadingCollapsed": true
   },
   "source": [
    "#### Inbound arrivals"
   ]
  },
  {
   "cell_type": "code",
   "execution_count": 8,
   "id": "39fa5315-6166-4366-9c2d-87d0865a6038",
   "metadata": {},
   "outputs": [
    {
     "name": "stdout",
     "output_type": "stream",
     "text": [
      "(4933, 4)\n"
     ]
    },
    {
     "data": {
      "text/html": [
       "<div>\n",
       "<style scoped>\n",
       "    .dataframe tbody tr th:only-of-type {\n",
       "        vertical-align: middle;\n",
       "    }\n",
       "\n",
       "    .dataframe tbody tr th {\n",
       "        vertical-align: top;\n",
       "    }\n",
       "\n",
       "    .dataframe thead th {\n",
       "        text-align: right;\n",
       "    }\n",
       "</style>\n",
       "<table border=\"1\" class=\"dataframe\">\n",
       "  <thead>\n",
       "    <tr style=\"text-align: right;\">\n",
       "      <th></th>\n",
       "      <th>Entity</th>\n",
       "      <th>Code</th>\n",
       "      <th>Year</th>\n",
       "      <th>Inbound arrivals (tourists) per 1000 people</th>\n",
       "    </tr>\n",
       "  </thead>\n",
       "  <tbody>\n",
       "    <tr>\n",
       "      <th>0</th>\n",
       "      <td>Albania</td>\n",
       "      <td>ALB</td>\n",
       "      <td>2007</td>\n",
       "      <td>356.84418</td>\n",
       "    </tr>\n",
       "    <tr>\n",
       "      <th>1</th>\n",
       "      <td>Albania</td>\n",
       "      <td>ALB</td>\n",
       "      <td>2008</td>\n",
       "      <td>422.46985</td>\n",
       "    </tr>\n",
       "    <tr>\n",
       "      <th>2</th>\n",
       "      <td>Albania</td>\n",
       "      <td>ALB</td>\n",
       "      <td>2009</td>\n",
       "      <td>583.84890</td>\n",
       "    </tr>\n",
       "    <tr>\n",
       "      <th>3</th>\n",
       "      <td>Albania</td>\n",
       "      <td>ALB</td>\n",
       "      <td>2010</td>\n",
       "      <td>752.04175</td>\n",
       "    </tr>\n",
       "    <tr>\n",
       "      <th>4</th>\n",
       "      <td>Albania</td>\n",
       "      <td>ALB</td>\n",
       "      <td>2011</td>\n",
       "      <td>851.18560</td>\n",
       "    </tr>\n",
       "  </tbody>\n",
       "</table>\n",
       "</div>"
      ],
      "text/plain": [
       "    Entity Code  Year  Inbound arrivals (tourists) per 1000 people\n",
       "0  Albania  ALB  2007                                    356.84418\n",
       "1  Albania  ALB  2008                                    422.46985\n",
       "2  Albania  ALB  2009                                    583.84890\n",
       "3  Albania  ALB  2010                                    752.04175\n",
       "4  Albania  ALB  2011                                    851.18560"
      ]
     },
     "execution_count": 8,
     "metadata": {},
     "output_type": "execute_result"
    }
   ],
   "source": [
    "inbound_arrivals = pd.read_csv(DATA_PATH + \"23-international-tourist-trips-per-1000-people.csv\")\n",
    "print(inbound_arrivals.shape)\n",
    "inbound_arrivals.head()"
   ]
  },
  {
   "cell_type": "code",
   "execution_count": 9,
   "id": "5e6b1c00-890a-4e64-91e7-13f837dbab76",
   "metadata": {},
   "outputs": [],
   "source": [
    "# Compute average over last 5 available years, before COVID restrictions (2020)\n",
    "inbound_arrivals_processed = inbound_arrivals[inbound_arrivals['Year'] < 2020].sort_values(\n",
    "    by='Year', ascending=False).groupby('Code').head(5).groupby(\n",
    "    'Code')['Inbound arrivals (tourists) per 1000 people'].mean().reset_index()\n",
    "# Transform into absolute values to get country popularity\n",
    "inbound_arrivals_processed = inbound_arrivals_processed.rename(\n",
    "    columns = {\"Inbound arrivals (tourists) per 1000 people\": \"Popularity\"})\n",
    "inbound_arrivals_processed = pd.merge(inbound_arrivals_processed, world_pop, how='inner', on='Code')\n",
    "inbound_arrivals_processed['Popularity'] = inbound_arrivals_processed['Popularity'] * inbound_arrivals_processed['2022 Population'] / 1000\n",
    "inbound_arrivals_processed = inbound_arrivals_processed[['Code', 'Popularity']].round()\n",
    "inbound_arrivals_processed['Popularity'] = inbound_arrivals_processed['Popularity'].astype(int)\n",
    "inbound_arrivals_processed.to_csv(DATA_PATH + \"processed/popularity.csv\")"
   ]
  },
  {
   "cell_type": "code",
   "execution_count": 10,
   "id": "2ace62c7-2f69-44c6-8220-2f3f9ffb865d",
   "metadata": {},
   "outputs": [
    {
     "data": {
      "text/html": [
       "<div>\n",
       "<style scoped>\n",
       "    .dataframe tbody tr th:only-of-type {\n",
       "        vertical-align: middle;\n",
       "    }\n",
       "\n",
       "    .dataframe tbody tr th {\n",
       "        vertical-align: top;\n",
       "    }\n",
       "\n",
       "    .dataframe thead th {\n",
       "        text-align: right;\n",
       "    }\n",
       "</style>\n",
       "<table border=\"1\" class=\"dataframe\">\n",
       "  <thead>\n",
       "    <tr style=\"text-align: right;\">\n",
       "      <th></th>\n",
       "      <th>Code</th>\n",
       "      <th>Popularity</th>\n",
       "    </tr>\n",
       "  </thead>\n",
       "  <tbody>\n",
       "    <tr>\n",
       "      <th>60</th>\n",
       "      <td>FRA</td>\n",
       "      <td>87498049</td>\n",
       "    </tr>\n",
       "    <tr>\n",
       "      <th>189</th>\n",
       "      <td>USA</td>\n",
       "      <td>80166013</td>\n",
       "    </tr>\n",
       "    <tr>\n",
       "      <th>55</th>\n",
       "      <td>ESP</td>\n",
       "      <td>79783254</td>\n",
       "    </tr>\n",
       "    <tr>\n",
       "      <th>35</th>\n",
       "      <td>CHN</td>\n",
       "      <td>61819695</td>\n",
       "    </tr>\n",
       "    <tr>\n",
       "      <th>86</th>\n",
       "      <td>ITA</td>\n",
       "      <td>56588143</td>\n",
       "    </tr>\n",
       "  </tbody>\n",
       "</table>\n",
       "</div>"
      ],
      "text/plain": [
       "    Code  Popularity\n",
       "60   FRA    87498049\n",
       "189  USA    80166013\n",
       "55   ESP    79783254\n",
       "35   CHN    61819695\n",
       "86   ITA    56588143"
      ]
     },
     "execution_count": 10,
     "metadata": {},
     "output_type": "execute_result"
    }
   ],
   "source": [
    "inbound_arrivals_processed.sort_values(by='Popularity', ascending=False).head()"
   ]
  },
  {
   "cell_type": "markdown",
   "id": "0214ae10-c39a-439c-89e6-74db7aa7b3bc",
   "metadata": {
    "jp-MarkdownHeadingCollapsed": true
   },
   "source": [
    "#### Trip budget"
   ]
  },
  {
   "cell_type": "code",
   "execution_count": 11,
   "id": "3b667be3-b6bb-4399-beda-1090031ad0fb",
   "metadata": {},
   "outputs": [
    {
     "name": "stdout",
     "output_type": "stream",
     "text": [
      "(1260, 4)\n"
     ]
    },
    {
     "data": {
      "text/html": [
       "<div>\n",
       "<style scoped>\n",
       "    .dataframe tbody tr th:only-of-type {\n",
       "        vertical-align: middle;\n",
       "    }\n",
       "\n",
       "    .dataframe tbody tr th {\n",
       "        vertical-align: top;\n",
       "    }\n",
       "\n",
       "    .dataframe thead th {\n",
       "        text-align: right;\n",
       "    }\n",
       "</style>\n",
       "<table border=\"1\" class=\"dataframe\">\n",
       "  <thead>\n",
       "    <tr style=\"text-align: right;\">\n",
       "      <th></th>\n",
       "      <th>Entity</th>\n",
       "      <th>Code</th>\n",
       "      <th>Year</th>\n",
       "      <th>Inbound Tourism Expenditure (adjusted for inflation and cost of living)</th>\n",
       "    </tr>\n",
       "  </thead>\n",
       "  <tbody>\n",
       "    <tr>\n",
       "      <th>0</th>\n",
       "      <td>Australia</td>\n",
       "      <td>AUS</td>\n",
       "      <td>1995</td>\n",
       "      <td>12904206000</td>\n",
       "    </tr>\n",
       "    <tr>\n",
       "      <th>1</th>\n",
       "      <td>Australia</td>\n",
       "      <td>AUS</td>\n",
       "      <td>1996</td>\n",
       "      <td>13947016000</td>\n",
       "    </tr>\n",
       "    <tr>\n",
       "      <th>2</th>\n",
       "      <td>Australia</td>\n",
       "      <td>AUS</td>\n",
       "      <td>1997</td>\n",
       "      <td>14575643000</td>\n",
       "    </tr>\n",
       "    <tr>\n",
       "      <th>3</th>\n",
       "      <td>Australia</td>\n",
       "      <td>AUS</td>\n",
       "      <td>1998</td>\n",
       "      <td>14679026000</td>\n",
       "    </tr>\n",
       "    <tr>\n",
       "      <th>4</th>\n",
       "      <td>Australia</td>\n",
       "      <td>AUS</td>\n",
       "      <td>1999</td>\n",
       "      <td>16038053000</td>\n",
       "    </tr>\n",
       "  </tbody>\n",
       "</table>\n",
       "</div>"
      ],
      "text/plain": [
       "      Entity Code  Year  \\\n",
       "0  Australia  AUS  1995   \n",
       "1  Australia  AUS  1996   \n",
       "2  Australia  AUS  1997   \n",
       "3  Australia  AUS  1998   \n",
       "4  Australia  AUS  1999   \n",
       "\n",
       "   Inbound Tourism Expenditure (adjusted for inflation and cost of living)  \n",
       "0                                        12904206000                        \n",
       "1                                        13947016000                        \n",
       "2                                        14575643000                        \n",
       "3                                        14679026000                        \n",
       "4                                        16038053000                        "
      ]
     },
     "execution_count": 11,
     "metadata": {},
     "output_type": "execute_result"
    }
   ],
   "source": [
    "expenditures = pd.read_csv(DATA_PATH + \"21-average-expenditures-of-international-tourists-domestically.csv\")\n",
    "print(expenditures.shape)\n",
    "expenditures.head()"
   ]
  },
  {
   "cell_type": "code",
   "execution_count": 12,
   "id": "5bbe2737-9539-476f-9af5-b480b012fae5",
   "metadata": {},
   "outputs": [
    {
     "ename": "NameError",
     "evalue": "name 'absolute_arrivals' is not defined",
     "output_type": "error",
     "traceback": [
      "\u001b[1;31m---------------------------------------------------------------------------\u001b[0m",
      "\u001b[1;31mNameError\u001b[0m                                 Traceback (most recent call last)",
      "Cell \u001b[1;32mIn[12], line 8\u001b[0m\n\u001b[0;32m      5\u001b[0m \u001b[38;5;66;03m# Divide by absolute number of inbound arrivals to get average trip budget\u001b[39;00m\n\u001b[0;32m      6\u001b[0m expenditures_processed \u001b[38;5;241m=\u001b[39m expenditures_processed\u001b[38;5;241m.\u001b[39mrename(\n\u001b[0;32m      7\u001b[0m     columns \u001b[38;5;241m=\u001b[39m {\u001b[38;5;124m\"\u001b[39m\u001b[38;5;124mInbound Tourism Expenditure (adjusted for inflation and cost of living)\u001b[39m\u001b[38;5;124m\"\u001b[39m: \u001b[38;5;124m\"\u001b[39m\u001b[38;5;124mBudget\u001b[39m\u001b[38;5;124m\"\u001b[39m})\n\u001b[1;32m----> 8\u001b[0m expenditures_processed \u001b[38;5;241m=\u001b[39m pd\u001b[38;5;241m.\u001b[39mmerge(expenditures_processed, absolute_arrivals, how\u001b[38;5;241m=\u001b[39m\u001b[38;5;124m'\u001b[39m\u001b[38;5;124minner\u001b[39m\u001b[38;5;124m'\u001b[39m, on\u001b[38;5;241m=\u001b[39m\u001b[38;5;124m'\u001b[39m\u001b[38;5;124mCode\u001b[39m\u001b[38;5;124m'\u001b[39m)\n\u001b[0;32m      9\u001b[0m expenditures_processed[\u001b[38;5;124m'\u001b[39m\u001b[38;5;124mBudget\u001b[39m\u001b[38;5;124m'\u001b[39m] \u001b[38;5;241m/\u001b[39m\u001b[38;5;241m=\u001b[39m expenditures_processed[\u001b[38;5;124m'\u001b[39m\u001b[38;5;124mPopularity\u001b[39m\u001b[38;5;124m'\u001b[39m]\n\u001b[0;32m     10\u001b[0m expenditures_processed \u001b[38;5;241m=\u001b[39m expenditures_processed[[\u001b[38;5;124m'\u001b[39m\u001b[38;5;124mCode\u001b[39m\u001b[38;5;124m'\u001b[39m, \u001b[38;5;124m'\u001b[39m\u001b[38;5;124mBudget\u001b[39m\u001b[38;5;124m'\u001b[39m]]\n",
      "\u001b[1;31mNameError\u001b[0m: name 'absolute_arrivals' is not defined"
     ]
    }
   ],
   "source": [
    "# Compute average over last 5 available years, before COVID restrictions (2020)\n",
    "expenditures_processed = expenditures[expenditures['Year'] < 2020].sort_values(\n",
    "    by='Year', ascending=False).groupby('Code').head(5).groupby(\n",
    "    'Code')['Inbound Tourism Expenditure (adjusted for inflation and cost of living)'].mean().reset_index()\n",
    "# Divide by absolute number of inbound arrivals to get average trip budget\n",
    "expenditures_processed = expenditures_processed.rename(\n",
    "    columns = {\"Inbound Tourism Expenditure (adjusted for inflation and cost of living)\": \"Budget\"})\n",
    "expenditures_processed = pd.merge(expenditures_processed, absolute_arrivals, how='inner', on='Code')\n",
    "expenditures_processed['Budget'] /= expenditures_processed['Popularity']\n",
    "expenditures_processed = expenditures_processed[['Code', 'Budget']]\n",
    "expenditures_processed.to_csv(DATA_PATH + \"processed/budget.csv\")"
   ]
  },
  {
   "cell_type": "code",
   "execution_count": null,
   "id": "29c7a9ab-8a41-45c8-9228-b6546ad404d3",
   "metadata": {},
   "outputs": [],
   "source": [
    "print(expenditures_processed.shape)\n",
    "expenditures_processed.head()"
   ]
  },
  {
   "cell_type": "markdown",
   "id": "475f2275-c53e-4ea8-82df-5ea0fd19f414",
   "metadata": {
    "jp-MarkdownHeadingCollapsed": true
   },
   "source": [
    "#### Hotel occupancy"
   ]
  },
  {
   "cell_type": "code",
   "execution_count": 13,
   "id": "0147c1ba-67df-479d-9957-689851045f3c",
   "metadata": {},
   "outputs": [
    {
     "name": "stdout",
     "output_type": "stream",
     "text": [
      "(2879, 4)\n"
     ]
    },
    {
     "data": {
      "text/html": [
       "<div>\n",
       "<style scoped>\n",
       "    .dataframe tbody tr th:only-of-type {\n",
       "        vertical-align: middle;\n",
       "    }\n",
       "\n",
       "    .dataframe tbody tr th {\n",
       "        vertical-align: top;\n",
       "    }\n",
       "\n",
       "    .dataframe thead th {\n",
       "        text-align: right;\n",
       "    }\n",
       "</style>\n",
       "<table border=\"1\" class=\"dataframe\">\n",
       "  <thead>\n",
       "    <tr style=\"text-align: right;\">\n",
       "      <th></th>\n",
       "      <th>Entity</th>\n",
       "      <th>Code</th>\n",
       "      <th>Year</th>\n",
       "      <th>Foreign guests in tourism accommodation (hotels and similar establishments)</th>\n",
       "    </tr>\n",
       "  </thead>\n",
       "  <tbody>\n",
       "    <tr>\n",
       "      <th>0</th>\n",
       "      <td>Albania</td>\n",
       "      <td>ALB</td>\n",
       "      <td>1995</td>\n",
       "      <td>41000</td>\n",
       "    </tr>\n",
       "    <tr>\n",
       "      <th>1</th>\n",
       "      <td>Albania</td>\n",
       "      <td>ALB</td>\n",
       "      <td>1996</td>\n",
       "      <td>64000</td>\n",
       "    </tr>\n",
       "    <tr>\n",
       "      <th>2</th>\n",
       "      <td>Albania</td>\n",
       "      <td>ALB</td>\n",
       "      <td>1997</td>\n",
       "      <td>23000</td>\n",
       "    </tr>\n",
       "    <tr>\n",
       "      <th>3</th>\n",
       "      <td>Albania</td>\n",
       "      <td>ALB</td>\n",
       "      <td>1998</td>\n",
       "      <td>22000</td>\n",
       "    </tr>\n",
       "    <tr>\n",
       "      <th>4</th>\n",
       "      <td>Albania</td>\n",
       "      <td>ALB</td>\n",
       "      <td>1999</td>\n",
       "      <td>26000</td>\n",
       "    </tr>\n",
       "  </tbody>\n",
       "</table>\n",
       "</div>"
      ],
      "text/plain": [
       "    Entity Code  Year  \\\n",
       "0  Albania  ALB  1995   \n",
       "1  Albania  ALB  1996   \n",
       "2  Albania  ALB  1997   \n",
       "3  Albania  ALB  1998   \n",
       "4  Albania  ALB  1999   \n",
       "\n",
       "   Foreign guests in tourism accommodation (hotels and similar establishments)  \n",
       "0                                              41000                            \n",
       "1                                              64000                            \n",
       "2                                              23000                            \n",
       "3                                              22000                            \n",
       "4                                              26000                            "
      ]
     },
     "execution_count": 13,
     "metadata": {},
     "output_type": "execute_result"
    }
   ],
   "source": [
    "hotels = pd.read_csv(DATA_PATH + \"15-foreign-guests-in-hotels-and-similar-establishments.csv\")\n",
    "print(hotels.shape)\n",
    "hotels.head()"
   ]
  },
  {
   "cell_type": "code",
   "execution_count": 14,
   "id": "37fbeca6-6b41-4971-b2c9-45d5cd75b35e",
   "metadata": {},
   "outputs": [],
   "source": [
    "# Compute average over last 5 available years, before COVID restrictions (2020)\n",
    "hotels_processed = hotels[hotels['Year'] < 2020].sort_values(\n",
    "    by='Year', ascending=False).groupby('Code').head(5).groupby(\n",
    "    'Code')['Foreign guests in tourism accommodation (hotels and similar establishments)'].mean().reset_index()\n",
    "hotels_processed = hotels_processed.rename(\n",
    "    columns = {\"Foreign guests in tourism accommodation (hotels and similar establishments)\": \"Hotel guests\"})\n",
    "hotels_processed[\"Hotel guests\"] = hotels_processed[\"Hotel guests\"].astype(int)\n",
    "hotels_processed.to_csv(DATA_PATH + \"processed/hotels.csv\")"
   ]
  },
  {
   "cell_type": "code",
   "execution_count": 15,
   "id": "aa0b4380-90f7-4aa7-bc2d-8ce079cef6da",
   "metadata": {},
   "outputs": [
    {
     "name": "stdout",
     "output_type": "stream",
     "text": [
      "(139, 2)\n"
     ]
    },
    {
     "data": {
      "text/html": [
       "<div>\n",
       "<style scoped>\n",
       "    .dataframe tbody tr th:only-of-type {\n",
       "        vertical-align: middle;\n",
       "    }\n",
       "\n",
       "    .dataframe tbody tr th {\n",
       "        vertical-align: top;\n",
       "    }\n",
       "\n",
       "    .dataframe thead th {\n",
       "        text-align: right;\n",
       "    }\n",
       "</style>\n",
       "<table border=\"1\" class=\"dataframe\">\n",
       "  <thead>\n",
       "    <tr style=\"text-align: right;\">\n",
       "      <th></th>\n",
       "      <th>Code</th>\n",
       "      <th>Hotel guests</th>\n",
       "    </tr>\n",
       "  </thead>\n",
       "  <tbody>\n",
       "    <tr>\n",
       "      <th>23</th>\n",
       "      <td>CHN</td>\n",
       "      <td>97944800</td>\n",
       "    </tr>\n",
       "    <tr>\n",
       "      <th>124</th>\n",
       "      <td>THA</td>\n",
       "      <td>56006600</td>\n",
       "    </tr>\n",
       "    <tr>\n",
       "      <th>40</th>\n",
       "      <td>ESP</td>\n",
       "      <td>51890400</td>\n",
       "    </tr>\n",
       "    <tr>\n",
       "      <th>63</th>\n",
       "      <td>JPN</td>\n",
       "      <td>51055600</td>\n",
       "    </tr>\n",
       "    <tr>\n",
       "      <th>60</th>\n",
       "      <td>ITA</td>\n",
       "      <td>45213800</td>\n",
       "    </tr>\n",
       "  </tbody>\n",
       "</table>\n",
       "</div>"
      ],
      "text/plain": [
       "    Code  Hotel guests\n",
       "23   CHN      97944800\n",
       "124  THA      56006600\n",
       "40   ESP      51890400\n",
       "63   JPN      51055600\n",
       "60   ITA      45213800"
      ]
     },
     "execution_count": 15,
     "metadata": {},
     "output_type": "execute_result"
    }
   ],
   "source": [
    "print(hotels_processed.shape)\n",
    "hotels_processed.sort_values(by='Hotel guests', ascending=False).head()"
   ]
  },
  {
   "cell_type": "markdown",
   "id": "6aa3109e-5411-48b4-9e98-71a664ba031d",
   "metadata": {
    "jp-MarkdownHeadingCollapsed": true
   },
   "source": [
    "#### UNSECO World Heritage Sites"
   ]
  },
  {
   "cell_type": "code",
   "execution_count": 16,
   "id": "8755c7a4-5573-4180-bb83-1f6dc6fe59ef",
   "metadata": {},
   "outputs": [
    {
     "name": "stdout",
     "output_type": "stream",
     "text": [
      "(1223, 21)\n"
     ]
    },
    {
     "data": {
      "text/html": [
       "<div>\n",
       "<style scoped>\n",
       "    .dataframe tbody tr th:only-of-type {\n",
       "        vertical-align: middle;\n",
       "    }\n",
       "\n",
       "    .dataframe tbody tr th {\n",
       "        vertical-align: top;\n",
       "    }\n",
       "\n",
       "    .dataframe thead th {\n",
       "        text-align: right;\n",
       "    }\n",
       "</style>\n",
       "<table border=\"1\" class=\"dataframe\">\n",
       "  <thead>\n",
       "    <tr style=\"text-align: right;\">\n",
       "      <th></th>\n",
       "      <th>category</th>\n",
       "      <th>criteria_txt</th>\n",
       "      <th>danger</th>\n",
       "      <th>date_inscribed</th>\n",
       "      <th>extension</th>\n",
       "      <th>http_url</th>\n",
       "      <th>id_number</th>\n",
       "      <th>image_url</th>\n",
       "      <th>iso_code</th>\n",
       "      <th>justification</th>\n",
       "      <th>...</th>\n",
       "      <th>location</th>\n",
       "      <th>longitude</th>\n",
       "      <th>region</th>\n",
       "      <th>revision</th>\n",
       "      <th>secondary_dates</th>\n",
       "      <th>short_description</th>\n",
       "      <th>site</th>\n",
       "      <th>states</th>\n",
       "      <th>transboundary</th>\n",
       "      <th>unique_number</th>\n",
       "    </tr>\n",
       "  </thead>\n",
       "  <tbody>\n",
       "    <tr>\n",
       "      <th>0</th>\n",
       "      <td>Natural</td>\n",
       "      <td>(ix)</td>\n",
       "      <td>None</td>\n",
       "      <td>2007</td>\n",
       "      <td>0</td>\n",
       "      <td>https://whc.unesco.org/en/list/1133</td>\n",
       "      <td>1133</td>\n",
       "      <td>https://whc.unesco.org/uploads/sites/site_1133...</td>\n",
       "      <td>al,at,be,ba,bg,hr,cz,fr,de,it,pl,ro,sk,si,es,c...</td>\n",
       "      <td>None</td>\n",
       "      <td>...</td>\n",
       "      <td>None</td>\n",
       "      <td>22.183333</td>\n",
       "      <td>Europe and North America</td>\n",
       "      <td>0</td>\n",
       "      <td>2011,2017,2021</td>\n",
       "      <td>&lt;p&gt;This transnational property includes 93 com...</td>\n",
       "      <td>Ancient and Primeval Beech Forests of the Carp...</td>\n",
       "      <td>Albania,Austria,Belgium,Bosnia and Herzegovina...</td>\n",
       "      <td>1</td>\n",
       "      <td>2513</td>\n",
       "    </tr>\n",
       "    <tr>\n",
       "      <th>1</th>\n",
       "      <td>Mixed</td>\n",
       "      <td>(i)(iii)(iv)(vii)</td>\n",
       "      <td>None</td>\n",
       "      <td>1979</td>\n",
       "      <td>1</td>\n",
       "      <td>https://whc.unesco.org/en/list/99</td>\n",
       "      <td>99</td>\n",
       "      <td>https://whc.unesco.org/uploads/sites/site_99.jpg</td>\n",
       "      <td>al,mk</td>\n",
       "      <td>None</td>\n",
       "      <td>...</td>\n",
       "      <td>Ohrid (municipality)</td>\n",
       "      <td>20.704167</td>\n",
       "      <td>Europe and North America</td>\n",
       "      <td>0</td>\n",
       "      <td>2019,1980</td>\n",
       "      <td>&lt;p&gt;A superlative natural phenomenon, Lake Ohri...</td>\n",
       "      <td>Natural and Cultural Heritage of the Ohrid region</td>\n",
       "      <td>Albania,North Macedonia</td>\n",
       "      <td>1</td>\n",
       "      <td>2313</td>\n",
       "    </tr>\n",
       "    <tr>\n",
       "      <th>2</th>\n",
       "      <td>Cultural</td>\n",
       "      <td>(i)(ii)(vi)</td>\n",
       "      <td>None</td>\n",
       "      <td>2016</td>\n",
       "      <td>0</td>\n",
       "      <td>https://whc.unesco.org/en/list/1321</td>\n",
       "      <td>1321</td>\n",
       "      <td>https://whc.unesco.org/uploads/sites/site_1321...</td>\n",
       "      <td>ar,be,fr,de,in,jp,ch</td>\n",
       "      <td>None</td>\n",
       "      <td>...</td>\n",
       "      <td>None</td>\n",
       "      <td>6.829336</td>\n",
       "      <td>Latin America and the Caribbean</td>\n",
       "      <td>0</td>\n",
       "      <td>None</td>\n",
       "      <td>&lt;p&gt;Chosen from the work of Le Corbusier, the 1...</td>\n",
       "      <td>The Architectural Work of Le Corbusier, an Out...</td>\n",
       "      <td>Argentina,Belgium,France,Germany,India,Japan,S...</td>\n",
       "      <td>1</td>\n",
       "      <td>2085</td>\n",
       "    </tr>\n",
       "    <tr>\n",
       "      <th>3</th>\n",
       "      <td>Cultural</td>\n",
       "      <td>(ii)(iii)(iv)(vi)</td>\n",
       "      <td>None</td>\n",
       "      <td>2014</td>\n",
       "      <td>0</td>\n",
       "      <td>https://whc.unesco.org/en/list/1459</td>\n",
       "      <td>1459</td>\n",
       "      <td>https://whc.unesco.org/uploads/sites/site_1459...</td>\n",
       "      <td>ar,bo,cl,co,ec,pe</td>\n",
       "      <td>None</td>\n",
       "      <td>...</td>\n",
       "      <td>None</td>\n",
       "      <td>-69.591667</td>\n",
       "      <td>Latin America and the Caribbean</td>\n",
       "      <td>0</td>\n",
       "      <td>None</td>\n",
       "      <td>&lt;p&gt;This site is an extensive Inca communicatio...</td>\n",
       "      <td>Qhapaq Ñan, Andean Road System</td>\n",
       "      <td>Argentina,Bolivia (Plurinational State of),Chi...</td>\n",
       "      <td>1</td>\n",
       "      <td>2003</td>\n",
       "    </tr>\n",
       "    <tr>\n",
       "      <th>4</th>\n",
       "      <td>Cultural</td>\n",
       "      <td>(iv)</td>\n",
       "      <td>None</td>\n",
       "      <td>1983</td>\n",
       "      <td>1</td>\n",
       "      <td>https://whc.unesco.org/en/list/275</td>\n",
       "      <td>275</td>\n",
       "      <td>https://whc.unesco.org/uploads/sites/site_275.jpg</td>\n",
       "      <td>ar,br</td>\n",
       "      <td>None</td>\n",
       "      <td>...</td>\n",
       "      <td>State of Rio Grande do Sul, Brazil; Province o...</td>\n",
       "      <td>-54.265833</td>\n",
       "      <td>Latin America and the Caribbean</td>\n",
       "      <td>0</td>\n",
       "      <td>1984</td>\n",
       "      <td>&lt;p&gt;The ruins of São Miguel das Missões in Braz...</td>\n",
       "      <td>Jesuit Missions of the Guaranis: San Ignacio M...</td>\n",
       "      <td>Argentina,Brazil</td>\n",
       "      <td>1</td>\n",
       "      <td>326</td>\n",
       "    </tr>\n",
       "  </tbody>\n",
       "</table>\n",
       "<p>5 rows × 21 columns</p>\n",
       "</div>"
      ],
      "text/plain": [
       "   category       criteria_txt danger  date_inscribed  extension  \\\n",
       "0   Natural               (ix)   None            2007          0   \n",
       "1     Mixed  (i)(iii)(iv)(vii)   None            1979          1   \n",
       "2  Cultural        (i)(ii)(vi)   None            2016          0   \n",
       "3  Cultural  (ii)(iii)(iv)(vi)   None            2014          0   \n",
       "4  Cultural               (iv)   None            1983          1   \n",
       "\n",
       "                              http_url  id_number  \\\n",
       "0  https://whc.unesco.org/en/list/1133       1133   \n",
       "1    https://whc.unesco.org/en/list/99         99   \n",
       "2  https://whc.unesco.org/en/list/1321       1321   \n",
       "3  https://whc.unesco.org/en/list/1459       1459   \n",
       "4   https://whc.unesco.org/en/list/275        275   \n",
       "\n",
       "                                           image_url  \\\n",
       "0  https://whc.unesco.org/uploads/sites/site_1133...   \n",
       "1   https://whc.unesco.org/uploads/sites/site_99.jpg   \n",
       "2  https://whc.unesco.org/uploads/sites/site_1321...   \n",
       "3  https://whc.unesco.org/uploads/sites/site_1459...   \n",
       "4  https://whc.unesco.org/uploads/sites/site_275.jpg   \n",
       "\n",
       "                                            iso_code justification  ...  \\\n",
       "0  al,at,be,ba,bg,hr,cz,fr,de,it,pl,ro,sk,si,es,c...          None  ...   \n",
       "1                                              al,mk          None  ...   \n",
       "2                               ar,be,fr,de,in,jp,ch          None  ...   \n",
       "3                                  ar,bo,cl,co,ec,pe          None  ...   \n",
       "4                                              ar,br          None  ...   \n",
       "\n",
       "                                            location  longitude  \\\n",
       "0                                               None  22.183333   \n",
       "1                               Ohrid (municipality)  20.704167   \n",
       "2                                               None   6.829336   \n",
       "3                                               None -69.591667   \n",
       "4  State of Rio Grande do Sul, Brazil; Province o... -54.265833   \n",
       "\n",
       "                            region revision  secondary_dates  \\\n",
       "0         Europe and North America        0   2011,2017,2021   \n",
       "1         Europe and North America        0        2019,1980   \n",
       "2  Latin America and the Caribbean        0             None   \n",
       "3  Latin America and the Caribbean        0             None   \n",
       "4  Latin America and the Caribbean        0             1984   \n",
       "\n",
       "                                   short_description  \\\n",
       "0  <p>This transnational property includes 93 com...   \n",
       "1  <p>A superlative natural phenomenon, Lake Ohri...   \n",
       "2  <p>Chosen from the work of Le Corbusier, the 1...   \n",
       "3  <p>This site is an extensive Inca communicatio...   \n",
       "4  <p>The ruins of São Miguel das Missões in Braz...   \n",
       "\n",
       "                                                site  \\\n",
       "0  Ancient and Primeval Beech Forests of the Carp...   \n",
       "1  Natural and Cultural Heritage of the Ohrid region   \n",
       "2  The Architectural Work of Le Corbusier, an Out...   \n",
       "3                     Qhapaq Ñan, Andean Road System   \n",
       "4  Jesuit Missions of the Guaranis: San Ignacio M...   \n",
       "\n",
       "                                              states transboundary  \\\n",
       "0  Albania,Austria,Belgium,Bosnia and Herzegovina...             1   \n",
       "1                            Albania,North Macedonia             1   \n",
       "2  Argentina,Belgium,France,Germany,India,Japan,S...             1   \n",
       "3  Argentina,Bolivia (Plurinational State of),Chi...             1   \n",
       "4                                   Argentina,Brazil             1   \n",
       "\n",
       "   unique_number  \n",
       "0           2513  \n",
       "1           2313  \n",
       "2           2085  \n",
       "3           2003  \n",
       "4            326  \n",
       "\n",
       "[5 rows x 21 columns]"
      ]
     },
     "execution_count": 16,
     "metadata": {},
     "output_type": "execute_result"
    }
   ],
   "source": [
    "uwh_sites = pd.read_xml(DATA_PATH + \"whc.unesco.org.xml\")\n",
    "print(uwh_sites.shape)\n",
    "uwh_sites.head()"
   ]
  },
  {
   "cell_type": "code",
   "execution_count": 17,
   "id": "bc67b30c-2f0d-4f9b-bbdb-e6f4bdf3c4ce",
   "metadata": {},
   "outputs": [],
   "source": [
    "import pycountry\n",
    "\n",
    "# Step 1: Copy and preprocess all rows\n",
    "sites = uwh_sites.copy()\n",
    "\n",
    "# Step 2: Split and standardize iso_code\n",
    "sites[\"iso_code\"] = sites[\"iso_code\"].str.lower().str.split(\",\")\n",
    "\n",
    "# Step 3: Explode list to individual codes\n",
    "sites = sites.explode(\"iso_code\")\n",
    "\n",
    "# Step 4: Convert to 3-letter ISO codes using pycountry\n",
    "def convert_to_iso3(code):\n",
    "    try:\n",
    "        return pycountry.countries.get(alpha_2=code.upper()).alpha_3\n",
    "    except:\n",
    "        return None\n",
    "\n",
    "sites[\"Code\"] = sites[\"iso_code\"].apply(convert_to_iso3)\n",
    "\n",
    "# Step 5: Drop rows with failed conversions\n",
    "sites = sites.dropna(subset=[\"Code\"])\n",
    "\n",
    "# Step 6: Create two filtered DataFrames and count\n",
    "natural_counts = (\n",
    "    sites[sites[\"category\"].isin([\"Natural\", \"Mixed\"])][\"Code\"]\n",
    "    .value_counts()\n",
    "    .sort_index()\n",
    "    .reset_index()\n",
    "    .rename(columns={\"index\": \"Code\", \"count\": \"Natural sites\"})\n",
    ")\n",
    "natural_counts.to_csv(DATA_PATH + \"processed/natural_sites.csv\")\n",
    "\n",
    "cultural_counts = (\n",
    "    sites[sites[\"category\"].isin([\"Cultural\", \"Mixed\"])][\"Code\"]\n",
    "    .value_counts()\n",
    "    .sort_index()\n",
    "    .reset_index()\n",
    "    .rename(columns={\"index\": \"Code\", \"count\": \"Cultural sites\"})\n",
    ")\n",
    "cultural_counts.to_csv(DATA_PATH + \"processed/cultural_sites.csv\")"
   ]
  },
  {
   "cell_type": "code",
   "execution_count": 18,
   "id": "c7b1165b-eac8-464a-8f66-a22ecd3f7ca5",
   "metadata": {},
   "outputs": [
    {
     "name": "stdout",
     "output_type": "stream",
     "text": [
      "(114, 2)\n"
     ]
    },
    {
     "data": {
      "text/html": [
       "<div>\n",
       "<style scoped>\n",
       "    .dataframe tbody tr th:only-of-type {\n",
       "        vertical-align: middle;\n",
       "    }\n",
       "\n",
       "    .dataframe tbody tr th {\n",
       "        vertical-align: top;\n",
       "    }\n",
       "\n",
       "    .dataframe thead th {\n",
       "        text-align: right;\n",
       "    }\n",
       "</style>\n",
       "<table border=\"1\" class=\"dataframe\">\n",
       "  <thead>\n",
       "    <tr style=\"text-align: right;\">\n",
       "      <th></th>\n",
       "      <th>Code</th>\n",
       "      <th>Natural sites</th>\n",
       "    </tr>\n",
       "  </thead>\n",
       "  <tbody>\n",
       "    <tr>\n",
       "      <th>19</th>\n",
       "      <td>CHN</td>\n",
       "      <td>19</td>\n",
       "    </tr>\n",
       "    <tr>\n",
       "      <th>2</th>\n",
       "      <td>AUS</td>\n",
       "      <td>16</td>\n",
       "    </tr>\n",
       "    <tr>\n",
       "      <th>106</th>\n",
       "      <td>USA</td>\n",
       "      <td>13</td>\n",
       "    </tr>\n",
       "    <tr>\n",
       "      <th>17</th>\n",
       "      <td>CAN</td>\n",
       "      <td>12</td>\n",
       "    </tr>\n",
       "    <tr>\n",
       "      <th>86</th>\n",
       "      <td>RUS</td>\n",
       "      <td>11</td>\n",
       "    </tr>\n",
       "  </tbody>\n",
       "</table>\n",
       "</div>"
      ],
      "text/plain": [
       "    Code  Natural sites\n",
       "19   CHN             19\n",
       "2    AUS             16\n",
       "106  USA             13\n",
       "17   CAN             12\n",
       "86   RUS             11"
      ]
     },
     "execution_count": 18,
     "metadata": {},
     "output_type": "execute_result"
    }
   ],
   "source": [
    "print(natural_counts.shape)\n",
    "natural_counts.sort_values(by='Natural sites', ascending=False).head()"
   ]
  },
  {
   "cell_type": "code",
   "execution_count": 19,
   "id": "10002771-05a5-4761-8442-8d7e2ce143b0",
   "metadata": {},
   "outputs": [
    {
     "name": "stdout",
     "output_type": "stream",
     "text": [
      "(156, 2)\n"
     ]
    },
    {
     "data": {
      "text/html": [
       "<div>\n",
       "<style scoped>\n",
       "    .dataframe tbody tr th:only-of-type {\n",
       "        vertical-align: middle;\n",
       "    }\n",
       "\n",
       "    .dataframe tbody tr th {\n",
       "        vertical-align: top;\n",
       "    }\n",
       "\n",
       "    .dataframe thead th {\n",
       "        text-align: right;\n",
       "    }\n",
       "</style>\n",
       "<table border=\"1\" class=\"dataframe\">\n",
       "  <thead>\n",
       "    <tr style=\"text-align: right;\">\n",
       "      <th></th>\n",
       "      <th>Code</th>\n",
       "      <th>Cultural sites</th>\n",
       "    </tr>\n",
       "  </thead>\n",
       "  <tbody>\n",
       "    <tr>\n",
       "      <th>66</th>\n",
       "      <td>ITA</td>\n",
       "      <td>54</td>\n",
       "    </tr>\n",
       "    <tr>\n",
       "      <th>34</th>\n",
       "      <td>DEU</td>\n",
       "      <td>51</td>\n",
       "    </tr>\n",
       "    <tr>\n",
       "      <th>41</th>\n",
       "      <td>ESP</td>\n",
       "      <td>46</td>\n",
       "    </tr>\n",
       "    <tr>\n",
       "      <th>46</th>\n",
       "      <td>FRA</td>\n",
       "      <td>46</td>\n",
       "    </tr>\n",
       "    <tr>\n",
       "      <th>26</th>\n",
       "      <td>CHN</td>\n",
       "      <td>44</td>\n",
       "    </tr>\n",
       "  </tbody>\n",
       "</table>\n",
       "</div>"
      ],
      "text/plain": [
       "   Code  Cultural sites\n",
       "66  ITA              54\n",
       "34  DEU              51\n",
       "41  ESP              46\n",
       "46  FRA              46\n",
       "26  CHN              44"
      ]
     },
     "execution_count": 19,
     "metadata": {},
     "output_type": "execute_result"
    }
   ],
   "source": [
    "print(cultural_counts.shape)\n",
    "cultural_counts.sort_values(by='Cultural sites', ascending=False).head()"
   ]
  },
  {
   "cell_type": "markdown",
   "id": "3b4e4b43-1ac6-4d38-a06f-e21840f124f0",
   "metadata": {},
   "source": [
    "#### Country Landmarks"
   ]
  },
  {
   "cell_type": "code",
   "execution_count": 53,
   "id": "a8d382fa-f6d2-43dc-b93b-3d4c0ecb5b0c",
   "metadata": {},
   "outputs": [
    {
     "name": "stderr",
     "output_type": "stream",
     "text": [
      "  2%|▉                                                         | 4/234 [00:02<02:27,  1.56it/s]"
     ]
    },
    {
     "name": "stdout",
     "output_type": "stream",
     "text": [
      "Error with American Samoa: list index out of range\n"
     ]
    },
    {
     "name": "stderr",
     "output_type": "stream",
     "text": [
      "  3%|█▋                                                        | 7/234 [00:04<02:08,  1.77it/s]"
     ]
    },
    {
     "name": "stdout",
     "output_type": "stream",
     "text": [
      "Error with Anguilla: list index out of range\n"
     ]
    },
    {
     "name": "stderr",
     "output_type": "stream",
     "text": [
      " 10%|█████▌                                                   | 23/234 [00:29<03:44,  1.06s/it]"
     ]
    },
    {
     "name": "stdout",
     "output_type": "stream",
     "text": [
      "Error with Bermuda: list index out of range\n"
     ]
    },
    {
     "name": "stderr",
     "output_type": "stream",
     "text": [
      " 10%|█████▊                                                   | 24/234 [00:30<03:19,  1.05it/s]"
     ]
    },
    {
     "name": "stdout",
     "output_type": "stream",
     "text": [
      "Error with Bhutan: list index out of range\n"
     ]
    },
    {
     "name": "stderr",
     "output_type": "stream",
     "text": [
      " 12%|███████                                                  | 29/234 [00:38<05:08,  1.50s/it]"
     ]
    },
    {
     "name": "stdout",
     "output_type": "stream",
     "text": [
      "Error with British Virgin Islands: list index out of range\n"
     ]
    },
    {
     "name": "stderr",
     "output_type": "stream",
     "text": [
      " 19%|██████████▋                                              | 44/234 [01:07<07:36,  2.40s/it]"
     ]
    },
    {
     "name": "stdout",
     "output_type": "stream",
     "text": [
      "Error with Comoros: list index out of range\n"
     ]
    },
    {
     "name": "stderr",
     "output_type": "stream",
     "text": [
      " 19%|██████████▉                                              | 45/234 [01:08<05:42,  1.81s/it]"
     ]
    },
    {
     "name": "stdout",
     "output_type": "stream",
     "text": [
      "Error with Cook Islands: list index out of range\n"
     ]
    },
    {
     "name": "stderr",
     "output_type": "stream",
     "text": [
      " 24%|█████████████▋                                           | 56/234 [01:26<05:40,  1.91s/it]"
     ]
    },
    {
     "name": "stdout",
     "output_type": "stream",
     "text": [
      "Error with DR Congo: list index out of range\n"
     ]
    },
    {
     "name": "stderr",
     "output_type": "stream",
     "text": [
      " 28%|███████████████▊                                         | 65/234 [01:33<01:48,  1.55it/s]"
     ]
    },
    {
     "name": "stdout",
     "output_type": "stream",
     "text": [
      "Error with Falkland Islands: list index out of range\n"
     ]
    },
    {
     "name": "stderr",
     "output_type": "stream",
     "text": [
      " 30%|█████████████████                                        | 70/234 [01:54<11:46,  4.31s/it]"
     ]
    },
    {
     "name": "stdout",
     "output_type": "stream",
     "text": [
      "Error with French Guiana: list index out of range\n"
     ]
    },
    {
     "name": "stderr",
     "output_type": "stream",
     "text": [
      " 30%|█████████████████▎                                       | 71/234 [01:54<08:30,  3.13s/it]"
     ]
    },
    {
     "name": "stdout",
     "output_type": "stream",
     "text": [
      "Error with French Polynesia: list index out of range\n"
     ]
    },
    {
     "name": "stderr",
     "output_type": "stream",
     "text": [
      " 33%|██████████████████▊                                      | 77/234 [02:18<10:05,  3.85s/it]"
     ]
    },
    {
     "name": "stdout",
     "output_type": "stream",
     "text": [
      "Error with Gibraltar: list index out of range\n"
     ]
    },
    {
     "name": "stderr",
     "output_type": "stream",
     "text": [
      " 34%|███████████████████▍                                     | 80/234 [02:21<04:44,  1.85s/it]"
     ]
    },
    {
     "name": "stdout",
     "output_type": "stream",
     "text": [
      "Error with Grenada: list index out of range\n"
     ]
    },
    {
     "name": "stderr",
     "output_type": "stream",
     "text": [
      " 35%|███████████████████▋                                     | 81/234 [02:21<03:41,  1.45s/it]"
     ]
    },
    {
     "name": "stdout",
     "output_type": "stream",
     "text": [
      "Error with Guadeloupe: list index out of range\n"
     ]
    },
    {
     "name": "stderr",
     "output_type": "stream",
     "text": [
      " 35%|███████████████████▉                                     | 82/234 [02:22<02:59,  1.18s/it]"
     ]
    },
    {
     "name": "stdout",
     "output_type": "stream",
     "text": [
      "Error with Guam: list index out of range\n"
     ]
    },
    {
     "name": "stderr",
     "output_type": "stream",
     "text": [
      " 46%|█████████████████████████▊                              | 108/234 [03:11<01:50,  1.14it/s]"
     ]
    },
    {
     "name": "stdout",
     "output_type": "stream",
     "text": [
      "Error with Kiribati: list index out of range\n"
     ]
    },
    {
     "name": "stderr",
     "output_type": "stream",
     "text": [
      " 49%|███████████████████████████▎                            | 114/234 [03:17<01:59,  1.01it/s]"
     ]
    },
    {
     "name": "stdout",
     "output_type": "stream",
     "text": [
      "Error with Lesotho: list index out of range\n"
     ]
    },
    {
     "name": "stderr",
     "output_type": "stream",
     "text": [
      " 51%|████████████████████████████▋                           | 120/234 [03:22<01:37,  1.17it/s]"
     ]
    },
    {
     "name": "stdout",
     "output_type": "stream",
     "text": [
      "Error with Macau: list index out of range\n"
     ]
    },
    {
     "name": "stderr",
     "output_type": "stream",
     "text": [
      " 54%|██████████████████████████████▍                         | 127/234 [03:29<01:23,  1.27it/s]"
     ]
    },
    {
     "name": "stdout",
     "output_type": "stream",
     "text": [
      "Error with Marshall Islands: list index out of range\n"
     ]
    },
    {
     "name": "stderr",
     "output_type": "stream",
     "text": [
      " 55%|██████████████████████████████▋                         | 128/234 [03:29<01:09,  1.52it/s]"
     ]
    },
    {
     "name": "stdout",
     "output_type": "stream",
     "text": [
      "Error with Martinique: list index out of range\n"
     ]
    },
    {
     "name": "stderr",
     "output_type": "stream",
     "text": [
      " 56%|███████████████████████████████▎                        | 131/234 [03:31<00:54,  1.89it/s]"
     ]
    },
    {
     "name": "stdout",
     "output_type": "stream",
     "text": [
      "Error with Mayotte: list index out of range\n"
     ]
    },
    {
     "name": "stderr",
     "output_type": "stream",
     "text": [
      " 59%|█████████████████████████████████                       | 138/234 [03:39<01:11,  1.34it/s]"
     ]
    },
    {
     "name": "stdout",
     "output_type": "stream",
     "text": [
      "Error with Montserrat: list index out of range\n"
     ]
    },
    {
     "name": "stderr",
     "output_type": "stream",
     "text": [
      " 61%|██████████████████████████████████▏                     | 143/234 [03:43<01:03,  1.43it/s]"
     ]
    },
    {
     "name": "stdout",
     "output_type": "stream",
     "text": [
      "Error with Nauru: list index out of range\n"
     ]
    },
    {
     "name": "stderr",
     "output_type": "stream",
     "text": [
      " 62%|██████████████████████████████████▋                     | 145/234 [03:44<01:05,  1.36it/s]"
     ]
    },
    {
     "name": "stdout",
     "output_type": "stream",
     "text": [
      "Error with Netherlands: list index out of range\n"
     ]
    },
    {
     "name": "stderr",
     "output_type": "stream",
     "text": [
      " 62%|██████████████████████████████████▉                     | 146/234 [03:45<00:55,  1.58it/s]"
     ]
    },
    {
     "name": "stdout",
     "output_type": "stream",
     "text": [
      "Error with New Caledonia: list index out of range\n"
     ]
    },
    {
     "name": "stderr",
     "output_type": "stream",
     "text": [
      " 65%|████████████████████████████████████▏                   | 151/234 [03:55<02:25,  1.76s/it]"
     ]
    },
    {
     "name": "stdout",
     "output_type": "stream",
     "text": [
      "Error with Niue: list index out of range\n"
     ]
    },
    {
     "name": "stderr",
     "output_type": "stream",
     "text": [
      " 66%|████████████████████████████████████▊                   | 154/234 [03:57<01:16,  1.05it/s]"
     ]
    },
    {
     "name": "stdout",
     "output_type": "stream",
     "text": [
      "Error with Northern Mariana Islands: list index out of range\n"
     ]
    },
    {
     "name": "stderr",
     "output_type": "stream",
     "text": [
      " 73%|████████████████████████████████████████▋               | 170/234 [04:22<00:55,  1.15it/s]"
     ]
    },
    {
     "name": "stdout",
     "output_type": "stream",
     "text": [
      "Error with Reunion: list index out of range\n"
     ]
    },
    {
     "name": "stderr",
     "output_type": "stream",
     "text": [
      " 74%|█████████████████████████████████████████▍              | 173/234 [04:34<02:37,  2.58s/it]"
     ]
    },
    {
     "name": "stdout",
     "output_type": "stream",
     "text": [
      "Error with Rwanda: list index out of range\n"
     ]
    },
    {
     "name": "stderr",
     "output_type": "stream",
     "text": [
      " 74%|█████████████████████████████████████████▋              | 174/234 [04:34<01:54,  1.91s/it]"
     ]
    },
    {
     "name": "stdout",
     "output_type": "stream",
     "text": [
      "Error with Saint Barthelemy: list index out of range\n"
     ]
    },
    {
     "name": "stderr",
     "output_type": "stream",
     "text": [
      " 76%|██████████████████████████████████████████▎             | 177/234 [04:35<00:54,  1.04it/s]"
     ]
    },
    {
     "name": "stdout",
     "output_type": "stream",
     "text": [
      "Error with Saint Martin: list index out of range\n"
     ]
    },
    {
     "name": "stderr",
     "output_type": "stream",
     "text": [
      " 76%|██████████████████████████████████████████▌             | 178/234 [04:36<00:43,  1.28it/s]"
     ]
    },
    {
     "name": "stdout",
     "output_type": "stream",
     "text": [
      "Error with Saint Pierre and Miquelon: list index out of range\n"
     ]
    },
    {
     "name": "stderr",
     "output_type": "stream",
     "text": [
      " 82%|█████████████████████████████████████████████▉          | 192/234 [04:46<00:44,  1.07s/it]"
     ]
    },
    {
     "name": "stdout",
     "output_type": "stream",
     "text": [
      "Error with Solomon Islands: list index out of range\n"
     ]
    },
    {
     "name": "stderr",
     "output_type": "stream",
     "text": [
      " 84%|██████████████████████████████████████████████▉         | 196/234 [04:52<00:46,  1.23s/it]"
     ]
    },
    {
     "name": "stdout",
     "output_type": "stream",
     "text": [
      "Error with South Sudan: list index out of range\n"
     ]
    },
    {
     "name": "stderr",
     "output_type": "stream",
     "text": [
      " 90%|██████████████████████████████████████████████████▎     | 210/234 [05:33<00:23,  1.04it/s]"
     ]
    },
    {
     "name": "stdout",
     "output_type": "stream",
     "text": [
      "Error with Tokelau: list index out of range\n"
     ]
    },
    {
     "name": "stderr",
     "output_type": "stream",
     "text": [
      " 90%|██████████████████████████████████████████████████▍     | 211/234 [05:34<00:18,  1.24it/s]"
     ]
    },
    {
     "name": "stdout",
     "output_type": "stream",
     "text": [
      "Error with Tonga: list index out of range\n"
     ]
    },
    {
     "name": "stderr",
     "output_type": "stream",
     "text": [
      " 92%|███████████████████████████████████████████████████▋    | 216/234 [05:40<00:19,  1.09s/it]"
     ]
    },
    {
     "name": "stdout",
     "output_type": "stream",
     "text": [
      "Error with Turks and Caicos Islands: list index out of range\n"
     ]
    },
    {
     "name": "stderr",
     "output_type": "stream",
     "text": [
      " 93%|███████████████████████████████████████████████████▉    | 217/234 [05:41<00:14,  1.14it/s]"
     ]
    },
    {
     "name": "stdout",
     "output_type": "stream",
     "text": [
      "Error with Tuvalu: list index out of range\n"
     ]
    },
    {
     "name": "stderr",
     "output_type": "stream",
     "text": [
      " 95%|█████████████████████████████████████████████████████▎  | 223/234 [06:36<01:51, 10.16s/it]"
     ]
    },
    {
     "name": "stdout",
     "output_type": "stream",
     "text": [
      "Error with United States Virgin Islands: list index out of range\n"
     ]
    },
    {
     "name": "stderr",
     "output_type": "stream",
     "text": [
      " 98%|███████████████████████████████████████████████████████ | 230/234 [06:41<00:06,  1.51s/it]"
     ]
    },
    {
     "name": "stdout",
     "output_type": "stream",
     "text": [
      "Error with Wallis and Futuna: list index out of range\n"
     ]
    },
    {
     "name": "stderr",
     "output_type": "stream",
     "text": [
      " 99%|███████████████████████████████████████████████████████▎| 231/234 [06:42<00:03,  1.18s/it]"
     ]
    },
    {
     "name": "stdout",
     "output_type": "stream",
     "text": [
      "Error with Western Sahara: list index out of range\n"
     ]
    },
    {
     "name": "stderr",
     "output_type": "stream",
     "text": [
      "100%|████████████████████████████████████████████████████████| 234/234 [06:44<00:00,  1.73s/it]\n"
     ]
    }
   ],
   "source": [
    "from SPARQLWrapper import SPARQLWrapper, JSON\n",
    "import pandas as pd\n",
    "from tqdm import tqdm\n",
    "\n",
    "# Initialize SPARQL wrapper\n",
    "sparql = SPARQLWrapper(\"https://query.wikidata.org/sparql\")\n",
    "sparql.setReturnFormat(JSON)\n",
    "\n",
    "# Example input\n",
    "# world_pop = pd.read_csv(\"your_data.csv\")  # columns: Code, Country/Territory\n",
    "\n",
    "# Helper: Get QID of a country by its ISO code\n",
    "def get_qid_from_iso3(iso3_code):\n",
    "    query = f\"\"\"\n",
    "    SELECT ?country WHERE {{\n",
    "      ?country wdt:P298 \"{iso3_code}\".\n",
    "    }}\n",
    "    LIMIT 1\n",
    "    \"\"\"\n",
    "    sparql.setQuery(query)\n",
    "    results = sparql.query().convert()\n",
    "    bindings = results['results']['bindings']\n",
    "    return bindings[0]['country']['value'].split('/')[-1] if bindings is not None else None\n",
    "\n",
    "# Helper: Get landmark image from QID\n",
    "def get_iconic_landmark_image(country_qid):\n",
    "    query = f\"\"\"\n",
    "    SELECT ?landmarkLabel ?image WHERE {{\n",
    "      ?landmark wdt:P17 wd:{country_qid}.\n",
    "      ?landmark wdt:P18 ?image.\n",
    "      ?landmark wdt:P31 ?type.\n",
    "      FILTER(?type IN (\n",
    "        wd:Q570116,   # tourist attraction\n",
    "        wd:Q839954,   # cultural property\n",
    "        wd:Q41176,    # building\n",
    "        wd:Q488383    # geographical feature\n",
    "      ))\n",
    "      SERVICE wikibase:label {{ bd:serviceParam wikibase:language \"en\". }}\n",
    "    }}\n",
    "    LIMIT 1\n",
    "    \"\"\"\n",
    "    sparql.setQuery(query)\n",
    "    results = sparql.query().convert()\n",
    "    bindings = results[\"results\"][\"bindings\"]\n",
    "    return bindings[0][\"image\"][\"value\"] if bindings is not None else None\n",
    "\n",
    "# Final DataFrame\n",
    "results = []\n",
    "\n",
    "for _, row in tqdm(world_pop.iterrows(), total=len(world_pop)):\n",
    "    code = row[\"Code\"]\n",
    "    country_name = row[\"Country/Territory\"]\n",
    "    try:\n",
    "        qid = get_qid_from_iso3(code)\n",
    "        if qid is not None:\n",
    "            img_url = get_iconic_landmark_image(qid)\n",
    "            if img_url is not None:\n",
    "                results.append({\"Code\": code, \"Country/Territory\": country_name, \"Image URL\": img_url})\n",
    "    except Exception as e:\n",
    "        print(f\"Error with {country_name}: {e}\")\n",
    "\n",
    "landmark_df = pd.DataFrame(results)"
   ]
  },
  {
   "cell_type": "code",
   "execution_count": 57,
   "id": "e78d7cf7-9bb0-4fb7-a0d3-a6d1051a12c1",
   "metadata": {},
   "outputs": [
    {
     "name": "stdout",
     "output_type": "stream",
     "text": [
      "(193, 3)\n"
     ]
    },
    {
     "data": {
      "text/html": [
       "<div>\n",
       "<style scoped>\n",
       "    .dataframe tbody tr th:only-of-type {\n",
       "        vertical-align: middle;\n",
       "    }\n",
       "\n",
       "    .dataframe tbody tr th {\n",
       "        vertical-align: top;\n",
       "    }\n",
       "\n",
       "    .dataframe thead th {\n",
       "        text-align: right;\n",
       "    }\n",
       "</style>\n",
       "<table border=\"1\" class=\"dataframe\">\n",
       "  <thead>\n",
       "    <tr style=\"text-align: right;\">\n",
       "      <th></th>\n",
       "      <th>Code</th>\n",
       "      <th>Country</th>\n",
       "      <th>Image URL</th>\n",
       "    </tr>\n",
       "  </thead>\n",
       "  <tbody>\n",
       "    <tr>\n",
       "      <th>0</th>\n",
       "      <td>AFG</td>\n",
       "      <td>Afghanistan</td>\n",
       "      <td>http://commons.wikimedia.org/wiki/Special:File...</td>\n",
       "    </tr>\n",
       "    <tr>\n",
       "      <th>1</th>\n",
       "      <td>ALB</td>\n",
       "      <td>Albania</td>\n",
       "      <td>http://commons.wikimedia.org/wiki/Special:File...</td>\n",
       "    </tr>\n",
       "    <tr>\n",
       "      <th>2</th>\n",
       "      <td>DZA</td>\n",
       "      <td>Algeria</td>\n",
       "      <td>http://commons.wikimedia.org/wiki/Special:File...</td>\n",
       "    </tr>\n",
       "    <tr>\n",
       "      <th>3</th>\n",
       "      <td>AND</td>\n",
       "      <td>Andorra</td>\n",
       "      <td>http://commons.wikimedia.org/wiki/Special:File...</td>\n",
       "    </tr>\n",
       "    <tr>\n",
       "      <th>4</th>\n",
       "      <td>AGO</td>\n",
       "      <td>Angola</td>\n",
       "      <td>http://commons.wikimedia.org/wiki/Special:File...</td>\n",
       "    </tr>\n",
       "  </tbody>\n",
       "</table>\n",
       "</div>"
      ],
      "text/plain": [
       "  Code      Country                                          Image URL\n",
       "0  AFG  Afghanistan  http://commons.wikimedia.org/wiki/Special:File...\n",
       "1  ALB      Albania  http://commons.wikimedia.org/wiki/Special:File...\n",
       "2  DZA      Algeria  http://commons.wikimedia.org/wiki/Special:File...\n",
       "3  AND      Andorra  http://commons.wikimedia.org/wiki/Special:File...\n",
       "4  AGO       Angola  http://commons.wikimedia.org/wiki/Special:File..."
      ]
     },
     "execution_count": 57,
     "metadata": {},
     "output_type": "execute_result"
    }
   ],
   "source": [
    "landmark_df = landmark_df.rename(columns={\"Country/Territory\": \"Country\"})\n",
    "print(landmark_df.shape)\n",
    "landmark_df.head()"
   ]
  },
  {
   "cell_type": "code",
   "execution_count": 60,
   "id": "f99c656d-fe17-466b-8b52-7a084682cb24",
   "metadata": {},
   "outputs": [],
   "source": [
    "landmark_df.to_csv(DATA_PATH + \"processed/country_landmarks.csv\")"
   ]
  },
  {
   "cell_type": "code",
   "execution_count": null,
   "id": "3e80d6c6-1030-436f-aa77-d71306787473",
   "metadata": {},
   "outputs": [],
   "source": []
  }
 ],
 "metadata": {
  "kernelspec": {
   "display_name": "Python 3 (ipykernel)",
   "language": "python",
   "name": "python3"
  },
  "language_info": {
   "codemirror_mode": {
    "name": "ipython",
    "version": 3
   },
   "file_extension": ".py",
   "mimetype": "text/x-python",
   "name": "python",
   "nbconvert_exporter": "python",
   "pygments_lexer": "ipython3",
   "version": "3.11.4"
  }
 },
 "nbformat": 4,
 "nbformat_minor": 5
}
